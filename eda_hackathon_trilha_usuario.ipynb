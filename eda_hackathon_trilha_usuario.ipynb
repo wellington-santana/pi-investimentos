{
 "cells": [
  {
   "cell_type": "markdown",
   "metadata": {
    "colab_type": "text",
    "id": "2Uu7wrHv00fX"
   },
   "source": [
    "# Setup\n",
    "\n",
    "Realize o setup para inicializar as variáveis e funções essenciais do notebook"
   ]
  },
  {
   "cell_type": "markdown",
   "metadata": {
    "colab_type": "text",
    "id": "xobYGG8KxiOf"
   },
   "source": [
    "## Instalações"
   ]
  },
  {
   "cell_type": "code",
   "execution_count": 1,
   "metadata": {
    "colab": {
     "base_uri": "https://localhost:8080/",
     "height": 1000
    },
    "colab_type": "code",
    "id": "wVH_F6L-xlQL",
    "outputId": "285ab4d4-9d42-4e79-adc8-7435282ac69f"
   },
   "outputs": [
    {
     "name": "stdout",
     "output_type": "stream",
     "text": [
      "Requirement already satisfied: tensorflow==2.1.0 in /home/wellington/anaconda3/lib/python3.7/site-packages (2.1.0)\n",
      "Requirement already satisfied: protobuf>=3.8.0 in /home/wellington/anaconda3/lib/python3.7/site-packages (from tensorflow==2.1.0) (3.10.0)\n",
      "Requirement already satisfied: tensorflow-estimator<2.2.0,>=2.1.0rc0 in /home/wellington/anaconda3/lib/python3.7/site-packages (from tensorflow==2.1.0) (2.1.0)\n",
      "Requirement already satisfied: six>=1.12.0 in /home/wellington/anaconda3/lib/python3.7/site-packages (from tensorflow==2.1.0) (1.12.0)\n",
      "Requirement already satisfied: keras-applications>=1.0.8 in /home/wellington/anaconda3/lib/python3.7/site-packages (from tensorflow==2.1.0) (1.0.8)\n",
      "Requirement already satisfied: scipy==1.4.1; python_version >= \"3\" in /home/wellington/anaconda3/lib/python3.7/site-packages (from tensorflow==2.1.0) (1.4.1)\n",
      "Requirement already satisfied: astor>=0.6.0 in /home/wellington/anaconda3/lib/python3.7/site-packages (from tensorflow==2.1.0) (0.8.0)\n",
      "Requirement already satisfied: google-pasta>=0.1.6 in /home/wellington/anaconda3/lib/python3.7/site-packages (from tensorflow==2.1.0) (0.1.8)\n",
      "Requirement already satisfied: gast==0.2.2 in /home/wellington/anaconda3/lib/python3.7/site-packages (from tensorflow==2.1.0) (0.2.2)\n",
      "Requirement already satisfied: numpy<2.0,>=1.16.0 in /home/wellington/anaconda3/lib/python3.7/site-packages (from tensorflow==2.1.0) (1.17.2)\n",
      "Requirement already satisfied: absl-py>=0.7.0 in /home/wellington/anaconda3/lib/python3.7/site-packages (from tensorflow==2.1.0) (0.8.1)\n",
      "Requirement already satisfied: opt-einsum>=2.3.2 in /home/wellington/anaconda3/lib/python3.7/site-packages (from tensorflow==2.1.0) (3.1.0)\n",
      "Requirement already satisfied: tensorboard<2.2.0,>=2.1.0 in /home/wellington/anaconda3/lib/python3.7/site-packages (from tensorflow==2.1.0) (2.1.1)\n",
      "Requirement already satisfied: wrapt>=1.11.1 in /home/wellington/anaconda3/lib/python3.7/site-packages (from tensorflow==2.1.0) (1.11.2)\n",
      "Requirement already satisfied: wheel>=0.26; python_version >= \"3\" in /home/wellington/anaconda3/lib/python3.7/site-packages (from tensorflow==2.1.0) (0.33.6)\n",
      "Requirement already satisfied: keras-preprocessing>=1.1.0 in /home/wellington/anaconda3/lib/python3.7/site-packages (from tensorflow==2.1.0) (1.1.0)\n",
      "Requirement already satisfied: grpcio>=1.8.6 in /home/wellington/anaconda3/lib/python3.7/site-packages (from tensorflow==2.1.0) (1.25.0)\n",
      "Requirement already satisfied: termcolor>=1.1.0 in /home/wellington/anaconda3/lib/python3.7/site-packages (from tensorflow==2.1.0) (1.1.0)\n",
      "Requirement already satisfied: setuptools in /home/wellington/anaconda3/lib/python3.7/site-packages (from protobuf>=3.8.0->tensorflow==2.1.0) (41.4.0)\n",
      "Requirement already satisfied: h5py in /home/wellington/anaconda3/lib/python3.7/site-packages (from keras-applications>=1.0.8->tensorflow==2.1.0) (2.9.0)\n",
      "Requirement already satisfied: werkzeug>=0.11.15 in /home/wellington/anaconda3/lib/python3.7/site-packages (from tensorboard<2.2.0,>=2.1.0->tensorflow==2.1.0) (0.16.0)\n",
      "Requirement already satisfied: requests<3,>=2.21.0 in /home/wellington/anaconda3/lib/python3.7/site-packages (from tensorboard<2.2.0,>=2.1.0->tensorflow==2.1.0) (2.22.0)\n",
      "Requirement already satisfied: google-auth-oauthlib<0.5,>=0.4.1 in /home/wellington/anaconda3/lib/python3.7/site-packages (from tensorboard<2.2.0,>=2.1.0->tensorflow==2.1.0) (0.4.1)\n",
      "Requirement already satisfied: google-auth<2,>=1.6.3 in /home/wellington/anaconda3/lib/python3.7/site-packages (from tensorboard<2.2.0,>=2.1.0->tensorflow==2.1.0) (1.7.1)\n",
      "Requirement already satisfied: markdown>=2.6.8 in /home/wellington/anaconda3/lib/python3.7/site-packages (from tensorboard<2.2.0,>=2.1.0->tensorflow==2.1.0) (3.1.1)\n",
      "Requirement already satisfied: certifi>=2017.4.17 in /home/wellington/anaconda3/lib/python3.7/site-packages (from requests<3,>=2.21.0->tensorboard<2.2.0,>=2.1.0->tensorflow==2.1.0) (2019.9.11)\n",
      "Requirement already satisfied: idna<2.9,>=2.5 in /home/wellington/anaconda3/lib/python3.7/site-packages (from requests<3,>=2.21.0->tensorboard<2.2.0,>=2.1.0->tensorflow==2.1.0) (2.8)\n",
      "Requirement already satisfied: chardet<3.1.0,>=3.0.2 in /home/wellington/anaconda3/lib/python3.7/site-packages (from requests<3,>=2.21.0->tensorboard<2.2.0,>=2.1.0->tensorflow==2.1.0) (3.0.4)\n",
      "Requirement already satisfied: urllib3!=1.25.0,!=1.25.1,<1.26,>=1.21.1 in /home/wellington/anaconda3/lib/python3.7/site-packages (from requests<3,>=2.21.0->tensorboard<2.2.0,>=2.1.0->tensorflow==2.1.0) (1.24.2)\n",
      "Requirement already satisfied: requests-oauthlib>=0.7.0 in /home/wellington/anaconda3/lib/python3.7/site-packages (from google-auth-oauthlib<0.5,>=0.4.1->tensorboard<2.2.0,>=2.1.0->tensorflow==2.1.0) (1.3.0)\n",
      "Requirement already satisfied: rsa<4.1,>=3.1.4 in /home/wellington/anaconda3/lib/python3.7/site-packages (from google-auth<2,>=1.6.3->tensorboard<2.2.0,>=2.1.0->tensorflow==2.1.0) (4.0)\n",
      "Requirement already satisfied: cachetools<3.2,>=2.0.0 in /home/wellington/anaconda3/lib/python3.7/site-packages (from google-auth<2,>=1.6.3->tensorboard<2.2.0,>=2.1.0->tensorflow==2.1.0) (3.1.1)\n",
      "Requirement already satisfied: pyasn1-modules>=0.2.1 in /home/wellington/anaconda3/lib/python3.7/site-packages (from google-auth<2,>=1.6.3->tensorboard<2.2.0,>=2.1.0->tensorflow==2.1.0) (0.2.7)\n",
      "Requirement already satisfied: oauthlib>=3.0.0 in /home/wellington/anaconda3/lib/python3.7/site-packages (from requests-oauthlib>=0.7.0->google-auth-oauthlib<0.5,>=0.4.1->tensorboard<2.2.0,>=2.1.0->tensorflow==2.1.0) (3.1.0)\n",
      "Requirement already satisfied: pyasn1>=0.1.3 in /home/wellington/anaconda3/lib/python3.7/site-packages (from rsa<4.1,>=3.1.4->google-auth<2,>=1.6.3->tensorboard<2.2.0,>=2.1.0->tensorflow==2.1.0) (0.4.8)\n"
     ]
    }
   ],
   "source": [
    "!pip install tensorflow==2.1.0"
   ]
  },
  {
   "cell_type": "markdown",
   "metadata": {
    "colab_type": "text",
    "id": "it19Sx551GUR"
   },
   "source": [
    "## Importação das bibliotecas"
   ]
  },
  {
   "cell_type": "code",
   "execution_count": 15,
   "metadata": {
    "colab": {},
    "colab_type": "code",
    "id": "FMonptBA1KuV"
   },
   "outputs": [],
   "source": [
    "#Utils\n",
    "import numpy as np\n",
    "import pandas as pd\n",
    "import datetime\n",
    "from warnings import filterwarnings\n",
    "#Scikit Learn\n",
    "import sklearn\n",
    "from sklearn.utils import class_weight\n",
    "from sklearn.cluster import KMeans, SpectralClustering\n",
    "from sklearn.preprocessing import StandardScaler\n",
    "from sklearn.metrics import silhouette_samples, silhouette_score\n",
    "from sklearn.decomposition import PCA\n",
    "#Exibição na mesma tela do Jupyter\n",
    "#Chart\n",
    "import matplotlib.pyplot as plt\n",
    "import seaborn as sns\n",
    "#TensorFlow\n",
    "import tensorflow as tf"
   ]
  },
  {
   "cell_type": "markdown",
   "metadata": {},
   "source": [
    "## Inicializadores"
   ]
  },
  {
   "cell_type": "code",
   "execution_count": 3,
   "metadata": {},
   "outputs": [],
   "source": [
    "%matplotlib inline\n",
    "%load_ext tensorboard\n",
    "\n",
    "sns.set_context('notebook')\n",
    "plt.style.use('fivethirtyeight')\n",
    "\n",
    "filterwarnings('ignore')"
   ]
  },
  {
   "cell_type": "markdown",
   "metadata": {
    "colab_type": "text",
    "id": "vLl4S_DE1QHT"
   },
   "source": [
    "## Inicialização dos DataSets"
   ]
  },
  {
   "cell_type": "code",
   "execution_count": 4,
   "metadata": {
    "colab": {},
    "colab_type": "code",
    "id": "G2voCiNn1PNr"
   },
   "outputs": [],
   "source": [
    "dfPerfil = pd.read_csv('lib/datasets/Dataset-1.csv', low_memory=False)\n",
    "dfPerfil2 = pd.read_csv('lib/datasets/Dataset-1-V2.csv', low_memory=False)\n",
    "dfAcesso = pd.read_csv('lib/datasets/Dataset-2.csv', low_memory=False)\n",
    "dfProduto = pd.read_csv('lib/datasets/Dataset-3.csv', low_memory=False)"
   ]
  },
  {
   "cell_type": "markdown",
   "metadata": {
    "colab_type": "text",
    "id": "l8VtE8Zgw8Y4"
   },
   "source": [
    "## Funções"
   ]
  },
  {
   "cell_type": "code",
   "execution_count": 231,
   "metadata": {
    "colab": {},
    "colab_type": "code",
    "id": "g1zorOGPw-2i"
   },
   "outputs": [],
   "source": [
    "def removeOutlierByQuartiles(dataFrame, columnName, inplace = True):\n",
    "\n",
    "  Q1 = dataFrame[columnName].quantile(0.25)\n",
    "  Q3 = dataFrame[columnName].quantile(0.75)\n",
    "  IQR = Q3 - Q1\n",
    "\n",
    "  outliers = dataFrame[columnName][~((dataFrame[columnName] > (Q1 - 1.5 * IQR)) & (dataFrame[columnName] < (Q3 + 1.5 * IQR)))]\n",
    "  dataFrame.drop(index=outliers.index, inplace=inplace)\n",
    "\n",
    "def getProdutoId(dictProducts, searchName=''):\n",
    "  for key, value in dictProducts.items():\n",
    "    if value == searchName.lower():\n",
    "      return key\n",
    "  return 0\n",
    "\n",
    "def getProdutoIdFromOneHotEncoded(dictProducts, dictProductsOneHotEncoded, seachOneHotEncodedId):\n",
    "  for key, value in dictProductsOneHotEncoded.items():\n",
    "    if value == seachOneHotEncodedId:\n",
    "      return dictProductsOneHotEncoded[key]\n",
    "  return 0\n",
    "\n",
    "def getOneHotEncodedByProdutcName(dictProducts, dictProductsOneHotEncoded, seachProductName):\n",
    "  for key, value in dictProducts.items():\n",
    "    if value == seachProductName.lower():\n",
    "      return dictProductsOneHotEncoded[key]\n",
    "  return 0\n",
    "\n",
    "def getClusterByProduto(data):\n",
    "    dfProdutoClusterReduzido = pca.transform(data)\n",
    "    return kmeans.predict(dfProdutoClusterReduzido)\n"
   ]
  },
  {
   "cell_type": "markdown",
   "metadata": {
    "colab_type": "text",
    "id": "yjYPsdEv5cCR"
   },
   "source": [
    "# Dataset Perfil - Exploração inicial"
   ]
  },
  {
   "cell_type": "markdown",
   "metadata": {
    "colab_type": "text",
    "id": "1gz5AHg471-H"
   },
   "source": [
    "## Amostra"
   ]
  },
  {
   "cell_type": "code",
   "execution_count": 9,
   "metadata": {
    "colab": {
     "base_uri": "https://localhost:8080/",
     "height": 678
    },
    "colab_type": "code",
    "id": "kJ9FKFgX5k5D",
    "outputId": "881aa5a7-2b93-49ef-f836-1366c98a02d7"
   },
   "outputs": [
    {
     "data": {
      "text/html": [
       "<div>\n",
       "<style scoped>\n",
       "    .dataframe tbody tr th:only-of-type {\n",
       "        vertical-align: middle;\n",
       "    }\n",
       "\n",
       "    .dataframe tbody tr th {\n",
       "        vertical-align: top;\n",
       "    }\n",
       "\n",
       "    .dataframe thead th {\n",
       "        text-align: right;\n",
       "    }\n",
       "</style>\n",
       "<table border=\"1\" class=\"dataframe\">\n",
       "  <thead>\n",
       "    <tr style=\"text-align: right;\">\n",
       "      <th></th>\n",
       "      <th>Unnamed: 0</th>\n",
       "      <th>Id</th>\n",
       "      <th>Idade</th>\n",
       "      <th>EstadoCivil</th>\n",
       "      <th>BillingCity</th>\n",
       "      <th>NivelConhecimentoAtual</th>\n",
       "      <th>ScoreNivelConhecimento</th>\n",
       "      <th>PerfilInvestidor</th>\n",
       "      <th>RendaMensal</th>\n",
       "      <th>ValorPatrimonio</th>\n",
       "      <th>...</th>\n",
       "      <th>ValorMinimoAplicacaoAdicional</th>\n",
       "      <th>DataVencimento</th>\n",
       "      <th>FamiliaCarteira</th>\n",
       "      <th>ValorInvestidoAtual</th>\n",
       "      <th>ValorRendimento</th>\n",
       "      <th>Rentabilidade12Meses</th>\n",
       "      <th>RentabilidadeMes</th>\n",
       "      <th>RiscoAtivo</th>\n",
       "      <th>Status</th>\n",
       "      <th>ProdutoId</th>\n",
       "    </tr>\n",
       "  </thead>\n",
       "  <tbody>\n",
       "    <tr>\n",
       "      <td>0</td>\n",
       "      <td>0</td>\n",
       "      <td>$2b$10$.DCvvJ9WSDpqVP2xXjeSPe9yBilu2JVQh2nFTHN...</td>\n",
       "      <td>30</td>\n",
       "      <td>M</td>\n",
       "      <td>Aracruz</td>\n",
       "      <td>1.0</td>\n",
       "      <td>1.0</td>\n",
       "      <td>2</td>\n",
       "      <td>1300.0</td>\n",
       "      <td>6000.0</td>\n",
       "      <td>...</td>\n",
       "      <td>30.0</td>\n",
       "      <td>NaN</td>\n",
       "      <td>Renda Fixa</td>\n",
       "      <td>30.0</td>\n",
       "      <td>NaN</td>\n",
       "      <td>0.0</td>\n",
       "      <td>0.37005375</td>\n",
       "      <td>1.0</td>\n",
       "      <td>Efetivada</td>\n",
       "      <td>a0W6A000009GZdgUAG</td>\n",
       "    </tr>\n",
       "    <tr>\n",
       "      <td>1</td>\n",
       "      <td>1</td>\n",
       "      <td>$2b$10$.DCvvJ9WSDpqVP2xXjeSPeR6I3TrUCl/MAePvQQ...</td>\n",
       "      <td>25</td>\n",
       "      <td>S</td>\n",
       "      <td>Teresina</td>\n",
       "      <td>1.0</td>\n",
       "      <td>1.0</td>\n",
       "      <td>2</td>\n",
       "      <td>500.0</td>\n",
       "      <td>NaN</td>\n",
       "      <td>...</td>\n",
       "      <td>30.0</td>\n",
       "      <td>NaN</td>\n",
       "      <td>Renda Fixa</td>\n",
       "      <td>150.0</td>\n",
       "      <td>NaN</td>\n",
       "      <td>0.0</td>\n",
       "      <td>0.05684974</td>\n",
       "      <td>1.0</td>\n",
       "      <td>Efetivada</td>\n",
       "      <td>a0W6A000009GZdgUAG</td>\n",
       "    </tr>\n",
       "    <tr>\n",
       "      <td>2</td>\n",
       "      <td>2</td>\n",
       "      <td>$2b$10$.DCvvJ9WSDpqVP2xXjeSPeR6I3TrUCl/MAePvQQ...</td>\n",
       "      <td>25</td>\n",
       "      <td>S</td>\n",
       "      <td>Teresina</td>\n",
       "      <td>1.0</td>\n",
       "      <td>1.0</td>\n",
       "      <td>2</td>\n",
       "      <td>500.0</td>\n",
       "      <td>NaN</td>\n",
       "      <td>...</td>\n",
       "      <td>30.0</td>\n",
       "      <td>NaN</td>\n",
       "      <td>Renda Fixa</td>\n",
       "      <td>50.0</td>\n",
       "      <td>NaN</td>\n",
       "      <td>0.0</td>\n",
       "      <td>0.05684974</td>\n",
       "      <td>1.0</td>\n",
       "      <td>Efetivada</td>\n",
       "      <td>a0W6A000009GZdgUAG</td>\n",
       "    </tr>\n",
       "    <tr>\n",
       "      <td>3</td>\n",
       "      <td>3</td>\n",
       "      <td>$2b$10$.DCvvJ9WSDpqVP2xXjeSPeR6I3TrUCl/MAePvQQ...</td>\n",
       "      <td>25</td>\n",
       "      <td>S</td>\n",
       "      <td>Teresina</td>\n",
       "      <td>1.0</td>\n",
       "      <td>1.0</td>\n",
       "      <td>2</td>\n",
       "      <td>500.0</td>\n",
       "      <td>NaN</td>\n",
       "      <td>...</td>\n",
       "      <td>30.0</td>\n",
       "      <td>NaN</td>\n",
       "      <td>Renda Fixa</td>\n",
       "      <td>60.0</td>\n",
       "      <td>NaN</td>\n",
       "      <td>0.0</td>\n",
       "      <td>0.13178136</td>\n",
       "      <td>1.0</td>\n",
       "      <td>Efetivada</td>\n",
       "      <td>a0W6A000009GZdgUAG</td>\n",
       "    </tr>\n",
       "    <tr>\n",
       "      <td>4</td>\n",
       "      <td>4</td>\n",
       "      <td>$2b$10$.DCvvJ9WSDpqVP2xXjeSPeR6I3TrUCl/MAePvQQ...</td>\n",
       "      <td>25</td>\n",
       "      <td>S</td>\n",
       "      <td>Teresina</td>\n",
       "      <td>1.0</td>\n",
       "      <td>1.0</td>\n",
       "      <td>2</td>\n",
       "      <td>500.0</td>\n",
       "      <td>NaN</td>\n",
       "      <td>...</td>\n",
       "      <td>30.0</td>\n",
       "      <td>NaN</td>\n",
       "      <td>Renda Fixa</td>\n",
       "      <td>40.0</td>\n",
       "      <td>NaN</td>\n",
       "      <td>0.0</td>\n",
       "      <td>0.15076414</td>\n",
       "      <td>1.0</td>\n",
       "      <td>Efetivada</td>\n",
       "      <td>a0W6A000009GZdgUAG</td>\n",
       "    </tr>\n",
       "  </tbody>\n",
       "</table>\n",
       "<p>5 rows × 66 columns</p>\n",
       "</div>"
      ],
      "text/plain": [
       "   Unnamed: 0                                                 Id  Idade  \\\n",
       "0           0  $2b$10$.DCvvJ9WSDpqVP2xXjeSPe9yBilu2JVQh2nFTHN...     30   \n",
       "1           1  $2b$10$.DCvvJ9WSDpqVP2xXjeSPeR6I3TrUCl/MAePvQQ...     25   \n",
       "2           2  $2b$10$.DCvvJ9WSDpqVP2xXjeSPeR6I3TrUCl/MAePvQQ...     25   \n",
       "3           3  $2b$10$.DCvvJ9WSDpqVP2xXjeSPeR6I3TrUCl/MAePvQQ...     25   \n",
       "4           4  $2b$10$.DCvvJ9WSDpqVP2xXjeSPeR6I3TrUCl/MAePvQQ...     25   \n",
       "\n",
       "  EstadoCivil BillingCity  NivelConhecimentoAtual  ScoreNivelConhecimento  \\\n",
       "0           M     Aracruz                     1.0                     1.0   \n",
       "1           S    Teresina                     1.0                     1.0   \n",
       "2           S    Teresina                     1.0                     1.0   \n",
       "3           S    Teresina                     1.0                     1.0   \n",
       "4           S    Teresina                     1.0                     1.0   \n",
       "\n",
       "   PerfilInvestidor  RendaMensal  ValorPatrimonio  ...  \\\n",
       "0                 2       1300.0           6000.0  ...   \n",
       "1                 2        500.0              NaN  ...   \n",
       "2                 2        500.0              NaN  ...   \n",
       "3                 2        500.0              NaN  ...   \n",
       "4                 2        500.0              NaN  ...   \n",
       "\n",
       "  ValorMinimoAplicacaoAdicional DataVencimento FamiliaCarteira  \\\n",
       "0                          30.0            NaN      Renda Fixa   \n",
       "1                          30.0            NaN      Renda Fixa   \n",
       "2                          30.0            NaN      Renda Fixa   \n",
       "3                          30.0            NaN      Renda Fixa   \n",
       "4                          30.0            NaN      Renda Fixa   \n",
       "\n",
       "  ValorInvestidoAtual ValorRendimento Rentabilidade12Meses RentabilidadeMes  \\\n",
       "0                30.0             NaN                  0.0       0.37005375   \n",
       "1               150.0             NaN                  0.0       0.05684974   \n",
       "2                50.0             NaN                  0.0       0.05684974   \n",
       "3                60.0             NaN                  0.0       0.13178136   \n",
       "4                40.0             NaN                  0.0       0.15076414   \n",
       "\n",
       "  RiscoAtivo     Status           ProdutoId  \n",
       "0        1.0  Efetivada  a0W6A000009GZdgUAG  \n",
       "1        1.0  Efetivada  a0W6A000009GZdgUAG  \n",
       "2        1.0  Efetivada  a0W6A000009GZdgUAG  \n",
       "3        1.0  Efetivada  a0W6A000009GZdgUAG  \n",
       "4        1.0  Efetivada  a0W6A000009GZdgUAG  \n",
       "\n",
       "[5 rows x 66 columns]"
      ]
     },
     "execution_count": 9,
     "metadata": {},
     "output_type": "execute_result"
    }
   ],
   "source": [
    "dfPerfil.head()"
   ]
  },
  {
   "cell_type": "markdown",
   "metadata": {
    "colab_type": "text",
    "id": "Hq3gEiOv74cu"
   },
   "source": [
    "## Descritivo"
   ]
  },
  {
   "cell_type": "code",
   "execution_count": 10,
   "metadata": {
    "colab": {
     "base_uri": "https://localhost:8080/",
     "height": 320
    },
    "colab_type": "code",
    "id": "2UOYqaQl67cS",
    "outputId": "69073ffb-f9be-4c36-b0d6-bf480c960495"
   },
   "outputs": [
    {
     "data": {
      "text/html": [
       "<div>\n",
       "<style scoped>\n",
       "    .dataframe tbody tr th:only-of-type {\n",
       "        vertical-align: middle;\n",
       "    }\n",
       "\n",
       "    .dataframe tbody tr th {\n",
       "        vertical-align: top;\n",
       "    }\n",
       "\n",
       "    .dataframe thead th {\n",
       "        text-align: right;\n",
       "    }\n",
       "</style>\n",
       "<table border=\"1\" class=\"dataframe\">\n",
       "  <thead>\n",
       "    <tr style=\"text-align: right;\">\n",
       "      <th></th>\n",
       "      <th>Unnamed: 0</th>\n",
       "      <th>Idade</th>\n",
       "      <th>NivelConhecimentoAtual</th>\n",
       "      <th>ScoreNivelConhecimento</th>\n",
       "      <th>PerfilInvestidor</th>\n",
       "      <th>RendaMensal</th>\n",
       "      <th>ValorPatrimonio</th>\n",
       "      <th>ScoreRisco</th>\n",
       "      <th>ScoreObjetivos</th>\n",
       "      <th>ScoreSituacaoFinanceira</th>\n",
       "      <th>TaxaCliente</th>\n",
       "      <th>TaxaPreCliente</th>\n",
       "      <th>ValorMinimoAplicaInicial</th>\n",
       "      <th>ValorMinimoAplicacaoAdicional</th>\n",
       "      <th>ValorInvestidoAtual</th>\n",
       "      <th>ValorRendimento</th>\n",
       "      <th>Rentabilidade12Meses</th>\n",
       "      <th>RiscoAtivo</th>\n",
       "    </tr>\n",
       "  </thead>\n",
       "  <tbody>\n",
       "    <tr>\n",
       "      <td>count</td>\n",
       "      <td>38102.000000</td>\n",
       "      <td>38102.000000</td>\n",
       "      <td>34956.000000</td>\n",
       "      <td>37577.000000</td>\n",
       "      <td>38102.000000</td>\n",
       "      <td>3.810200e+04</td>\n",
       "      <td>2.565000e+04</td>\n",
       "      <td>37577.000000</td>\n",
       "      <td>37577.000000</td>\n",
       "      <td>37577.000000</td>\n",
       "      <td>5614.000000</td>\n",
       "      <td>5615.000000</td>\n",
       "      <td>22746.000000</td>\n",
       "      <td>30929.000000</td>\n",
       "      <td>36483.000000</td>\n",
       "      <td>5421.000000</td>\n",
       "      <td>30861.000000</td>\n",
       "      <td>36476.000000</td>\n",
       "    </tr>\n",
       "    <tr>\n",
       "      <td>mean</td>\n",
       "      <td>19050.500000</td>\n",
       "      <td>37.230145</td>\n",
       "      <td>2.480804</td>\n",
       "      <td>2.533678</td>\n",
       "      <td>2.779959</td>\n",
       "      <td>8.368189e+03</td>\n",
       "      <td>9.122847e+05</td>\n",
       "      <td>2.671874</td>\n",
       "      <td>3.141815</td>\n",
       "      <td>2.124252</td>\n",
       "      <td>98.189526</td>\n",
       "      <td>0.413389</td>\n",
       "      <td>744.188094</td>\n",
       "      <td>360.480540</td>\n",
       "      <td>4046.749768</td>\n",
       "      <td>196.936554</td>\n",
       "      <td>9.666901</td>\n",
       "      <td>2.615309</td>\n",
       "    </tr>\n",
       "    <tr>\n",
       "      <td>std</td>\n",
       "      <td>10999.244315</td>\n",
       "      <td>11.365521</td>\n",
       "      <td>1.522709</td>\n",
       "      <td>1.538015</td>\n",
       "      <td>1.121397</td>\n",
       "      <td>2.754596e+04</td>\n",
       "      <td>1.498490e+07</td>\n",
       "      <td>1.109866</td>\n",
       "      <td>1.176798</td>\n",
       "      <td>1.012600</td>\n",
       "      <td>26.149983</td>\n",
       "      <td>1.776756</td>\n",
       "      <td>2344.743320</td>\n",
       "      <td>1032.730307</td>\n",
       "      <td>17034.380766</td>\n",
       "      <td>748.580640</td>\n",
       "      <td>18.926591</td>\n",
       "      <td>1.532361</td>\n",
       "    </tr>\n",
       "    <tr>\n",
       "      <td>min</td>\n",
       "      <td>0.000000</td>\n",
       "      <td>17.000000</td>\n",
       "      <td>1.000000</td>\n",
       "      <td>1.000000</td>\n",
       "      <td>0.000000</td>\n",
       "      <td>0.000000e+00</td>\n",
       "      <td>0.000000e+00</td>\n",
       "      <td>1.000000</td>\n",
       "      <td>1.000000</td>\n",
       "      <td>1.000000</td>\n",
       "      <td>0.000000</td>\n",
       "      <td>0.000000</td>\n",
       "      <td>0.000000</td>\n",
       "      <td>0.000000</td>\n",
       "      <td>0.000000</td>\n",
       "      <td>0.000000</td>\n",
       "      <td>-99.693346</td>\n",
       "      <td>0.000000</td>\n",
       "    </tr>\n",
       "    <tr>\n",
       "      <td>25%</td>\n",
       "      <td>9525.250000</td>\n",
       "      <td>29.000000</td>\n",
       "      <td>1.000000</td>\n",
       "      <td>1.000000</td>\n",
       "      <td>2.000000</td>\n",
       "      <td>2.000000e+03</td>\n",
       "      <td>4.000000e+04</td>\n",
       "      <td>2.000000</td>\n",
       "      <td>2.000000</td>\n",
       "      <td>1.000000</td>\n",
       "      <td>94.000000</td>\n",
       "      <td>0.000000</td>\n",
       "      <td>30.000000</td>\n",
       "      <td>30.000000</td>\n",
       "      <td>40.000000</td>\n",
       "      <td>7.490000</td>\n",
       "      <td>0.000000</td>\n",
       "      <td>1.000000</td>\n",
       "    </tr>\n",
       "    <tr>\n",
       "      <td>50%</td>\n",
       "      <td>19050.500000</td>\n",
       "      <td>36.000000</td>\n",
       "      <td>2.000000</td>\n",
       "      <td>2.000000</td>\n",
       "      <td>3.000000</td>\n",
       "      <td>4.200000e+03</td>\n",
       "      <td>2.000000e+05</td>\n",
       "      <td>3.000000</td>\n",
       "      <td>3.000000</td>\n",
       "      <td>2.000000</td>\n",
       "      <td>101.000000</td>\n",
       "      <td>0.000000</td>\n",
       "      <td>30.000000</td>\n",
       "      <td>30.000000</td>\n",
       "      <td>300.000000</td>\n",
       "      <td>28.080000</td>\n",
       "      <td>0.000000</td>\n",
       "      <td>2.000000</td>\n",
       "    </tr>\n",
       "    <tr>\n",
       "      <td>75%</td>\n",
       "      <td>28575.750000</td>\n",
       "      <td>43.000000</td>\n",
       "      <td>4.000000</td>\n",
       "      <td>4.000000</td>\n",
       "      <td>4.000000</td>\n",
       "      <td>1.000000e+04</td>\n",
       "      <td>7.000000e+05</td>\n",
       "      <td>3.000000</td>\n",
       "      <td>4.000000</td>\n",
       "      <td>3.000000</td>\n",
       "      <td>113.000000</td>\n",
       "      <td>0.000000</td>\n",
       "      <td>500.000000</td>\n",
       "      <td>100.000000</td>\n",
       "      <td>2000.000000</td>\n",
       "      <td>103.750000</td>\n",
       "      <td>11.122177</td>\n",
       "      <td>4.000000</td>\n",
       "    </tr>\n",
       "    <tr>\n",
       "      <td>max</td>\n",
       "      <td>38101.000000</td>\n",
       "      <td>96.000000</td>\n",
       "      <td>5.000000</td>\n",
       "      <td>5.000000</td>\n",
       "      <td>5.000000</td>\n",
       "      <td>2.400000e+06</td>\n",
       "      <td>1.500000e+09</td>\n",
       "      <td>5.000000</td>\n",
       "      <td>5.000000</td>\n",
       "      <td>5.000000</td>\n",
       "      <td>140.000000</td>\n",
       "      <td>12.000000</td>\n",
       "      <td>50000.000000</td>\n",
       "      <td>30000.000000</td>\n",
       "      <td>800000.000000</td>\n",
       "      <td>16834.210000</td>\n",
       "      <td>584.324863</td>\n",
       "      <td>5.000000</td>\n",
       "    </tr>\n",
       "  </tbody>\n",
       "</table>\n",
       "</div>"
      ],
      "text/plain": [
       "         Unnamed: 0         Idade  NivelConhecimentoAtual  \\\n",
       "count  38102.000000  38102.000000            34956.000000   \n",
       "mean   19050.500000     37.230145                2.480804   \n",
       "std    10999.244315     11.365521                1.522709   \n",
       "min        0.000000     17.000000                1.000000   \n",
       "25%     9525.250000     29.000000                1.000000   \n",
       "50%    19050.500000     36.000000                2.000000   \n",
       "75%    28575.750000     43.000000                4.000000   \n",
       "max    38101.000000     96.000000                5.000000   \n",
       "\n",
       "       ScoreNivelConhecimento  PerfilInvestidor   RendaMensal  \\\n",
       "count            37577.000000      38102.000000  3.810200e+04   \n",
       "mean                 2.533678          2.779959  8.368189e+03   \n",
       "std                  1.538015          1.121397  2.754596e+04   \n",
       "min                  1.000000          0.000000  0.000000e+00   \n",
       "25%                  1.000000          2.000000  2.000000e+03   \n",
       "50%                  2.000000          3.000000  4.200000e+03   \n",
       "75%                  4.000000          4.000000  1.000000e+04   \n",
       "max                  5.000000          5.000000  2.400000e+06   \n",
       "\n",
       "       ValorPatrimonio    ScoreRisco  ScoreObjetivos  ScoreSituacaoFinanceira  \\\n",
       "count     2.565000e+04  37577.000000    37577.000000             37577.000000   \n",
       "mean      9.122847e+05      2.671874        3.141815                 2.124252   \n",
       "std       1.498490e+07      1.109866        1.176798                 1.012600   \n",
       "min       0.000000e+00      1.000000        1.000000                 1.000000   \n",
       "25%       4.000000e+04      2.000000        2.000000                 1.000000   \n",
       "50%       2.000000e+05      3.000000        3.000000                 2.000000   \n",
       "75%       7.000000e+05      3.000000        4.000000                 3.000000   \n",
       "max       1.500000e+09      5.000000        5.000000                 5.000000   \n",
       "\n",
       "       TaxaCliente  TaxaPreCliente  ValorMinimoAplicaInicial  \\\n",
       "count  5614.000000     5615.000000              22746.000000   \n",
       "mean     98.189526        0.413389                744.188094   \n",
       "std      26.149983        1.776756               2344.743320   \n",
       "min       0.000000        0.000000                  0.000000   \n",
       "25%      94.000000        0.000000                 30.000000   \n",
       "50%     101.000000        0.000000                 30.000000   \n",
       "75%     113.000000        0.000000                500.000000   \n",
       "max     140.000000       12.000000              50000.000000   \n",
       "\n",
       "       ValorMinimoAplicacaoAdicional  ValorInvestidoAtual  ValorRendimento  \\\n",
       "count                   30929.000000         36483.000000      5421.000000   \n",
       "mean                      360.480540          4046.749768       196.936554   \n",
       "std                      1032.730307         17034.380766       748.580640   \n",
       "min                         0.000000             0.000000         0.000000   \n",
       "25%                        30.000000            40.000000         7.490000   \n",
       "50%                        30.000000           300.000000        28.080000   \n",
       "75%                       100.000000          2000.000000       103.750000   \n",
       "max                     30000.000000        800000.000000     16834.210000   \n",
       "\n",
       "       Rentabilidade12Meses    RiscoAtivo  \n",
       "count          30861.000000  36476.000000  \n",
       "mean               9.666901      2.615309  \n",
       "std               18.926591      1.532361  \n",
       "min              -99.693346      0.000000  \n",
       "25%                0.000000      1.000000  \n",
       "50%                0.000000      2.000000  \n",
       "75%               11.122177      4.000000  \n",
       "max              584.324863      5.000000  "
      ]
     },
     "execution_count": 10,
     "metadata": {},
     "output_type": "execute_result"
    }
   ],
   "source": [
    "dfPerfil.describe()"
   ]
  },
  {
   "cell_type": "code",
   "execution_count": 11,
   "metadata": {
    "colab": {
     "base_uri": "https://localhost:8080/",
     "height": 1000
    },
    "colab_type": "code",
    "id": "SESlu-K1GonR",
    "outputId": "9fcec09e-76d0-4335-d8a9-b988e5c07984"
   },
   "outputs": [
    {
     "data": {
      "text/plain": [
       "array(['PI SELIC RF SIMPLES FI', 'JOJO WACHSMANN - VITREO',\n",
       "       'SAM JURO REAL RF FIC FI',\n",
       "       'RENATO SANTANIELLO - SANTANDER PRIVATE',\n",
       "       'SAM RENDA FIXA LONGO PRAZO FIC FI', 'FABIO PASSOS - CA INDOSUEZ',\n",
       "       'DAN KAWA - TAG INVESTIMENTOS',\n",
       "       'BERNARDO S. DA ICATU - DATA ALVO 2030', 'CDB', 'LCA',\n",
       "       'TRIGONO FLAGSHIP SMALL CAPS FIC FIA', 'BOGARI VALUE D FIC FIA',\n",
       "       'LCI', 'BERNARDO S. DA ICATU - DATA ALVO 2040',\n",
       "       'BTG PACTUAL YIELD DI FI REFERENCIADO CP',\n",
       "       'ALASKA BLACK FIC FIA II - BDR NÍVEL I',\n",
       "       'ICATU VANGUARDA CP FIRF LP',\n",
       "       'SAM RATES AND FX MULTIMERCADO FIC FI', 'SUL AMÉRICA FV FIA', 'LC',\n",
       "       'NEST FIA', 'KADIMA EQUITIES FIC FIA', 'CONSTÂNCIA FUNDAMENTO FIA',\n",
       "       'BERNARDO S. DA ICATU - DATA ALVO 2050', 'ARX INCOME FIA',\n",
       "       'EQUITAS SELECTION FIC FIA',\n",
       "       'EQUITAS SELECTION MÃO AMIGA FIC AÇÕES',\n",
       "       'AZ QUEST YIELD FIC FIRF LP', 'ARX FIA',\n",
       "       'IBIUNA EQUITIES 30 FIC FIA', 'KAPITALO KAPPA D FIC FIM',\n",
       "       'VERSA CHARGER BDR NÍVEL I FIA', 'KIRON FIC FIA',\n",
       "       'GUEPARDO INSTITUCIONAL FIC FIA', 'OCCAM INSTITUCIONAL FIC FIM II',\n",
       "       'VOTORANTIM FI EAGLE RF LP', nan, 'DEVANT SOLIDUS CASH FIRF CP',\n",
       "       'RB CAPITAL VITORIA DEB INCENTIVADAS FIC',\n",
       "       'ARX ELBRUS DEBÊNTURES INCENTIVADAS FIM C',\n",
       "       'CA INDOSUEZ DEBENTURES INCENTIVADAS CP',\n",
       "       'REACH TOTAL RETURN FIC FIA',\n",
       "       'CONSTELLATION INSTITUCIONAL FIC FIA',\n",
       "       'SUL AMÉRICA JURO REAL CURTO FI RF LP', 'GROU ABSOLUTO FIC FIM',\n",
       "       'PORTO SEGURO IMA-B5 FIC DE FI RF LP',\n",
       "       'BRASIL PLURAL YIELD FIRF REFERENCIADO DI',\n",
       "       'ICATU VANGUARDA RF FI PLUS LP', 'SUL AMÉRICA TOTAL IMPACTO FIA',\n",
       "       'GUEPARDO ALLOCATION FIC FIA',\n",
       "       'IP PARTICIPAÇÕES IPG FIC FIA BDR NIVEL I',\n",
       "       'CA INDOSUEZ ALLOCATION ACTION FIC FIA',\n",
       "       'TORK FUNDO DE INVESTIMENTO EM COTAS FIA',\n",
       "       'BRASIL PLURAL DEBÊNTURES INCENTIVADAS 45',\n",
       "       'OPPORTUNITY MARKET FIC FIM', 'OPPORTUNITY TOTAL FIC FIM',\n",
       "       'ICATU VANGUARDA PRÉ-FIXADO FIRF LP',\n",
       "       'ICATU VANGUARDA FIRF INFLAÇÃO CP LP', 'GTI DIMONA BRASIL FIA',\n",
       "       'FAMA FIC FIA', 'EXPLORITAS ALPHA AMERICA LATINA FIC FIM',\n",
       "       'GARDE DARTAGNAN FIC FIM', 'PACIFICO LB FIC FIM',\n",
       "       'TARPON GT FIC FIA', 'SAFARI 45 FIC FIM II',\n",
       "       'AZ QUEST LUCE FIC FIRF CP LP', 'INDIE FIC FIA',\n",
       "       'PORTO SEGURO CLÁSSICO RF FICFI LP', 'NOVUS INSTITUCIONAL FIC FIM',\n",
       "       'DLM PREMIUM 30 FIRF CP LP', 'OURO PRETO REAL FIC FIRF LP',\n",
       "       'BRASIL PLURAL DEBÊNTURES INCENTIVADAS HE',\n",
       "       'DEVANT DEBÊNTURES INCENTIVADAS FIRF CP',\n",
       "       'BRADESCO ASSET FIC FIM ALOCAÇÃO ARROJADA',\n",
       "       'AZ QUEST MULTI FIC FIM', 'OPPORTUNITY SELECTION FIC FIA',\n",
       "       'LEGACY CAPITAL FIC FIM', 'BTG PACTUAL DIVIDENDOS FIC FIA',\n",
       "       'VOTORANTIM FIC FI CAMBIAL DOLAR', 'LEBLON AÇÕES FIC FIA',\n",
       "       'ALASKA BLACK INSTITUCIONAL FIA', 'CLARITAS INSTITUCIONAL FIM',\n",
       "       'VERSA TRACKER FIM', 'MILES VIRTUS B FIC FIA',\n",
       "       'MAUÁ CAPITAL AÇÕES FIC FIA',\n",
       "       'TAGUS ABSOLUTO FUNDO DE INVESTIMENTO MUL',\n",
       "       'BTG PACTUAL DEBENTURES INCENTIVADAS FIRF',\n",
       "       'GARDE ATHOS LONG BIASED FIC FIM', 'TAGUS FUNDAMENTAL FIA',\n",
       "       'NAVI LONG BIASED FIC FIM',\n",
       "       'CA INDOSUEZ DI MASTER FIRF REF. DI LP', 'MÓDULO I FIC FIA',\n",
       "       'IP VALUE HEDGE FIC FIA BDR NÍVEL I',\n",
       "       'CA INDOSUEZ AGILITÉ FIRF CP', 'LEBLON AÇÕES II FIC FIA',\n",
       "       'OCCAM RETORNO ABSOLUTO FIC FIM',\n",
       "       'AZ QUEST TOP LONG BIASED FIC FIA',\n",
       "       'ALASKA BLACK FIC FIA - BDR NÍVEL I', 'LOGOS TOTAL RETURN FIC FIM',\n",
       "       'AZ QUEST AÇÕES FIC FIA', 'PORTO SEGURO SELECTA FIC FIA',\n",
       "       'CANVAS VECTOR FIC FIM', 'BRASIL CAPITAL FIC FIA',\n",
       "       'DLM HEDGE CONSERVADOR II FIRF CP',\n",
       "       'VOTORANTIM FI EQUITY HEDGE MULTIMERCADO',\n",
       "       'BTG PACTUAL HEDGE FI MULTIMERCADO', 'BRASIL CAPITAL 30 FIC FIA',\n",
       "       'DAHLIA INSTITUCIONAL FIC FIA', 'Catálogo Padrão Tesouro Direto',\n",
       "       'SPARTA PREMIUM FIC FIRF REFERENCIADO DI', 'KINEA CHRONOS FIM',\n",
       "       'IBIUNA LONG SHORT STLS FIC FIM',\n",
       "       'BRASIL PLURAL CRÉD CORP II FIC RF CP LP',\n",
       "       'CA INDOSUEZ GRAND VITESSE FIRF CP',\n",
       "       'CAPITÂNIA PREMIUM FIC FIRF CP', 'PAINEIRAS HEDGE II FIC FIM',\n",
       "       'VERDE AM UNIQUE LONG BIAS FIC FIA',\n",
       "       'RB CAPITAL DEB INCENTIVADAS FIC FIM CP',\n",
       "       'BRADESCO ASSET FIC RF REFERENCIADO DI', 'GROU VALOR FIC FIA',\n",
       "       'ICATU VANGUARDA AÇÕES IBX FI', 'SOLANA LONG AND SHORT FIC FIM',\n",
       "       'PORTO SEGURO JURO REAL FIC FI RF LP',\n",
       "       'TRIGONO DELPHOS INCOME FIC FIA',\n",
       "       'PERFIN FORESIGHT INSTITUCIONAL FIC FIA',\n",
       "       'OCCAM FUNDO DE INVESTIMENTO CAMBIAL',\n",
       "       'BTG PACTUAL ABSOLUTO INSTITUCIONAL FIA', 'VISTA FIA',\n",
       "       'MOAT CAPITAL EQUITY HEDGE FIC FIM',\n",
       "       'NOVUS AÇÕES INSTITUCIONAL FIC FIA',\n",
       "       'SPARTA DEBENTURES FIC FIM RF CP', 'PORTO SEGURO ALOCAÇÃO FIC FIM',\n",
       "       'BRADESCO ASSET FIC FIA SMALL CAPS',\n",
       "       'AZ QUEST AZIMUT IMPACTO FIC FIM CP',\n",
       "       'AZ QUEST EQUITY HEDGE FIC FIM', 'FATOR AÇÕES FIC FIA',\n",
       "       'ARX TARGET INSTITUCIONAL FIM', 'ARX ESPECIAL MACRO FIC FIM',\n",
       "       'KINEA ARKHE FIM', 'SQUADRA LONG-ONLY FIC FIA',\n",
       "       'TRUXT I VALOR INSTITUCIONAL FIC FIA', 'DEVANT AUDAX FIM CP',\n",
       "       'IBIUNA HEDGE STH FIC FIM', 'PACIFICO MACRO FIC FIM',\n",
       "       'ABSOLUTE PACE LONG BIASED FIC FIA', 'IRIDIUM APOLLO FIRF CP LP',\n",
       "       'SQUADRA LONG-BIASED FIC FIA', 'GAUSS INCOME FIC FI RF CP',\n",
       "       'BRASIL PLURAL HIGH YIELD FIRF CP',\n",
       "       'FUNDAMENTA SELECAO FIC FIM CP',\n",
       "       'ICATU VANGUARDA FIC FI INFLAÇÃO LONGA RF',\n",
       "       'CA INDOSUEZ VITESSE FIRF CP', 'GAUSS FIC FIM',\n",
       "       'MZK DINÂMICO FIC FIM', 'TRIGONO VERBIER  FIA',\n",
       "       'KADIMA II FIC FIM', 'LUMINUS FIA',\n",
       "       'BRADESCO ASSET FIC FIA LONG ONLY', 'VINLAND LONG ONLY FIC FIA',\n",
       "       'NEST ABSOLUTE RETURN FIM', 'NOVUS CAPITAL MACRO FIC FIM',\n",
       "       'ARX DENALI FIRF CP', 'STUDIO FIC FIA',\n",
       "       'PORTO SEGURO FI RF REF DI CREDITO PRIVAD',\n",
       "       'CANVAS DAKAR LONG BIAS FIC FIM',\n",
       "       'REACH FUNDO DE INVESTIMENTO DE ACOES',\n",
       "       'SPARTA DEBENTURES INCENTIVADAS II FIC RF',\n",
       "       'RPS FIC FIA SELECTION', 'HIX CAPITAL INSTITUCIONAL FIA',\n",
       "       'MOAT CAPITAL FIC FIA', 'ATHENA TOTAL RETURN II FIC FIA',\n",
       "       'IBIUNA HEDGE FIC FIM', 'BUTIA FUNDAMENTAL FIC FIA',\n",
       "       'IBIUNA LONG BIASED FIC FIM', 'CLARITAS VALOR FEEDER FIA',\n",
       "       'CANVAS CLASSIC II FIC FIM', 'RIO BRAVO APOLLO FIC FIM',\n",
       "       'ICATU VANGUARDA DIVIDENDOS FIA', 'AZ QUEST ALTRO FIC FIM CP',\n",
       "       'AF INVEST MINAS FIA', 'OPPORTUNITY LONG BIASED FIC FIM',\n",
       "       'STUDIO 30 FIC FIA', 'SHARP LONG BIASED FEEDER FIC FIA',\n",
       "       'ICATU VANGUARDA FIC FI INFLAÇÃO CURTA RF',\n",
       "       'OCCAM EQUITY HEDGE FIC FIM', 'CLARITAS QUANT FIC FIM',\n",
       "       'OCCAM LONG & SHORT PLUS FIC FIM', 'KINEA ABSOLUTO FI RF LP',\n",
       "       'REAL INVESTOR  FIA', 'CANVAS ENDURO II FIC FIM', 'OCCAM FIC FIA',\n",
       "       'RIO BRAVO CRÉDITO PRIVADO FIRF',\n",
       "       'SHARP EQUITY VALUE INSTITUCIONAL FIA',\n",
       "       'APEX INFINITY 8 LONG BIASED FIC FIA',\n",
       "       'SHARP EQUITY VALUE FEEDER FIC FIA', 'POLO MACRO FIM',\n",
       "       'AZ QUEST DEB INCENTIVADAS FIC FIM CP', 'APEX LONG BIASED FIC FIM',\n",
       "       'BTG PACTUAL DISCOVERY FIM', 'MAUÁ MACRO FIC FIM',\n",
       "       'TRUXT I VALOR FIC FIA', 'FRANKLIN VALOR E LIQUIDEZ FVL FIC FIA',\n",
       "       'FORPUS AÇÕES FIC FIA', 'TRANCOSO IBOVESPA FIC FIA',\n",
       "       'CAPITÂNIA TOP CP FIC FI RF', 'BRADESCO ASSET FIC FIA DIVIDENDOS',\n",
       "       'MÓDULO INSTITUCIONAL FIC FIA BDR NÍVEL I',\n",
       "       'KIRON INSTITUCIONAL FIA', 'BAHIA AM FIC de FIM', 'SAGA FIA',\n",
       "       'ATLAS ONE FIC FIA', 'NOVUS RETORNO ABSOLUTO FIC FIM',\n",
       "       'NEO NAVITAS B FIC FIA', 'ARX LONG SHORT FIC FIM',\n",
       "       'NW3 EVENT DRIVEN FIC FIM', 'POLO LONG BIAS FIM',\n",
       "       'PERFIN EQUITY HEDGE 15 FIC FIM',\n",
       "       'BTG PACTUAL CREDITO CORP 30 FIC RF CP LP', 'TAVOLA ABSOLUTO FIM',\n",
       "       'VINLAND MACRO FIC FIM', 'SUL AMÉRICA EXCELLENCE FI RF CP',\n",
       "       'ARX LONG TERM FIC FIA', 'CLARITAS TOTAL RETURN FIC FIM',\n",
       "       'TAVOLA LONG & SHORT FIM', 'SUL AMÉRICA RF ATIVO FI LP',\n",
       "       'FATOR PORTFOLIO PLUS FIC FIM',\n",
       "       'CA INDOSUEZ AVANT GARDE FEEDER 1 FIC FIM', 'FATOR SINERGIA FIA',\n",
       "       'PACIFICO AÇÕES FIC FIA',\n",
       "       'TRAFALGAR ROYAL LONG BIAS LATAM FIC FIA',\n",
       "       'VINLAND LONG BIAS FIC FIM',\n",
       "       'FRANKLIN K2 ALTERNATIVE STRATEGIES FIC F',\n",
       "       'KAPITALO ALPHA GLOBAL FIC FIM',\n",
       "       'TB ITACARE FUNDO DE INVESTIMENTO RF LP',\n",
       "       'QUASAR ADVANTAGE FIRF CP LP', 'CLARITAS HEDGE FIC FIM LP',\n",
       "       'APOLLO FIM CP', 'PORTO SEGURO MACRO FIC FIM',\n",
       "       'BRADESCO ASSET FIC FIA CRESCIMENTO', 'CA INDOSUEZ BÉTON FIC FIM',\n",
       "       'AZ QUEST SMALL MID CAPS FIC FIA',\n",
       "       'ARX VINSON FUNDO DE INVESTIMENTO RF CP',\n",
       "       'TORK LONG ONLY INSTITUCIONAL FIC FIA',\n",
       "       'DLM HEDGE MODERADO FIM CP'], dtype=object)"
      ]
     },
     "execution_count": 11,
     "metadata": {},
     "output_type": "execute_result"
    }
   ],
   "source": [
    "dfPerfil.NomeDoProduto.unique()"
   ]
  },
  {
   "cell_type": "markdown",
   "metadata": {
    "colab_type": "text",
    "id": "t8SK2a1u8jyv"
   },
   "source": [
    "## Observações\n",
    "\n",
    "*   Há valores nulos no DataSet Perfil\n",
    "*   Não há informações de acessos\n",
    "\n"
   ]
  },
  {
   "cell_type": "markdown",
   "metadata": {
    "colab_type": "text",
    "id": "-Tr6TiBd84hW"
   },
   "source": [
    "# Dataset Acesso - Exploração inicial"
   ]
  },
  {
   "cell_type": "markdown",
   "metadata": {
    "colab_type": "text",
    "id": "PQsoLg3H9M59"
   },
   "source": [
    "## Amostra"
   ]
  },
  {
   "cell_type": "code",
   "execution_count": 12,
   "metadata": {
    "colab": {
     "base_uri": "https://localhost:8080/",
     "height": 206
    },
    "colab_type": "code",
    "id": "iAYJ0ZAE9RhO",
    "outputId": "f24ae47c-52bf-49da-ccc1-16fadfca0330"
   },
   "outputs": [
    {
     "data": {
      "text/html": [
       "<div>\n",
       "<style scoped>\n",
       "    .dataframe tbody tr th:only-of-type {\n",
       "        vertical-align: middle;\n",
       "    }\n",
       "\n",
       "    .dataframe tbody tr th {\n",
       "        vertical-align: top;\n",
       "    }\n",
       "\n",
       "    .dataframe thead th {\n",
       "        text-align: right;\n",
       "    }\n",
       "</style>\n",
       "<table border=\"1\" class=\"dataframe\">\n",
       "  <thead>\n",
       "    <tr style=\"text-align: right;\">\n",
       "      <th></th>\n",
       "      <th>Unnamed: 0</th>\n",
       "      <th>Id</th>\n",
       "      <th>page_path</th>\n",
       "      <th>pageviews</th>\n",
       "    </tr>\n",
       "  </thead>\n",
       "  <tbody>\n",
       "    <tr>\n",
       "      <td>0</td>\n",
       "      <td>0</td>\n",
       "      <td>NaN</td>\n",
       "      <td>/s/</td>\n",
       "      <td>3</td>\n",
       "    </tr>\n",
       "    <tr>\n",
       "      <td>1</td>\n",
       "      <td>1</td>\n",
       "      <td>NaN</td>\n",
       "      <td>/s/</td>\n",
       "      <td>8</td>\n",
       "    </tr>\n",
       "    <tr>\n",
       "      <td>2</td>\n",
       "      <td>2</td>\n",
       "      <td>NaN</td>\n",
       "      <td>/s/produtosprincipal</td>\n",
       "      <td>1</td>\n",
       "    </tr>\n",
       "    <tr>\n",
       "      <td>3</td>\n",
       "      <td>3</td>\n",
       "      <td>NaN</td>\n",
       "      <td>/s/</td>\n",
       "      <td>21</td>\n",
       "    </tr>\n",
       "    <tr>\n",
       "      <td>4</td>\n",
       "      <td>4</td>\n",
       "      <td>NaN</td>\n",
       "      <td>/s/</td>\n",
       "      <td>6</td>\n",
       "    </tr>\n",
       "  </tbody>\n",
       "</table>\n",
       "</div>"
      ],
      "text/plain": [
       "   Unnamed: 0   Id             page_path  pageviews\n",
       "0           0  NaN                   /s/          3\n",
       "1           1  NaN                   /s/          8\n",
       "2           2  NaN  /s/produtosprincipal          1\n",
       "3           3  NaN                   /s/         21\n",
       "4           4  NaN                   /s/          6"
      ]
     },
     "execution_count": 12,
     "metadata": {},
     "output_type": "execute_result"
    }
   ],
   "source": [
    "dfAcesso.head()"
   ]
  },
  {
   "cell_type": "markdown",
   "metadata": {
    "colab_type": "text",
    "id": "E6WxmgXe9WhH"
   },
   "source": [
    "## Descritivo"
   ]
  },
  {
   "cell_type": "code",
   "execution_count": 13,
   "metadata": {
    "colab": {
     "base_uri": "https://localhost:8080/",
     "height": 300
    },
    "colab_type": "code",
    "id": "ByoU8uar9c3s",
    "outputId": "c2ccaed3-2602-428c-c98b-72d3d7037d29"
   },
   "outputs": [
    {
     "data": {
      "text/html": [
       "<div>\n",
       "<style scoped>\n",
       "    .dataframe tbody tr th:only-of-type {\n",
       "        vertical-align: middle;\n",
       "    }\n",
       "\n",
       "    .dataframe tbody tr th {\n",
       "        vertical-align: top;\n",
       "    }\n",
       "\n",
       "    .dataframe thead th {\n",
       "        text-align: right;\n",
       "    }\n",
       "</style>\n",
       "<table border=\"1\" class=\"dataframe\">\n",
       "  <thead>\n",
       "    <tr style=\"text-align: right;\">\n",
       "      <th></th>\n",
       "      <th>Unnamed: 0</th>\n",
       "      <th>pageviews</th>\n",
       "    </tr>\n",
       "  </thead>\n",
       "  <tbody>\n",
       "    <tr>\n",
       "      <td>count</td>\n",
       "      <td>382937.000000</td>\n",
       "      <td>382937.000000</td>\n",
       "    </tr>\n",
       "    <tr>\n",
       "      <td>mean</td>\n",
       "      <td>191468.000000</td>\n",
       "      <td>1.870642</td>\n",
       "    </tr>\n",
       "    <tr>\n",
       "      <td>std</td>\n",
       "      <td>110544.534354</td>\n",
       "      <td>3.529426</td>\n",
       "    </tr>\n",
       "    <tr>\n",
       "      <td>min</td>\n",
       "      <td>0.000000</td>\n",
       "      <td>0.000000</td>\n",
       "    </tr>\n",
       "    <tr>\n",
       "      <td>25%</td>\n",
       "      <td>95734.000000</td>\n",
       "      <td>1.000000</td>\n",
       "    </tr>\n",
       "    <tr>\n",
       "      <td>50%</td>\n",
       "      <td>191468.000000</td>\n",
       "      <td>1.000000</td>\n",
       "    </tr>\n",
       "    <tr>\n",
       "      <td>75%</td>\n",
       "      <td>287202.000000</td>\n",
       "      <td>2.000000</td>\n",
       "    </tr>\n",
       "    <tr>\n",
       "      <td>max</td>\n",
       "      <td>382936.000000</td>\n",
       "      <td>287.000000</td>\n",
       "    </tr>\n",
       "  </tbody>\n",
       "</table>\n",
       "</div>"
      ],
      "text/plain": [
       "          Unnamed: 0      pageviews\n",
       "count  382937.000000  382937.000000\n",
       "mean   191468.000000       1.870642\n",
       "std    110544.534354       3.529426\n",
       "min         0.000000       0.000000\n",
       "25%     95734.000000       1.000000\n",
       "50%    191468.000000       1.000000\n",
       "75%    287202.000000       2.000000\n",
       "max    382936.000000     287.000000"
      ]
     },
     "execution_count": 13,
     "metadata": {},
     "output_type": "execute_result"
    }
   ],
   "source": [
    "dfAcesso.describe()"
   ]
  },
  {
   "cell_type": "markdown",
   "metadata": {
    "colab_type": "text",
    "id": "EiLvdNLtjoHq"
   },
   "source": [
    "## Observações\n",
    "\n",
    "*   A coluna ID contém um GUID que contém NaN\n",
    "*   A coluna page_path contém a URL da página a partir da home, porém há páginas com query string que será necessária limpeza para estudo\n",
    "\n"
   ]
  },
  {
   "cell_type": "markdown",
   "metadata": {
    "colab_type": "text",
    "id": "i3_Zol9twWRo"
   },
   "source": [
    "# Dataset Produto - Exploração inicial"
   ]
  },
  {
   "cell_type": "markdown",
   "metadata": {
    "colab_type": "text",
    "id": "U-22wiGSwrAW"
   },
   "source": [
    "## Amostra"
   ]
  },
  {
   "cell_type": "code",
   "execution_count": 14,
   "metadata": {
    "colab": {
     "base_uri": "https://localhost:8080/",
     "height": 447
    },
    "colab_type": "code",
    "id": "C6WtPHDyw1G6",
    "outputId": "54b369d1-bba2-4a3c-8639-23f9f3d61cfe"
   },
   "outputs": [
    {
     "data": {
      "text/html": [
       "<div>\n",
       "<style scoped>\n",
       "    .dataframe tbody tr th:only-of-type {\n",
       "        vertical-align: middle;\n",
       "    }\n",
       "\n",
       "    .dataframe tbody tr th {\n",
       "        vertical-align: top;\n",
       "    }\n",
       "\n",
       "    .dataframe thead th {\n",
       "        text-align: right;\n",
       "    }\n",
       "</style>\n",
       "<table border=\"1\" class=\"dataframe\">\n",
       "  <thead>\n",
       "    <tr style=\"text-align: right;\">\n",
       "      <th></th>\n",
       "      <th>Unnamed: 0</th>\n",
       "      <th>AdministradorFundo__c</th>\n",
       "      <th>AtivoDisponivel__c</th>\n",
       "      <th>Carencia__c</th>\n",
       "      <th>CarteiraCNPJ__c</th>\n",
       "      <th>CNPJAdministrador__c</th>\n",
       "      <th>DataDeVencimento__c</th>\n",
       "      <th>DescontoIR__c</th>\n",
       "      <th>DescricaoAtivo__c</th>\n",
       "      <th>DescricaoCarencia__c</th>\n",
       "      <th>...</th>\n",
       "      <th>TipoCarteira__c</th>\n",
       "      <th>TipoCota__c</th>\n",
       "      <th>TipoIndexador__c</th>\n",
       "      <th>TipoRegimeCondomonioCVM__c</th>\n",
       "      <th>Tributacao__c</th>\n",
       "      <th>ValorMinimoAplicacaoAdicional__c</th>\n",
       "      <th>ValorMinimoAplicaInicial__c</th>\n",
       "      <th>ValorMinimoResgate__c</th>\n",
       "      <th>ValorMinimo__c</th>\n",
       "      <th>Vencimento__c</th>\n",
       "    </tr>\n",
       "  </thead>\n",
       "  <tbody>\n",
       "    <tr>\n",
       "      <td>0</td>\n",
       "      <td>0</td>\n",
       "      <td>NaN</td>\n",
       "      <td>False</td>\n",
       "      <td>2020-11-16</td>\n",
       "      <td>NaN</td>\n",
       "      <td>NaN</td>\n",
       "      <td>2020-11-16</td>\n",
       "      <td>20.0</td>\n",
       "      <td>O Certificado de Dep�sito Banc�rio, de forma s...</td>\n",
       "      <td>No venc.</td>\n",
       "      <td>...</td>\n",
       "      <td>NaN</td>\n",
       "      <td>NaN</td>\n",
       "      <td>IPCA</td>\n",
       "      <td>NaN</td>\n",
       "      <td>NaN</td>\n",
       "      <td>NaN</td>\n",
       "      <td>NaN</td>\n",
       "      <td>NaN</td>\n",
       "      <td>5000.0</td>\n",
       "      <td>2020-11-16</td>\n",
       "    </tr>\n",
       "    <tr>\n",
       "      <td>1</td>\n",
       "      <td>1</td>\n",
       "      <td>NaN</td>\n",
       "      <td>False</td>\n",
       "      <td>2021-11-16</td>\n",
       "      <td>NaN</td>\n",
       "      <td>NaN</td>\n",
       "      <td>2021-11-16</td>\n",
       "      <td>17.5</td>\n",
       "      <td>O Certificado de Dep�sito Banc�rio, de forma s...</td>\n",
       "      <td>No venc.</td>\n",
       "      <td>...</td>\n",
       "      <td>NaN</td>\n",
       "      <td>NaN</td>\n",
       "      <td>IPCA</td>\n",
       "      <td>NaN</td>\n",
       "      <td>NaN</td>\n",
       "      <td>NaN</td>\n",
       "      <td>NaN</td>\n",
       "      <td>NaN</td>\n",
       "      <td>5000.0</td>\n",
       "      <td>2021-11-16</td>\n",
       "    </tr>\n",
       "    <tr>\n",
       "      <td>2</td>\n",
       "      <td>2</td>\n",
       "      <td>NaN</td>\n",
       "      <td>False</td>\n",
       "      <td>2022-11-16</td>\n",
       "      <td>NaN</td>\n",
       "      <td>NaN</td>\n",
       "      <td>2022-11-16</td>\n",
       "      <td>15.0</td>\n",
       "      <td>O Certificado de Dep�sito Banc�rio, de forma s...</td>\n",
       "      <td>No venc.</td>\n",
       "      <td>...</td>\n",
       "      <td>NaN</td>\n",
       "      <td>NaN</td>\n",
       "      <td>IPCA</td>\n",
       "      <td>NaN</td>\n",
       "      <td>NaN</td>\n",
       "      <td>NaN</td>\n",
       "      <td>NaN</td>\n",
       "      <td>NaN</td>\n",
       "      <td>5000.0</td>\n",
       "      <td>2022-11-16</td>\n",
       "    </tr>\n",
       "    <tr>\n",
       "      <td>3</td>\n",
       "      <td>3</td>\n",
       "      <td>NaN</td>\n",
       "      <td>False</td>\n",
       "      <td>2024-11-18</td>\n",
       "      <td>NaN</td>\n",
       "      <td>NaN</td>\n",
       "      <td>2024-11-18</td>\n",
       "      <td>15.0</td>\n",
       "      <td>O Certificado de Dep�sito Banc�rio, de forma s...</td>\n",
       "      <td>No venc.</td>\n",
       "      <td>...</td>\n",
       "      <td>NaN</td>\n",
       "      <td>NaN</td>\n",
       "      <td>IPCA</td>\n",
       "      <td>NaN</td>\n",
       "      <td>NaN</td>\n",
       "      <td>NaN</td>\n",
       "      <td>NaN</td>\n",
       "      <td>NaN</td>\n",
       "      <td>5000.0</td>\n",
       "      <td>2024-11-18</td>\n",
       "    </tr>\n",
       "    <tr>\n",
       "      <td>4</td>\n",
       "      <td>4</td>\n",
       "      <td>NaN</td>\n",
       "      <td>False</td>\n",
       "      <td>2020-11-03</td>\n",
       "      <td>NaN</td>\n",
       "      <td>NaN</td>\n",
       "      <td>2020-11-03</td>\n",
       "      <td>20.0</td>\n",
       "      <td>O Certificado de Dep�sito Banc�rio, de forma s...</td>\n",
       "      <td>No venc.</td>\n",
       "      <td>...</td>\n",
       "      <td>NaN</td>\n",
       "      <td>NaN</td>\n",
       "      <td>Pré fixado</td>\n",
       "      <td>NaN</td>\n",
       "      <td>NaN</td>\n",
       "      <td>NaN</td>\n",
       "      <td>NaN</td>\n",
       "      <td>NaN</td>\n",
       "      <td>5000.0</td>\n",
       "      <td>2020-11-03</td>\n",
       "    </tr>\n",
       "  </tbody>\n",
       "</table>\n",
       "<p>5 rows × 86 columns</p>\n",
       "</div>"
      ],
      "text/plain": [
       "   Unnamed: 0 AdministradorFundo__c  AtivoDisponivel__c Carencia__c  \\\n",
       "0           0                   NaN               False  2020-11-16   \n",
       "1           1                   NaN               False  2021-11-16   \n",
       "2           2                   NaN               False  2022-11-16   \n",
       "3           3                   NaN               False  2024-11-18   \n",
       "4           4                   NaN               False  2020-11-03   \n",
       "\n",
       "  CarteiraCNPJ__c CNPJAdministrador__c DataDeVencimento__c  DescontoIR__c  \\\n",
       "0             NaN                  NaN          2020-11-16           20.0   \n",
       "1             NaN                  NaN          2021-11-16           17.5   \n",
       "2             NaN                  NaN          2022-11-16           15.0   \n",
       "3             NaN                  NaN          2024-11-18           15.0   \n",
       "4             NaN                  NaN          2020-11-03           20.0   \n",
       "\n",
       "                                   DescricaoAtivo__c DescricaoCarencia__c  \\\n",
       "0  O Certificado de Dep�sito Banc�rio, de forma s...             No venc.   \n",
       "1  O Certificado de Dep�sito Banc�rio, de forma s...             No venc.   \n",
       "2  O Certificado de Dep�sito Banc�rio, de forma s...             No venc.   \n",
       "3  O Certificado de Dep�sito Banc�rio, de forma s...             No venc.   \n",
       "4  O Certificado de Dep�sito Banc�rio, de forma s...             No venc.   \n",
       "\n",
       "   ... TipoCarteira__c TipoCota__c TipoIndexador__c  \\\n",
       "0  ...             NaN         NaN             IPCA   \n",
       "1  ...             NaN         NaN             IPCA   \n",
       "2  ...             NaN         NaN             IPCA   \n",
       "3  ...             NaN         NaN             IPCA   \n",
       "4  ...             NaN         NaN       Pré fixado   \n",
       "\n",
       "  TipoRegimeCondomonioCVM__c Tributacao__c ValorMinimoAplicacaoAdicional__c  \\\n",
       "0                        NaN           NaN                              NaN   \n",
       "1                        NaN           NaN                              NaN   \n",
       "2                        NaN           NaN                              NaN   \n",
       "3                        NaN           NaN                              NaN   \n",
       "4                        NaN           NaN                              NaN   \n",
       "\n",
       "  ValorMinimoAplicaInicial__c ValorMinimoResgate__c ValorMinimo__c  \\\n",
       "0                         NaN                   NaN         5000.0   \n",
       "1                         NaN                   NaN         5000.0   \n",
       "2                         NaN                   NaN         5000.0   \n",
       "3                         NaN                   NaN         5000.0   \n",
       "4                         NaN                   NaN         5000.0   \n",
       "\n",
       "  Vencimento__c  \n",
       "0    2020-11-16  \n",
       "1    2021-11-16  \n",
       "2    2022-11-16  \n",
       "3    2024-11-18  \n",
       "4    2020-11-03  \n",
       "\n",
       "[5 rows x 86 columns]"
      ]
     },
     "execution_count": 14,
     "metadata": {},
     "output_type": "execute_result"
    }
   ],
   "source": [
    "dfProduto.head()"
   ]
  },
  {
   "cell_type": "code",
   "execution_count": 16,
   "metadata": {
    "colab": {
     "base_uri": "https://localhost:8080/",
     "height": 320
    },
    "colab_type": "code",
    "id": "wLV7jjKI-j3c",
    "outputId": "b4a82e63-d2ea-411a-d4bf-d21e94951ace"
   },
   "outputs": [
    {
     "data": {
      "text/html": [
       "<div>\n",
       "<style scoped>\n",
       "    .dataframe tbody tr th:only-of-type {\n",
       "        vertical-align: middle;\n",
       "    }\n",
       "\n",
       "    .dataframe tbody tr th {\n",
       "        vertical-align: top;\n",
       "    }\n",
       "\n",
       "    .dataframe thead th {\n",
       "        text-align: right;\n",
       "    }\n",
       "</style>\n",
       "<table border=\"1\" class=\"dataframe\">\n",
       "  <thead>\n",
       "    <tr style=\"text-align: right;\">\n",
       "      <th></th>\n",
       "      <th>Unnamed: 0</th>\n",
       "      <th>DescontoIR__c</th>\n",
       "      <th>DiasVencimento__c</th>\n",
       "      <th>FiltroValorMinimo__c</th>\n",
       "      <th>LucroMesAnterior__c</th>\n",
       "      <th>NDiasCotizacaoAplicacao__c</th>\n",
       "      <th>NrDiasUteisCotizacaoResgate__c</th>\n",
       "      <th>NrDiasUteisLiqFAplicacao__c</th>\n",
       "      <th>NrDiasUteisLiqFResgate__c</th>\n",
       "      <th>PatrimonioLiquidoAtual__c</th>\n",
       "      <th>...</th>\n",
       "      <th>TaxaEmissao__c</th>\n",
       "      <th>TaxaNegociada360__c</th>\n",
       "      <th>TaxaPerformance__c</th>\n",
       "      <th>TaxaPreCliente__c</th>\n",
       "      <th>TaxaPreEmissao__c</th>\n",
       "      <th>Taxa__c</th>\n",
       "      <th>ValorMinimoAplicacaoAdicional__c</th>\n",
       "      <th>ValorMinimoAplicaInicial__c</th>\n",
       "      <th>ValorMinimoResgate__c</th>\n",
       "      <th>ValorMinimo__c</th>\n",
       "    </tr>\n",
       "  </thead>\n",
       "  <tbody>\n",
       "    <tr>\n",
       "      <td>count</td>\n",
       "      <td>8603.000000</td>\n",
       "      <td>8603.000000</td>\n",
       "      <td>8282.000000</td>\n",
       "      <td>8603.000000</td>\n",
       "      <td>320.000000</td>\n",
       "      <td>320.000000</td>\n",
       "      <td>320.000000</td>\n",
       "      <td>320.0</td>\n",
       "      <td>320.000000</td>\n",
       "      <td>3.200000e+02</td>\n",
       "      <td>...</td>\n",
       "      <td>8282.000000</td>\n",
       "      <td>8282.0</td>\n",
       "      <td>0.0</td>\n",
       "      <td>8282.000000</td>\n",
       "      <td>8282.000000</td>\n",
       "      <td>8282.0</td>\n",
       "      <td>320.000000</td>\n",
       "      <td>320.000000</td>\n",
       "      <td>320.000000</td>\n",
       "      <td>8282.000000</td>\n",
       "    </tr>\n",
       "    <tr>\n",
       "      <td>mean</td>\n",
       "      <td>4301.000000</td>\n",
       "      <td>17.279437</td>\n",
       "      <td>858.665902</td>\n",
       "      <td>5781.588051</td>\n",
       "      <td>1.890720</td>\n",
       "      <td>0.390625</td>\n",
       "      <td>22.121875</td>\n",
       "      <td>0.0</td>\n",
       "      <td>1.540625</td>\n",
       "      <td>5.894390e+08</td>\n",
       "      <td>...</td>\n",
       "      <td>37.163605</td>\n",
       "      <td>0.0</td>\n",
       "      <td>NaN</td>\n",
       "      <td>5.104583</td>\n",
       "      <td>5.389063</td>\n",
       "      <td>0.0</td>\n",
       "      <td>2607.675000</td>\n",
       "      <td>6775.468750</td>\n",
       "      <td>2435.800000</td>\n",
       "      <td>5743.884569</td>\n",
       "    </tr>\n",
       "    <tr>\n",
       "      <td>std</td>\n",
       "      <td>2483.616516</td>\n",
       "      <td>2.606157</td>\n",
       "      <td>570.948565</td>\n",
       "      <td>11837.216847</td>\n",
       "      <td>18.521884</td>\n",
       "      <td>0.488655</td>\n",
       "      <td>17.729794</td>\n",
       "      <td>0.0</td>\n",
       "      <td>0.720223</td>\n",
       "      <td>1.209156e+09</td>\n",
       "      <td>...</td>\n",
       "      <td>49.820761</td>\n",
       "      <td>0.0</td>\n",
       "      <td>NaN</td>\n",
       "      <td>4.026771</td>\n",
       "      <td>11.667128</td>\n",
       "      <td>0.0</td>\n",
       "      <td>3616.864216</td>\n",
       "      <td>8598.930445</td>\n",
       "      <td>3155.308798</td>\n",
       "      <td>11944.003587</td>\n",
       "    </tr>\n",
       "    <tr>\n",
       "      <td>min</td>\n",
       "      <td>0.000000</td>\n",
       "      <td>15.000000</td>\n",
       "      <td>-1.000000</td>\n",
       "      <td>0.000000</td>\n",
       "      <td>-18.366811</td>\n",
       "      <td>0.000000</td>\n",
       "      <td>0.000000</td>\n",
       "      <td>0.0</td>\n",
       "      <td>0.000000</td>\n",
       "      <td>0.000000e+00</td>\n",
       "      <td>...</td>\n",
       "      <td>0.000000</td>\n",
       "      <td>0.0</td>\n",
       "      <td>NaN</td>\n",
       "      <td>0.000000</td>\n",
       "      <td>0.000000</td>\n",
       "      <td>0.0</td>\n",
       "      <td>0.000000</td>\n",
       "      <td>30.000000</td>\n",
       "      <td>0.000000</td>\n",
       "      <td>1.000000</td>\n",
       "    </tr>\n",
       "    <tr>\n",
       "      <td>25%</td>\n",
       "      <td>2150.500000</td>\n",
       "      <td>15.000000</td>\n",
       "      <td>361.000000</td>\n",
       "      <td>1000.000000</td>\n",
       "      <td>0.054150</td>\n",
       "      <td>0.000000</td>\n",
       "      <td>3.000000</td>\n",
       "      <td>0.0</td>\n",
       "      <td>1.000000</td>\n",
       "      <td>6.793882e+07</td>\n",
       "      <td>...</td>\n",
       "      <td>0.000000</td>\n",
       "      <td>0.0</td>\n",
       "      <td>NaN</td>\n",
       "      <td>3.150000</td>\n",
       "      <td>3.350000</td>\n",
       "      <td>0.0</td>\n",
       "      <td>500.000000</td>\n",
       "      <td>1000.000000</td>\n",
       "      <td>500.000000</td>\n",
       "      <td>1000.000000</td>\n",
       "    </tr>\n",
       "    <tr>\n",
       "      <td>50%</td>\n",
       "      <td>4301.000000</td>\n",
       "      <td>17.500000</td>\n",
       "      <td>719.000000</td>\n",
       "      <td>5000.000000</td>\n",
       "      <td>0.476561</td>\n",
       "      <td>0.000000</td>\n",
       "      <td>30.000000</td>\n",
       "      <td>0.0</td>\n",
       "      <td>1.000000</td>\n",
       "      <td>2.025237e+08</td>\n",
       "      <td>...</td>\n",
       "      <td>0.000000</td>\n",
       "      <td>0.0</td>\n",
       "      <td>NaN</td>\n",
       "      <td>5.700000</td>\n",
       "      <td>5.900000</td>\n",
       "      <td>0.0</td>\n",
       "      <td>1000.000000</td>\n",
       "      <td>5000.000000</td>\n",
       "      <td>1000.000000</td>\n",
       "      <td>5000.000000</td>\n",
       "    </tr>\n",
       "    <tr>\n",
       "      <td>75%</td>\n",
       "      <td>6451.500000</td>\n",
       "      <td>20.000000</td>\n",
       "      <td>1249.000000</td>\n",
       "      <td>10000.000000</td>\n",
       "      <td>1.345336</td>\n",
       "      <td>1.000000</td>\n",
       "      <td>30.000000</td>\n",
       "      <td>0.0</td>\n",
       "      <td>2.000000</td>\n",
       "      <td>6.523775e+08</td>\n",
       "      <td>...</td>\n",
       "      <td>100.000000</td>\n",
       "      <td>0.0</td>\n",
       "      <td>NaN</td>\n",
       "      <td>7.007500</td>\n",
       "      <td>7.197500</td>\n",
       "      <td>0.0</td>\n",
       "      <td>5000.000000</td>\n",
       "      <td>10000.000000</td>\n",
       "      <td>5000.000000</td>\n",
       "      <td>10000.000000</td>\n",
       "    </tr>\n",
       "    <tr>\n",
       "      <td>max</td>\n",
       "      <td>8602.000000</td>\n",
       "      <td>22.500000</td>\n",
       "      <td>17898.000000</td>\n",
       "      <td>1000000.000000</td>\n",
       "      <td>328.808151</td>\n",
       "      <td>1.000000</td>\n",
       "      <td>90.000000</td>\n",
       "      <td>0.0</td>\n",
       "      <td>5.000000</td>\n",
       "      <td>1.404355e+10</td>\n",
       "      <td>...</td>\n",
       "      <td>143.000000</td>\n",
       "      <td>0.0</td>\n",
       "      <td>NaN</td>\n",
       "      <td>114.000000</td>\n",
       "      <td>1000.000000</td>\n",
       "      <td>0.0</td>\n",
       "      <td>30000.000000</td>\n",
       "      <td>50000.000000</td>\n",
       "      <td>25000.000000</td>\n",
       "      <td>1000000.000000</td>\n",
       "    </tr>\n",
       "  </tbody>\n",
       "</table>\n",
       "<p>8 rows × 44 columns</p>\n",
       "</div>"
      ],
      "text/plain": [
       "        Unnamed: 0  DescontoIR__c  DiasVencimento__c  FiltroValorMinimo__c  \\\n",
       "count  8603.000000    8603.000000        8282.000000           8603.000000   \n",
       "mean   4301.000000      17.279437         858.665902           5781.588051   \n",
       "std    2483.616516       2.606157         570.948565          11837.216847   \n",
       "min       0.000000      15.000000          -1.000000              0.000000   \n",
       "25%    2150.500000      15.000000         361.000000           1000.000000   \n",
       "50%    4301.000000      17.500000         719.000000           5000.000000   \n",
       "75%    6451.500000      20.000000        1249.000000          10000.000000   \n",
       "max    8602.000000      22.500000       17898.000000        1000000.000000   \n",
       "\n",
       "       LucroMesAnterior__c  NDiasCotizacaoAplicacao__c  \\\n",
       "count           320.000000                  320.000000   \n",
       "mean              1.890720                    0.390625   \n",
       "std              18.521884                    0.488655   \n",
       "min             -18.366811                    0.000000   \n",
       "25%               0.054150                    0.000000   \n",
       "50%               0.476561                    0.000000   \n",
       "75%               1.345336                    1.000000   \n",
       "max             328.808151                    1.000000   \n",
       "\n",
       "       NrDiasUteisCotizacaoResgate__c  NrDiasUteisLiqFAplicacao__c  \\\n",
       "count                      320.000000                        320.0   \n",
       "mean                        22.121875                          0.0   \n",
       "std                         17.729794                          0.0   \n",
       "min                          0.000000                          0.0   \n",
       "25%                          3.000000                          0.0   \n",
       "50%                         30.000000                          0.0   \n",
       "75%                         30.000000                          0.0   \n",
       "max                         90.000000                          0.0   \n",
       "\n",
       "       NrDiasUteisLiqFResgate__c  PatrimonioLiquidoAtual__c  ...  \\\n",
       "count                 320.000000               3.200000e+02  ...   \n",
       "mean                    1.540625               5.894390e+08  ...   \n",
       "std                     0.720223               1.209156e+09  ...   \n",
       "min                     0.000000               0.000000e+00  ...   \n",
       "25%                     1.000000               6.793882e+07  ...   \n",
       "50%                     1.000000               2.025237e+08  ...   \n",
       "75%                     2.000000               6.523775e+08  ...   \n",
       "max                     5.000000               1.404355e+10  ...   \n",
       "\n",
       "       TaxaEmissao__c  TaxaNegociada360__c  TaxaPerformance__c  \\\n",
       "count     8282.000000               8282.0                 0.0   \n",
       "mean        37.163605                  0.0                 NaN   \n",
       "std         49.820761                  0.0                 NaN   \n",
       "min          0.000000                  0.0                 NaN   \n",
       "25%          0.000000                  0.0                 NaN   \n",
       "50%          0.000000                  0.0                 NaN   \n",
       "75%        100.000000                  0.0                 NaN   \n",
       "max        143.000000                  0.0                 NaN   \n",
       "\n",
       "       TaxaPreCliente__c  TaxaPreEmissao__c  Taxa__c  \\\n",
       "count        8282.000000        8282.000000   8282.0   \n",
       "mean            5.104583           5.389063      0.0   \n",
       "std             4.026771          11.667128      0.0   \n",
       "min             0.000000           0.000000      0.0   \n",
       "25%             3.150000           3.350000      0.0   \n",
       "50%             5.700000           5.900000      0.0   \n",
       "75%             7.007500           7.197500      0.0   \n",
       "max           114.000000        1000.000000      0.0   \n",
       "\n",
       "       ValorMinimoAplicacaoAdicional__c  ValorMinimoAplicaInicial__c  \\\n",
       "count                        320.000000                   320.000000   \n",
       "mean                        2607.675000                  6775.468750   \n",
       "std                         3616.864216                  8598.930445   \n",
       "min                            0.000000                    30.000000   \n",
       "25%                          500.000000                  1000.000000   \n",
       "50%                         1000.000000                  5000.000000   \n",
       "75%                         5000.000000                 10000.000000   \n",
       "max                        30000.000000                 50000.000000   \n",
       "\n",
       "       ValorMinimoResgate__c  ValorMinimo__c  \n",
       "count             320.000000     8282.000000  \n",
       "mean             2435.800000     5743.884569  \n",
       "std              3155.308798    11944.003587  \n",
       "min                 0.000000        1.000000  \n",
       "25%               500.000000     1000.000000  \n",
       "50%              1000.000000     5000.000000  \n",
       "75%              5000.000000    10000.000000  \n",
       "max             25000.000000  1000000.000000  \n",
       "\n",
       "[8 rows x 44 columns]"
      ]
     },
     "execution_count": 16,
     "metadata": {},
     "output_type": "execute_result"
    }
   ],
   "source": [
    "dfProduto.describe()"
   ]
  },
  {
   "cell_type": "code",
   "execution_count": 17,
   "metadata": {
    "colab": {
     "base_uri": "https://localhost:8080/",
     "height": 34
    },
    "colab_type": "code",
    "id": "mnySrucZDFlQ",
    "outputId": "98cfdc99-7317-49d5-fb2a-21f9145e14c0"
   },
   "outputs": [
    {
     "data": {
      "text/plain": [
       "array(['IPCA', 'Pré fixado', nan, 'CDI', 'IGPM'], dtype=object)"
      ]
     },
     "execution_count": 17,
     "metadata": {},
     "output_type": "execute_result"
    }
   ],
   "source": [
    "dfProduto['TipoIndexador__c'].unique()"
   ]
  },
  {
   "cell_type": "code",
   "execution_count": 18,
   "metadata": {
    "colab": {
     "base_uri": "https://localhost:8080/",
     "height": 34
    },
    "colab_type": "code",
    "id": "zqZhQhe8-LEb",
    "outputId": "9af7b70c-0aba-41bb-d95f-46cea6823d46"
   },
   "outputs": [
    {
     "data": {
      "text/plain": [
       "array(['+ IPCA', 'PRÉ', nan, 'CDI', '+IGPM', '+ CDI'], dtype=object)"
      ]
     },
     "execution_count": 18,
     "metadata": {},
     "output_type": "execute_result"
    }
   ],
   "source": [
    "dfProduto['NomeIndexador__c'].unique()"
   ]
  },
  {
   "cell_type": "code",
   "execution_count": 19,
   "metadata": {
    "colab": {
     "base_uri": "https://localhost:8080/",
     "height": 86
    },
    "colab_type": "code",
    "id": "68iiToIs-T-E",
    "outputId": "58cc7d64-8db8-49fe-d958-be34f40b3e61"
   },
   "outputs": [
    {
     "data": {
      "text/plain": [
       "array(['CDB POS 1', 'CDB PRE 1', 'CDB POS', 'CDB PRE', 'LCA PRE',\n",
       "       'LCI PRE', nan, 'LC POS', 'LCI POS 1', 'LCA POS', 'LCA POS 1',\n",
       "       'LCI POS', 'LC PRE', 'LCI PRE 1', 'CDI POS', 'Gabriel',\n",
       "       'CDB POS SAN', 'LCI POS SAN'], dtype=object)"
      ]
     },
     "execution_count": 19,
     "metadata": {},
     "output_type": "execute_result"
    }
   ],
   "source": [
    "dfProduto['NomeProduto__c'].unique()"
   ]
  },
  {
   "cell_type": "code",
   "execution_count": 20,
   "metadata": {
    "colab": {
     "base_uri": "https://localhost:8080/",
     "height": 91
    },
    "colab_type": "code",
    "id": "flbNYHdc-x69",
    "outputId": "af6a479b-1015-488b-d9d1-48a8f1022994"
   },
   "outputs": [
    {
     "data": {
      "text/plain": [
       "array(['CDB POS 1', 'CDB PRE 1', 'CDB POS', 'CDB PRE', 'LCA PRE',\n",
       "       'LCI PRE', nan, 'LC POS', 'LCI POS 1', 'LCA POS', 'LCA POS 1',\n",
       "       'LCI POS', 'LC PRE', 'LCI PRE 1', 'CDI POS', 'CDB POS SAN',\n",
       "       'LCI POS SAN'], dtype=object)"
      ]
     },
     "execution_count": 20,
     "metadata": {},
     "output_type": "execute_result"
    }
   ],
   "source": [
    "dfProduto['DescricaoProduto__c'].unique()"
   ]
  },
  {
   "cell_type": "code",
   "execution_count": 117,
   "metadata": {
    "colab": {
     "base_uri": "https://localhost:8080/",
     "height": 1000
    },
    "colab_type": "code",
    "id": "f1FP7_lv-7Lg",
    "outputId": "1356f03e-ea35-4963-b86a-79ed64edadf2"
   },
   "outputs": [
    {
     "data": {
      "text/plain": [
       "array(['CDB', 'LCA', 'LCI', 'EQUITAS SELECTION MÃO AMIGA FIC AÇÕES',\n",
       "       'EQUITAS SELECTION FIC FIA', 'LC',\n",
       "       'TRIGONO FLAGSHIP SMALL CAPS FIC FIA', 'TRIGONO VERBIER  FIA',\n",
       "       'SQUADRA LONG-BIASED FIC FIA', 'SQUADRA LONG-ONLY FIC FIA',\n",
       "       'BOGARI VALUE D FIC FIA', 'KIRON FIC FIA',\n",
       "       'KIRON INSTITUCIONAL FIA', 'KAPITALO ALPHA GLOBAL FIC FIM',\n",
       "       'KAPITALO KAPPA D FIC FIM', 'KAPITALO TARKUS FIC FIA',\n",
       "       'FRANKLIN K2 ALTERNATIVE STRATEGIES FIC F',\n",
       "       'FRANKLIN VALOR E LIQUIDEZ FVL FIC FIA',\n",
       "       'PORTO SEGURO ALOCAÇÃO FIC FIM', 'PORTO SEGURO MACRO FIC FIM',\n",
       "       'PORTO SEGURO CLÁSSICO RF FICFI LP',\n",
       "       'PORTO SEGURO IMA-B5 FIC DE FI RF LP',\n",
       "       'PORTO SEGURO SELECTA FIC FIA',\n",
       "       'PORTO SEGURO FI RF REF DI CREDITO PRIVAD',\n",
       "       'PORTO SEGURO JURO REAL FIC FI RF LP',\n",
       "       'REACH FUNDO DE INVESTIMENTO DE ACOES',\n",
       "       'REACH TOTAL RETURN FIC FIA', 'DLM HEDGE CONSERVADOR II FIRF CP',\n",
       "       'PERFIN FORESIGHT INSTITUCIONAL FIC FIA',\n",
       "       'PERFIN EQUITY HEDGE 15 FIC FIM', 'GARDE DARTAGNAN FIC FIM',\n",
       "       'GARDE ATHOS LONG BIASED FIC FIM', 'CA INDOSUEZ AGILITÉ FIRF CP',\n",
       "       'CA INDOSUEZ ALLOCATION ACTION FIC FIA',\n",
       "       'CA INDOSUEZ AVANT GARDE FEEDER 1 FIC FIM',\n",
       "       'CA INDOSUEZ BÉTON FIC FIM',\n",
       "       'CA INDOSUEZ DI MASTER FIRF REF. DI LP',\n",
       "       'CA INDOSUEZ GRAND VITESSE FIRF CP', 'CA INDOSUEZ VITESSE FIRF CP',\n",
       "       'NAVI LONG SHORT FIC FIM', 'NAVI LONG BIASED FIC FIM',\n",
       "       'CA INDOSUEZ DEBENTURES INCENTIVADAS CP',\n",
       "       'RB CAPITAL VITORIA DEB INCENTIVADAS FIC',\n",
       "       'RB CAPITAL DEB INCENTIVADAS FIC FIM CP',\n",
       "       'NOVUS CAPITAL MACRO FIC FIM', 'NOVUS INSTITUCIONAL FIC FIM',\n",
       "       'NOVUS AÇÕES INSTITUCIONAL FIC FIA',\n",
       "       'HIX CAPITAL INSTITUCIONAL FIA', 'AZ QUEST EQUITY HEDGE FIC FIM',\n",
       "       'AZ QUEST YIELD FIC FIRF LP', 'AZ QUEST VALORE FIRF CP',\n",
       "       'AZ QUEST SMALL MID CAPS FIC FIA', 'AZ QUEST AÇÕES FIC FIA',\n",
       "       'ICATU VANGUARDA FIC FI INFLAÇÃO CURTA RF',\n",
       "       'ICATU VANGUARDA RF FI PLUS LP', 'ICATU VANGUARDA MACRO FIM',\n",
       "       'ICATU VANGUARDA AÇÕES IBX FI',\n",
       "       'ICATU VANGUARDA PRÉ-FIXADO FIRF LP',\n",
       "       'ICATU VANGUARDA DIVIDENDOS FIA',\n",
       "       'ICATU VANGUARDA FIC FI INFLAÇÃO LONGA RF',\n",
       "       'ICATU VANGUARDA FIRF INFLAÇÃO CP LP', 'TRUXT I VALOR FIC FIA',\n",
       "       'TRUXT I MACRO FIC FIM', 'TRUXT I VALOR INSTITUCIONAL FIC FIA',\n",
       "       'SPARTA TOP FIC FIRF CP LP',\n",
       "       'SPARTA PREMIUM FIC FIRF REFERENCIADO DI',\n",
       "       'SPARTA MAX FIC FIRF CP LP',\n",
       "       'SPARTA DEBENTURES INCENTIVADAS II FIC RF',\n",
       "       'NOVUS RETORNO ABSOLUTO FIC FIM', 'CANVAS DAKAR LONG BIAS FIC FIM',\n",
       "       'CANVAS VECTOR FIC FIM', 'CANVAS ENDURO II FIC FIM',\n",
       "       'CANVAS CLASSIC II FIC FIM', 'STUDIO FIC FIA', 'STUDIO 30 FIC FIA',\n",
       "       'MÓDULO I FIC FIA', 'MÓDULO INSTITUCIONAL FIC FIA BDR NÍVEL I',\n",
       "       'VERDE AM UNIQUE LONG BIAS FIC FIA', 'VINLAND LONG ONLY FIC FIA',\n",
       "       'VINLAND MACRO FIC FIM', 'VINLAND LONG BIAS FIC FIM',\n",
       "       'VINTAGE MACRO PLATAFORMAS FIC FIM', 'RIO BRAVO APOLLO FIC FIM',\n",
       "       'RIO BRAVO CRÉDITO PRIVADO FIRF',\n",
       "       'ABSOLUTE PACE LONG BIASED FIC FIA', 'ABSOLUTE HEDGE FIC FIM',\n",
       "       'MOAT CAPITAL FIC FIA', 'MOAT CAPITAL EQUITY HEDGE FIC FIM',\n",
       "       'SAFARI 45 FIC FIM II', 'PAINEIRAS HEDGE II FIC FIM',\n",
       "       'JGP DEBÊNTURES INCENTIVADAS FIC FIRF CP',\n",
       "       'IP VALUE HEDGE FIC FIA BDR NÍVEL I', 'MILES VIRTUS B FIC FIA',\n",
       "       'LEGACY CAPITAL FIC FIM', 'DEVANT AUDAX FIM CP',\n",
       "       'DEVANT MAGNA FIRF CP LP',\n",
       "       'DEVANT DEBÊNTURES INCENTIVADAS FIRF CP',\n",
       "       'DEVANT SOLIDUS CASH FIRF CP', 'IRIDIUM TITAN FIC FIRF CP',\n",
       "       'IRIDIUM PIONEER DEB INCENTIVADAS FIRF CP',\n",
       "       'IRIDIUM APOLLO FIRF CP LP', 'ATLAS ONE FIC FIA',\n",
       "       'IBIUNA EQUITIES 30 FIC FIA', 'IBIUNA LONG SHORT STLS FIC FIM',\n",
       "       'IBIUNA LONG BIASED FIC FIM', 'IBIUNA HEDGE STH FIC FIM',\n",
       "       'IBIUNA HEDGE FIC FIM', 'GAP ABSOLUTO FIC FIM', 'FAMA FIC FIA',\n",
       "       'GUEPARDO INSTITUCIONAL FIC FIA', 'GUEPARDO ALLOCATION FIC FIA',\n",
       "       'INDIE FIC FIA', 'VISTA MULTIESTRATÉGIA FIM', 'VISTA HEDGE FIM',\n",
       "       'VISTA FIA', 'STK LONG ONLY INSTITUCIONAL FIA',\n",
       "       'STK LONG BIASED FIC FIA', 'SHARP EQUITY VALUE FEEDER FIC FIA',\n",
       "       'SHARP IBOVESPA ATIVO FIA', 'SHARP EQUITY VALUE INSTITUCIONAL FIA',\n",
       "       'SHARP LONG BIASED FEEDER FIC FIA', 'SHARP LONG SHORT 2X FIM',\n",
       "       'CARDINAL PARTNERS FIA', 'ICATU VANGUARDA CP FIRF LP',\n",
       "       'GTI DIMONA BRASIL FIA', 'LUMINUS FIA', 'NEST FIA',\n",
       "       'AF INVEST FIRF CP GERAES', 'AF INVEST GERAES 30 FIRF CP',\n",
       "       'AF INVEST MINAS FIA', 'AZ QUEST ALTRO FIC FIM CP',\n",
       "       'AZ QUEST AZIMUT IMPACTO FIC FIM CP',\n",
       "       'AZ QUEST DEB INCENTIVADAS FIC FIM CP',\n",
       "       'AZ QUEST TOP LONG BIASED FIC FIA',\n",
       "       'AZ QUEST TOTAL RETURN FIC FIM', 'AZ QUEST LUCE FIC FIRF CP LP',\n",
       "       'AZ QUEST MULTI MAX FIC FIM', 'AZ QUEST MULTI 15 FIC FIM',\n",
       "       'TARPON GT FIC FIA', 'MZK DINÂMICO FIC FIM',\n",
       "       'NW3 EVENT DRIVEN FIC FIM',\n",
       "       'BERNARDO S. DA ICATU - DATA ALVO 2050', 'FATOR AÇÕES FIC FIA',\n",
       "       'FATOR PORTFOLIO PLUS FIC FIM', 'FATOR SINERGIA FIA',\n",
       "       'BERNARDO S. DA ICATU - DATA ALVO 2040',\n",
       "       'BERNARDO S. DA ICATU - DATA ALVO 2030',\n",
       "       'OURO PRETO REAL FIC FIRF LP', 'VERSA CHARGER BDR NÍVEL I FIA',\n",
       "       'VERSA TRACKER FIM', 'BRASIL CAPITAL FIC FIA',\n",
       "       'KAIRÓS MACRO FIC FIM', 'VALORA GUARDIAN II FIC FIM CP',\n",
       "       'VALORA ABSOLUTE FIRF CP LP', 'TRANCOSO IBOVESPA FIC FIA',\n",
       "       'ITAPARICA FIC FIM', 'TB ITACARE FUNDO DE INVESTIMENTO RF LP',\n",
       "       'NEST ABSOLUTE RETURN FIM', 'FUNDAMENTA SELECAO FIC FIM CP',\n",
       "       'SPARTA DEBENTURES FIC FIM RF CP',\n",
       "       'NEO MULTI ESTRATÉGIA 30 FEEDER FIC FIM', 'NEO NAVITAS B FIC FIA',\n",
       "       'NEO FUTURE II FIC FIA', 'MACRO CAPITAL ONE FIC FIM',\n",
       "       'AZ QUEST MULTI FIC FIM', 'KINEA ARKHE FIM', 'KINEA ATLAS II FIM',\n",
       "       'KINEA ABSOLUTO FI RF LP', 'KINEA CHRONOS FIM',\n",
       "       'QUANTITAS FIC FIM MALLORCA', 'QUANTITAS FIA MONTECRISTO',\n",
       "       'QUANTITAS FIM GALAPAGOS',\n",
       "       'TRAFALGAR ROYAL LONG BIAS LATAM FIC FIA',\n",
       "       'TRAFALGAR VICTORY FIC FIM', 'TAGUS FUNDAMENTAL FIA',\n",
       "       'TAGUS ABSOLUTO FUNDO DE INVESTIMENTO MUL', 'FORPUS AÇÕES FIC FIA',\n",
       "       'ARX ESPECIAL MACRO FIC FIM', 'Catálogo Padrão Tesouro Direto',\n",
       "       'PROPEL AXIS I FIM CP', 'APEX AÇÕES 30 FIC FIA',\n",
       "       'APEX EQUITY HEDGE FIM', 'APEX LONG BIASED FIC FIM',\n",
       "       'APEX INFINITY 8 LONG BIASED FIC FIA', 'BAHIA AM FIC de FIM',\n",
       "       'BAHIA AM MARAU FIC de FIM', 'BRADESCO ASSET FIC FIM ABSOLUTO 42',\n",
       "       'BRADESCO ASSET FIC FIA DIVIDENDOS',\n",
       "       'BRADESCO ASSET FIC FIA LONG ONLY',\n",
       "       'BRADESCO ASSET FIC FIM ALOCAÇÃO ARROJADA',\n",
       "       'BRADESCO ASSET FIC FIA CRESCIMENTO',\n",
       "       'BRADESCO ASSET FIC FIM MACRO 22',\n",
       "       'BRADESCO ASSET FIC RF REFERENCIADO DI',\n",
       "       'BRADESCO ASSET FIC FIA SMALL CAPS',\n",
       "       'BAHIA AM VALUATION FIC de FIA', 'BAHIA AM LONG BIASED FIC de FIM',\n",
       "       'BAHIA AM SMID CAPS VALOR FIC de FIA', 'SAGA TOP FIC FIM',\n",
       "       'SAGA FIA', 'JGP EQUITY FIC FIM', 'JGP LONG ONLY FIC FIA',\n",
       "       'SOLANA LONG AND SHORT FIC FIM', 'SOLANA ABSOLUTTO FIC FIM',\n",
       "       'BUTIA EXCELLENCE FIC FIM', 'BUTIA FUNDAMENTAL FIC FIA',\n",
       "       'BUTIA DEBENTURES FI-INFRA RF LP', 'BUTIA TOP CP FIC FI RF',\n",
       "       'PERSEVERA COMPASS FIC FIM', 'DAHLIA INSTITUCIONAL FIC FIA',\n",
       "       'DAHLIA TOTAL RETURN FIC FIM',\n",
       "       'TORK LONG ONLY INSTITUCIONAL FIC FIA', 'TORK 60 FIC FIA',\n",
       "       'REAL INVESTOR  FIA', 'REAL INVESTOR FIM', 'ACE CAPITAL FIC FIM',\n",
       "       'LOGOS LONG BIASED FIC FIM', 'LOGOS TOTAL RETURN FIC FIM',\n",
       "       'LOGOS LONG BIASED II FIC FIA', 'TRIGONO DELPHOS INCOME FIC FIA',\n",
       "       'PORTO SEGURO AÇÕES FIC FI', 'CDI POS',\n",
       "       'ALASKA BLACK FIC FIA II - BDR NÍVEL I', 'SAM JURO REAL RF FIC FI',\n",
       "       'VOTORANTIM FIC FI CAMBIAL DOLAR', 'PI SELIC RF SIMPLES FI',\n",
       "       'SAM RATES AND FX MULTIMERCADO FIC FI',\n",
       "       'BLUE ALPHA FEEDER B FIC DE FIM',\n",
       "       'SAM RENDA FIXA LONGO PRAZO FIC FI', 'FABIO PASSOS - CA INDOSUEZ',\n",
       "       'DAN KAWA - TAG INVESTIMENTOS',\n",
       "       'RENATO SANTANIELLO - SANTANDER PRIVATE',\n",
       "       'JOJO WACHSMANN - VITREO',\n",
       "       'VOTORANTIM FI EQUITY HEDGE MULTIMERCADO',\n",
       "       'VOTORANTIM FI EAGLE RF LP',\n",
       "       'BTG PACTUAL YIELD DI FI REFERENCIADO CP',\n",
       "       'BTG PACTUAL HEDGE FI MULTIMERCADO', 'BTG PACTUAL EXPLORER FIM',\n",
       "       'BTG PACTUAL DIVIDENDOS FIC FIA',\n",
       "       'BTG PACTUAL ABSOLUTO INSTITUCIONAL FIA',\n",
       "       'BTG PACTUAL DISCOVERY FIM',\n",
       "       'BTG PACTUAL DEBENTURES INCENTIVADAS FIRF',\n",
       "       'BTG PACTUAL CREDITO CORP 30 FIC RF CP LP',\n",
       "       'GAUSS INCOME FIC FI RF CP', 'SUL AMÉRICA EXCELLENCE FI RF CP',\n",
       "       'SUL AMÉRICA TÁTICO FIM', 'SUL AMÉRICA TOTAL IMPACTO FIA',\n",
       "       'APOLLO FIM CP', 'SUL AMÉRICA FV FIA', 'SUL AMÉRICA ENDURANCE FIM',\n",
       "       'SUL AMÉRICA RF ATIVO FI LP',\n",
       "       'SUL AMÉRICA CRÉDITO ATIVO FI RF CP LP',\n",
       "       'SUL AMÉRICA JURO REAL CURTO FI RF LP',\n",
       "       'CONSTÂNCIA FUNDAMENTO FIA', 'OPPORTUNITY TOTAL FIC FIM',\n",
       "       'OPPORTUNITY MARKET FIC FIM', 'OPPORTUNITY SELECTION FIC FIA',\n",
       "       'OPPORTUNITY LONG BIASED FIC FIM', 'BRASIL CAPITAL 30 FIC FIA',\n",
       "       'LEBLON AÇÕES II FIC FIA', 'LEBLON AÇÕES FIC FIA',\n",
       "       'POLO LONG BIAS FIM', 'POLO MACRO FIM',\n",
       "       'CAPITÂNIA TOP CP FIC FI RF', 'CAPITÂNIA PREMIUM FIC FIRF CP',\n",
       "       'DLM PREMIUM 30 FIRF CP LP', 'DLM HEDGE MODERADO FIM CP',\n",
       "       'DLM HEDGE CONSERVADOR FIM',\n",
       "       'ARX VINSON FUNDO DE INVESTIMENTO RF CP',\n",
       "       'ARX EVEREST FIC FIRF CP', 'ARX EXTRA FIC FIM', 'ARX FIA',\n",
       "       'ARX INCOME FIA', 'ARX LONG SHORT FIC FIM',\n",
       "       'ARX LONG TERM FIC FIA', 'EOS TITANIUM FIM',\n",
       "       'ARX TARGET INSTITUCIONAL FIM',\n",
       "       'ARX ELBRUS DEBÊNTURES INCENTIVADAS FIM C', 'ARX DENALI FIRF CP',\n",
       "       'QUASAR ADVANTAGE FIRF CP LP', 'QUASAR ADVANTAGE PLUS FIRF CP LP',\n",
       "       'TORK FUNDO DE INVESTIMENTO EM COTAS FIA',\n",
       "       'KADIMA EQUITIES FIC FIA', 'KADIMA II FIC FIM',\n",
       "       'ATHENA TOTAL RETURN II FIC FIA',\n",
       "       'EXPLORITAS ALPHA AMERICA LATINA FIC FIM',\n",
       "       'RPS TOTAL RETURN D30 FIC FIM', 'AUGME 45 FIC FIM CP',\n",
       "       'GAUSS FIC FIM', 'CONSTELLATION INSTITUCIONAL FIC FIA',\n",
       "       'CLARITAS HEDGE FIC FIM LP', 'CLARITAS VALOR FEEDER FIA',\n",
       "       'CLARITAS TOTAL RETURN FIC FIM', 'CLARITAS LONG SHORT FIC FIM',\n",
       "       'CLARITAS INSTITUCIONAL FIM', 'OCCAM FIC FIA',\n",
       "       'OCCAM LONG & SHORT PLUS FIC FIM', 'OCCAM LONG BIASED FIC FIM',\n",
       "       'OCCAM EQUITY HEDGE FIC FIM', 'OCCAM RETORNO ABSOLUTO FIC FIM',\n",
       "       'OCCAM FUNDO DE INVESTIMENTO CAMBIAL',\n",
       "       'OCCAM INSTITUCIONAL FIC FIM II', 'CLARITAS QUANT FIC FIM',\n",
       "       'GROU VALOR FIC FIA', 'GROU ABSOLUTO FIC FIM',\n",
       "       'CONSTELLATION 60 FIC FIA', 'PACIFICO MACRO FIC FIM',\n",
       "       'PACIFICO AÇÕES FIC FIA', 'PACIFICO LB FIC FIM',\n",
       "       'MAUÁ ABSOLUTO FIC FIM', 'MAUÁ CAPITAL AÇÕES FIC FIA',\n",
       "       'MAUÁ CAPITAL AÇÕES INSTITUCIONAL FIC FIA', 'MAUÁ MACRO FIC FIM',\n",
       "       'BRASIL PLURAL YIELD FIRF REFERENCIADO DI',\n",
       "       'BRASIL PLURAL HIGH YIELD FIRF CP',\n",
       "       'BRASIL PLURAL CRÉD CORP II FIC RF CP LP',\n",
       "       'BRASIL PLURAL DEBÊNTURES INCENTIVADAS 45',\n",
       "       'BRASIL PLURAL DEBÊNTURES INCENTIVADAS HE',\n",
       "       'JGP MAX PLATAFORMAS FIC FIM',\n",
       "       'IP PARTICIPAÇÕES IPG FIC FIA BDR NIVEL I',\n",
       "       'TAVOLA LONG & SHORT FIM', 'TAVOLA ABSOLUTO FIM',\n",
       "       'RPS EQUITY HEDGE D30 FIC FIM', 'RPS FIC FIA SELECTION',\n",
       "       'RPS LONG BIAS SELECTION D60 FIC FIA',\n",
       "       'ALASKA BLACK FIC FIA - BDR NÍVEL I',\n",
       "       'ALASKA BLACK INSTITUCIONAL FIA'], dtype=object)"
      ]
     },
     "execution_count": 117,
     "metadata": {},
     "output_type": "execute_result"
    }
   ],
   "source": [
    "dfProduto['NomeInvestimento__c'].unique()"
   ]
  },
  {
   "cell_type": "markdown",
   "metadata": {
    "colab_type": "text",
    "id": "lR9w1rp0wtIk"
   },
   "source": [
    "## Descritivo"
   ]
  },
  {
   "cell_type": "code",
   "execution_count": 22,
   "metadata": {
    "colab": {
     "base_uri": "https://localhost:8080/",
     "height": 338
    },
    "colab_type": "code",
    "id": "U9Ap9NxNw5y2",
    "outputId": "86a3c7c2-03ce-4b20-edc5-f5c64db51cc1"
   },
   "outputs": [
    {
     "data": {
      "text/html": [
       "<div>\n",
       "<style scoped>\n",
       "    .dataframe tbody tr th:only-of-type {\n",
       "        vertical-align: middle;\n",
       "    }\n",
       "\n",
       "    .dataframe tbody tr th {\n",
       "        vertical-align: top;\n",
       "    }\n",
       "\n",
       "    .dataframe thead th {\n",
       "        text-align: right;\n",
       "    }\n",
       "</style>\n",
       "<table border=\"1\" class=\"dataframe\">\n",
       "  <thead>\n",
       "    <tr style=\"text-align: right;\">\n",
       "      <th></th>\n",
       "      <th>Unnamed: 0</th>\n",
       "      <th>DescontoIR__c</th>\n",
       "      <th>DiasVencimento__c</th>\n",
       "      <th>FiltroValorMinimo__c</th>\n",
       "      <th>LucroMesAnterior__c</th>\n",
       "      <th>NDiasCotizacaoAplicacao__c</th>\n",
       "      <th>NrDiasUteisCotizacaoResgate__c</th>\n",
       "      <th>NrDiasUteisLiqFAplicacao__c</th>\n",
       "      <th>NrDiasUteisLiqFResgate__c</th>\n",
       "      <th>PatrimonioLiquidoAtual__c</th>\n",
       "      <th>...</th>\n",
       "      <th>TaxaEmissao__c</th>\n",
       "      <th>TaxaNegociada360__c</th>\n",
       "      <th>TaxaPerformance__c</th>\n",
       "      <th>TaxaPreCliente__c</th>\n",
       "      <th>TaxaPreEmissao__c</th>\n",
       "      <th>Taxa__c</th>\n",
       "      <th>ValorMinimoAplicacaoAdicional__c</th>\n",
       "      <th>ValorMinimoAplicaInicial__c</th>\n",
       "      <th>ValorMinimoResgate__c</th>\n",
       "      <th>ValorMinimo__c</th>\n",
       "    </tr>\n",
       "  </thead>\n",
       "  <tbody>\n",
       "    <tr>\n",
       "      <td>count</td>\n",
       "      <td>8603.000000</td>\n",
       "      <td>8603.000000</td>\n",
       "      <td>8282.000000</td>\n",
       "      <td>8603.000000</td>\n",
       "      <td>320.000000</td>\n",
       "      <td>320.000000</td>\n",
       "      <td>320.000000</td>\n",
       "      <td>320.0</td>\n",
       "      <td>320.000000</td>\n",
       "      <td>3.200000e+02</td>\n",
       "      <td>...</td>\n",
       "      <td>8282.000000</td>\n",
       "      <td>8282.0</td>\n",
       "      <td>0.0</td>\n",
       "      <td>8282.000000</td>\n",
       "      <td>8282.000000</td>\n",
       "      <td>8282.0</td>\n",
       "      <td>320.000000</td>\n",
       "      <td>320.000000</td>\n",
       "      <td>320.000000</td>\n",
       "      <td>8282.000000</td>\n",
       "    </tr>\n",
       "    <tr>\n",
       "      <td>mean</td>\n",
       "      <td>4301.000000</td>\n",
       "      <td>17.279437</td>\n",
       "      <td>858.665902</td>\n",
       "      <td>5781.588051</td>\n",
       "      <td>1.890720</td>\n",
       "      <td>0.390625</td>\n",
       "      <td>22.121875</td>\n",
       "      <td>0.0</td>\n",
       "      <td>1.540625</td>\n",
       "      <td>5.894390e+08</td>\n",
       "      <td>...</td>\n",
       "      <td>37.163605</td>\n",
       "      <td>0.0</td>\n",
       "      <td>NaN</td>\n",
       "      <td>5.104583</td>\n",
       "      <td>5.389063</td>\n",
       "      <td>0.0</td>\n",
       "      <td>2607.675000</td>\n",
       "      <td>6775.468750</td>\n",
       "      <td>2435.800000</td>\n",
       "      <td>5743.884569</td>\n",
       "    </tr>\n",
       "    <tr>\n",
       "      <td>std</td>\n",
       "      <td>2483.616516</td>\n",
       "      <td>2.606157</td>\n",
       "      <td>570.948565</td>\n",
       "      <td>11837.216847</td>\n",
       "      <td>18.521884</td>\n",
       "      <td>0.488655</td>\n",
       "      <td>17.729794</td>\n",
       "      <td>0.0</td>\n",
       "      <td>0.720223</td>\n",
       "      <td>1.209156e+09</td>\n",
       "      <td>...</td>\n",
       "      <td>49.820761</td>\n",
       "      <td>0.0</td>\n",
       "      <td>NaN</td>\n",
       "      <td>4.026771</td>\n",
       "      <td>11.667128</td>\n",
       "      <td>0.0</td>\n",
       "      <td>3616.864216</td>\n",
       "      <td>8598.930445</td>\n",
       "      <td>3155.308798</td>\n",
       "      <td>11944.003587</td>\n",
       "    </tr>\n",
       "    <tr>\n",
       "      <td>min</td>\n",
       "      <td>0.000000</td>\n",
       "      <td>15.000000</td>\n",
       "      <td>-1.000000</td>\n",
       "      <td>0.000000</td>\n",
       "      <td>-18.366811</td>\n",
       "      <td>0.000000</td>\n",
       "      <td>0.000000</td>\n",
       "      <td>0.0</td>\n",
       "      <td>0.000000</td>\n",
       "      <td>0.000000e+00</td>\n",
       "      <td>...</td>\n",
       "      <td>0.000000</td>\n",
       "      <td>0.0</td>\n",
       "      <td>NaN</td>\n",
       "      <td>0.000000</td>\n",
       "      <td>0.000000</td>\n",
       "      <td>0.0</td>\n",
       "      <td>0.000000</td>\n",
       "      <td>30.000000</td>\n",
       "      <td>0.000000</td>\n",
       "      <td>1.000000</td>\n",
       "    </tr>\n",
       "    <tr>\n",
       "      <td>25%</td>\n",
       "      <td>2150.500000</td>\n",
       "      <td>15.000000</td>\n",
       "      <td>361.000000</td>\n",
       "      <td>1000.000000</td>\n",
       "      <td>0.054150</td>\n",
       "      <td>0.000000</td>\n",
       "      <td>3.000000</td>\n",
       "      <td>0.0</td>\n",
       "      <td>1.000000</td>\n",
       "      <td>6.793882e+07</td>\n",
       "      <td>...</td>\n",
       "      <td>0.000000</td>\n",
       "      <td>0.0</td>\n",
       "      <td>NaN</td>\n",
       "      <td>3.150000</td>\n",
       "      <td>3.350000</td>\n",
       "      <td>0.0</td>\n",
       "      <td>500.000000</td>\n",
       "      <td>1000.000000</td>\n",
       "      <td>500.000000</td>\n",
       "      <td>1000.000000</td>\n",
       "    </tr>\n",
       "    <tr>\n",
       "      <td>50%</td>\n",
       "      <td>4301.000000</td>\n",
       "      <td>17.500000</td>\n",
       "      <td>719.000000</td>\n",
       "      <td>5000.000000</td>\n",
       "      <td>0.476561</td>\n",
       "      <td>0.000000</td>\n",
       "      <td>30.000000</td>\n",
       "      <td>0.0</td>\n",
       "      <td>1.000000</td>\n",
       "      <td>2.025237e+08</td>\n",
       "      <td>...</td>\n",
       "      <td>0.000000</td>\n",
       "      <td>0.0</td>\n",
       "      <td>NaN</td>\n",
       "      <td>5.700000</td>\n",
       "      <td>5.900000</td>\n",
       "      <td>0.0</td>\n",
       "      <td>1000.000000</td>\n",
       "      <td>5000.000000</td>\n",
       "      <td>1000.000000</td>\n",
       "      <td>5000.000000</td>\n",
       "    </tr>\n",
       "    <tr>\n",
       "      <td>75%</td>\n",
       "      <td>6451.500000</td>\n",
       "      <td>20.000000</td>\n",
       "      <td>1249.000000</td>\n",
       "      <td>10000.000000</td>\n",
       "      <td>1.345336</td>\n",
       "      <td>1.000000</td>\n",
       "      <td>30.000000</td>\n",
       "      <td>0.0</td>\n",
       "      <td>2.000000</td>\n",
       "      <td>6.523775e+08</td>\n",
       "      <td>...</td>\n",
       "      <td>100.000000</td>\n",
       "      <td>0.0</td>\n",
       "      <td>NaN</td>\n",
       "      <td>7.007500</td>\n",
       "      <td>7.197500</td>\n",
       "      <td>0.0</td>\n",
       "      <td>5000.000000</td>\n",
       "      <td>10000.000000</td>\n",
       "      <td>5000.000000</td>\n",
       "      <td>10000.000000</td>\n",
       "    </tr>\n",
       "    <tr>\n",
       "      <td>max</td>\n",
       "      <td>8602.000000</td>\n",
       "      <td>22.500000</td>\n",
       "      <td>17898.000000</td>\n",
       "      <td>1000000.000000</td>\n",
       "      <td>328.808151</td>\n",
       "      <td>1.000000</td>\n",
       "      <td>90.000000</td>\n",
       "      <td>0.0</td>\n",
       "      <td>5.000000</td>\n",
       "      <td>1.404355e+10</td>\n",
       "      <td>...</td>\n",
       "      <td>143.000000</td>\n",
       "      <td>0.0</td>\n",
       "      <td>NaN</td>\n",
       "      <td>114.000000</td>\n",
       "      <td>1000.000000</td>\n",
       "      <td>0.0</td>\n",
       "      <td>30000.000000</td>\n",
       "      <td>50000.000000</td>\n",
       "      <td>25000.000000</td>\n",
       "      <td>1000000.000000</td>\n",
       "    </tr>\n",
       "  </tbody>\n",
       "</table>\n",
       "<p>8 rows × 44 columns</p>\n",
       "</div>"
      ],
      "text/plain": [
       "        Unnamed: 0  DescontoIR__c  DiasVencimento__c  FiltroValorMinimo__c  \\\n",
       "count  8603.000000    8603.000000        8282.000000           8603.000000   \n",
       "mean   4301.000000      17.279437         858.665902           5781.588051   \n",
       "std    2483.616516       2.606157         570.948565          11837.216847   \n",
       "min       0.000000      15.000000          -1.000000              0.000000   \n",
       "25%    2150.500000      15.000000         361.000000           1000.000000   \n",
       "50%    4301.000000      17.500000         719.000000           5000.000000   \n",
       "75%    6451.500000      20.000000        1249.000000          10000.000000   \n",
       "max    8602.000000      22.500000       17898.000000        1000000.000000   \n",
       "\n",
       "       LucroMesAnterior__c  NDiasCotizacaoAplicacao__c  \\\n",
       "count           320.000000                  320.000000   \n",
       "mean              1.890720                    0.390625   \n",
       "std              18.521884                    0.488655   \n",
       "min             -18.366811                    0.000000   \n",
       "25%               0.054150                    0.000000   \n",
       "50%               0.476561                    0.000000   \n",
       "75%               1.345336                    1.000000   \n",
       "max             328.808151                    1.000000   \n",
       "\n",
       "       NrDiasUteisCotizacaoResgate__c  NrDiasUteisLiqFAplicacao__c  \\\n",
       "count                      320.000000                        320.0   \n",
       "mean                        22.121875                          0.0   \n",
       "std                         17.729794                          0.0   \n",
       "min                          0.000000                          0.0   \n",
       "25%                          3.000000                          0.0   \n",
       "50%                         30.000000                          0.0   \n",
       "75%                         30.000000                          0.0   \n",
       "max                         90.000000                          0.0   \n",
       "\n",
       "       NrDiasUteisLiqFResgate__c  PatrimonioLiquidoAtual__c  ...  \\\n",
       "count                 320.000000               3.200000e+02  ...   \n",
       "mean                    1.540625               5.894390e+08  ...   \n",
       "std                     0.720223               1.209156e+09  ...   \n",
       "min                     0.000000               0.000000e+00  ...   \n",
       "25%                     1.000000               6.793882e+07  ...   \n",
       "50%                     1.000000               2.025237e+08  ...   \n",
       "75%                     2.000000               6.523775e+08  ...   \n",
       "max                     5.000000               1.404355e+10  ...   \n",
       "\n",
       "       TaxaEmissao__c  TaxaNegociada360__c  TaxaPerformance__c  \\\n",
       "count     8282.000000               8282.0                 0.0   \n",
       "mean        37.163605                  0.0                 NaN   \n",
       "std         49.820761                  0.0                 NaN   \n",
       "min          0.000000                  0.0                 NaN   \n",
       "25%          0.000000                  0.0                 NaN   \n",
       "50%          0.000000                  0.0                 NaN   \n",
       "75%        100.000000                  0.0                 NaN   \n",
       "max        143.000000                  0.0                 NaN   \n",
       "\n",
       "       TaxaPreCliente__c  TaxaPreEmissao__c  Taxa__c  \\\n",
       "count        8282.000000        8282.000000   8282.0   \n",
       "mean            5.104583           5.389063      0.0   \n",
       "std             4.026771          11.667128      0.0   \n",
       "min             0.000000           0.000000      0.0   \n",
       "25%             3.150000           3.350000      0.0   \n",
       "50%             5.700000           5.900000      0.0   \n",
       "75%             7.007500           7.197500      0.0   \n",
       "max           114.000000        1000.000000      0.0   \n",
       "\n",
       "       ValorMinimoAplicacaoAdicional__c  ValorMinimoAplicaInicial__c  \\\n",
       "count                        320.000000                   320.000000   \n",
       "mean                        2607.675000                  6775.468750   \n",
       "std                         3616.864216                  8598.930445   \n",
       "min                            0.000000                    30.000000   \n",
       "25%                          500.000000                  1000.000000   \n",
       "50%                         1000.000000                  5000.000000   \n",
       "75%                         5000.000000                 10000.000000   \n",
       "max                        30000.000000                 50000.000000   \n",
       "\n",
       "       ValorMinimoResgate__c  ValorMinimo__c  \n",
       "count             320.000000     8282.000000  \n",
       "mean             2435.800000     5743.884569  \n",
       "std              3155.308798    11944.003587  \n",
       "min                 0.000000        1.000000  \n",
       "25%               500.000000     1000.000000  \n",
       "50%              1000.000000     5000.000000  \n",
       "75%              5000.000000    10000.000000  \n",
       "max             25000.000000  1000000.000000  \n",
       "\n",
       "[8 rows x 44 columns]"
      ]
     },
     "execution_count": 22,
     "metadata": {},
     "output_type": "execute_result"
    }
   ],
   "source": [
    "dfProduto.describe()"
   ]
  },
  {
   "cell_type": "markdown",
   "metadata": {
    "colab_type": "text",
    "id": "GRDfwTwLwvNa"
   },
   "source": [
    "## Observações"
   ]
  },
  {
   "cell_type": "markdown",
   "metadata": {
    "colab_type": "text",
    "id": "rQDel7X4kAUd"
   },
   "source": [
    "# Hipóteses"
   ]
  },
  {
   "cell_type": "markdown",
   "metadata": {
    "colab_type": "text",
    "id": "tUClyHy3kD17"
   },
   "source": [
    "## Há perda de usuários no preenchimento do perfil principal e o suitability?"
   ]
  },
  {
   "cell_type": "markdown",
   "metadata": {
    "colab_type": "text",
    "id": "_gpaJFn3-IX4"
   },
   "source": [
    "Busca dos links de interesse"
   ]
  },
  {
   "cell_type": "code",
   "execution_count": 23,
   "metadata": {
    "colab": {
     "base_uri": "https://localhost:8080/",
     "height": 109
    },
    "colab_type": "code",
    "id": "r9ADiEMi-QFS",
    "outputId": "47a78e59-9e53-4c1a-f6a5-877108bb6e30"
   },
   "outputs": [
    {
     "data": {
      "text/plain": [
       "count     382937\n",
       "unique         1\n",
       "top        False\n",
       "freq      382937\n",
       "Name: page_path, dtype: object"
      ]
     },
     "execution_count": 23,
     "metadata": {},
     "output_type": "execute_result"
    }
   ],
   "source": [
    "#SelfRegister -> Tela inicial do cadastro\n",
    "#cadastroprincipal -> Questionário pessoal\n",
    "#suitability -> Questionário do perfil do investidor\n",
    "#s -> Página inicial após login\n",
    "\n",
    "verificarAcessosCadastro = lambda i: 'SelfRegister' in i\n",
    "verificarAcessoCadastroPerfil = lambda i: 'cadastroprincipal' in i\n",
    "verificarAcessoSuitability = lambda i: 'suitability' in i\n",
    "\n",
    "dfAcesso.page_path.apply(verificarAcessosCadastro).describe()"
   ]
  },
  {
   "cell_type": "code",
   "execution_count": 24,
   "metadata": {
    "colab": {
     "base_uri": "https://localhost:8080/",
     "height": 109
    },
    "colab_type": "code",
    "id": "g8h3srrDHnFY",
    "outputId": "e0276bd5-0933-4b6a-f3b6-c4309fa9a260"
   },
   "outputs": [
    {
     "data": {
      "text/plain": [
       "count     382937\n",
       "unique         2\n",
       "top        False\n",
       "freq      382936\n",
       "Name: page_path, dtype: object"
      ]
     },
     "execution_count": 24,
     "metadata": {},
     "output_type": "execute_result"
    }
   ],
   "source": [
    "dfAcesso.page_path.apply(verificarAcessoCadastroPerfil).describe()"
   ]
  },
  {
   "cell_type": "code",
   "execution_count": 25,
   "metadata": {
    "colab": {
     "base_uri": "https://localhost:8080/",
     "height": 109
    },
    "colab_type": "code",
    "id": "UJe8QGB-Njiz",
    "outputId": "0ba1add5-36d5-4da6-8d87-ef55f6159966"
   },
   "outputs": [
    {
     "data": {
      "text/plain": [
       "count     382937\n",
       "unique         1\n",
       "top        False\n",
       "freq      382937\n",
       "Name: page_path, dtype: object"
      ]
     },
     "execution_count": 25,
     "metadata": {},
     "output_type": "execute_result"
    }
   ],
   "source": [
    "dfAcesso.page_path.apply(verificarAcessoSuitability).describe()"
   ]
  },
  {
   "cell_type": "markdown",
   "metadata": {
    "colab_type": "text",
    "id": "8ZP6vx0mk45K"
   },
   "source": [
    "### Conlcusão\n",
    "*   No Dataset Acesso, não há registro de acesso na página do suitability ou tela de cadastro"
   ]
  },
  {
   "cell_type": "markdown",
   "metadata": {
    "colab_type": "text",
    "id": "uDZQvIIklrk8"
   },
   "source": [
    "##Os usuários têm dificuldades em procurar um investimento?"
   ]
  },
  {
   "cell_type": "markdown",
   "metadata": {
    "colab_type": "text",
    "id": "YvpEt4LgvDV9"
   },
   "source": [
    "Gerando Data Frame de interesse"
   ]
  },
  {
   "cell_type": "markdown",
   "metadata": {
    "colab_type": "text",
    "id": "PymZyTrsrdXG"
   },
   "source": [
    "## Em qual tela seria interessante as recomendações?"
   ]
  },
  {
   "cell_type": "markdown",
   "metadata": {
    "colab_type": "text",
    "id": "5pGZuvbLKvqM"
   },
   "source": [
    "## Quais respostas de perfil de investidor são importantes para cada tipo de produto?"
   ]
  },
  {
   "cell_type": "markdown",
   "metadata": {
    "colab_type": "text",
    "id": "Zbfi2pwqxbwU"
   },
   "source": [
    "## Usuário que tem renda mensal maior, tem perfil mais arrojado?"
   ]
  },
  {
   "cell_type": "code",
   "execution_count": 27,
   "metadata": {
    "colab": {},
    "colab_type": "code",
    "id": "cE616LwcxlRD"
   },
   "outputs": [],
   "source": [
    "#Gerando DataSet com informações de interesse\n",
    "dfPerfilAnaliseRendaRisco = pd.DataFrame({'RendaMensal': dfPerfil['RendaMensal'], 'Risco': dfPerfil['RiscoAtivo']})"
   ]
  },
  {
   "cell_type": "code",
   "execution_count": 29,
   "metadata": {
    "colab": {
     "base_uri": "https://localhost:8080/",
     "height": 424
    },
    "colab_type": "code",
    "id": "Q9l36ZQQykQx",
    "outputId": "1b271116-757f-470e-bd0e-2ab425891859"
   },
   "outputs": [
    {
     "data": {
      "text/html": [
       "<div>\n",
       "<style scoped>\n",
       "    .dataframe tbody tr th:only-of-type {\n",
       "        vertical-align: middle;\n",
       "    }\n",
       "\n",
       "    .dataframe tbody tr th {\n",
       "        vertical-align: top;\n",
       "    }\n",
       "\n",
       "    .dataframe thead th {\n",
       "        text-align: right;\n",
       "    }\n",
       "</style>\n",
       "<table border=\"1\" class=\"dataframe\">\n",
       "  <thead>\n",
       "    <tr style=\"text-align: right;\">\n",
       "      <th></th>\n",
       "      <th>RendaMensal</th>\n",
       "      <th>Risco</th>\n",
       "    </tr>\n",
       "  </thead>\n",
       "  <tbody>\n",
       "    <tr>\n",
       "      <td>0</td>\n",
       "      <td>1300.0</td>\n",
       "      <td>1.0</td>\n",
       "    </tr>\n",
       "    <tr>\n",
       "      <td>1</td>\n",
       "      <td>500.0</td>\n",
       "      <td>1.0</td>\n",
       "    </tr>\n",
       "    <tr>\n",
       "      <td>2</td>\n",
       "      <td>500.0</td>\n",
       "      <td>1.0</td>\n",
       "    </tr>\n",
       "    <tr>\n",
       "      <td>3</td>\n",
       "      <td>500.0</td>\n",
       "      <td>1.0</td>\n",
       "    </tr>\n",
       "    <tr>\n",
       "      <td>4</td>\n",
       "      <td>500.0</td>\n",
       "      <td>1.0</td>\n",
       "    </tr>\n",
       "    <tr>\n",
       "      <td>...</td>\n",
       "      <td>...</td>\n",
       "      <td>...</td>\n",
       "    </tr>\n",
       "    <tr>\n",
       "      <td>38097</td>\n",
       "      <td>7000.0</td>\n",
       "      <td>2.0</td>\n",
       "    </tr>\n",
       "    <tr>\n",
       "      <td>38098</td>\n",
       "      <td>7000.0</td>\n",
       "      <td>2.0</td>\n",
       "    </tr>\n",
       "    <tr>\n",
       "      <td>38099</td>\n",
       "      <td>7000.0</td>\n",
       "      <td>2.0</td>\n",
       "    </tr>\n",
       "    <tr>\n",
       "      <td>38100</td>\n",
       "      <td>7000.0</td>\n",
       "      <td>2.0</td>\n",
       "    </tr>\n",
       "    <tr>\n",
       "      <td>38101</td>\n",
       "      <td>2000.0</td>\n",
       "      <td>NaN</td>\n",
       "    </tr>\n",
       "  </tbody>\n",
       "</table>\n",
       "<p>38102 rows × 2 columns</p>\n",
       "</div>"
      ],
      "text/plain": [
       "       RendaMensal  Risco\n",
       "0           1300.0    1.0\n",
       "1            500.0    1.0\n",
       "2            500.0    1.0\n",
       "3            500.0    1.0\n",
       "4            500.0    1.0\n",
       "...            ...    ...\n",
       "38097       7000.0    2.0\n",
       "38098       7000.0    2.0\n",
       "38099       7000.0    2.0\n",
       "38100       7000.0    2.0\n",
       "38101       2000.0    NaN\n",
       "\n",
       "[38102 rows x 2 columns]"
      ]
     },
     "execution_count": 29,
     "metadata": {},
     "output_type": "execute_result"
    }
   ],
   "source": [
    "dfPerfilAnaliseRendaRisco"
   ]
  },
  {
   "cell_type": "code",
   "execution_count": 30,
   "metadata": {
    "colab": {},
    "colab_type": "code",
    "id": "nHU59pjayorN"
   },
   "outputs": [],
   "source": [
    "dfPerfilAnaliseRendaRisco.dropna(inplace=True)"
   ]
  },
  {
   "cell_type": "code",
   "execution_count": 31,
   "metadata": {
    "colab": {
     "base_uri": "https://localhost:8080/",
     "height": 508
    },
    "colab_type": "code",
    "id": "7DGGkIWI3uMX",
    "outputId": "84415321-2380-483a-8e2b-dad6ac87225d"
   },
   "outputs": [
    {
     "data": {
      "image/png": "[encoded data removed]",
      "text/plain": [
       "<Figure size 1152x576 with 1 Axes>"
      ]
     },
     "metadata": {
      "needs_background": "light"
     },
     "output_type": "display_data"
    }
   ],
   "source": [
    "#Distribuição\n",
    "fig, ax = plt.subplots(figsize=(16,8))\n",
    "ax.scatter(dfPerfilAnaliseRendaRisco.Risco, dfPerfilAnaliseRendaRisco.RendaMensal)\n",
    "ax.set_xlabel('Risco')\n",
    "ax.set_ylabel('Renda')\n",
    "plt.show()"
   ]
  },
  {
   "cell_type": "code",
   "execution_count": 32,
   "metadata": {
    "colab": {
     "base_uri": "https://localhost:8080/",
     "height": 297
    },
    "colab_type": "code",
    "id": "Ky948hecy0Qo",
    "outputId": "6c1355f1-48cb-42a0-9608-b1a4c24a1917"
   },
   "outputs": [
    {
     "data": {
      "text/plain": [
       "<matplotlib.axes._subplots.AxesSubplot at 0x7fd6e0cda910>"
      ]
     },
     "execution_count": 32,
     "metadata": {},
     "output_type": "execute_result"
    },
    {
     "data": {
      "image/png": "[encoded data removed]",
      "text/plain": [
       "<Figure size 432x288 with 1 Axes>"
      ]
     },
     "metadata": {
      "needs_background": "light"
     },
     "output_type": "display_data"
    }
   ],
   "source": [
    "#Outliers no dataset de renda\n",
    "sns.boxplot(x=dfPerfilAnaliseRendaRisco.RendaMensal)"
   ]
  },
  {
   "cell_type": "code",
   "execution_count": 33,
   "metadata": {
    "colab": {},
    "colab_type": "code",
    "id": "MNA2OcOD3dnq"
   },
   "outputs": [],
   "source": [
    "#Remoção dos outliers\n",
    "removeOutlierByQuartiles(dfPerfilAnaliseRendaRisco, 'RendaMensal')"
   ]
  },
  {
   "cell_type": "code",
   "execution_count": 34,
   "metadata": {
    "colab": {
     "base_uri": "https://localhost:8080/",
     "height": 336
    },
    "colab_type": "code",
    "id": "Wx35FCjbOFF2",
    "outputId": "da398eb6-ad4c-4c0a-ee7d-ebf7cbb6760f"
   },
   "outputs": [
    {
     "data": {
      "text/plain": [
       "array([[<matplotlib.axes._subplots.AxesSubplot object at 0x7fd6e0bb9310>,\n",
       "        <matplotlib.axes._subplots.AxesSubplot object at 0x7fd6e0b9fc10>]],\n",
       "      dtype=object)"
      ]
     },
     "execution_count": 34,
     "metadata": {},
     "output_type": "execute_result"
    },
    {
     "data": {
      "image/png": "[encoded data removed]",
      "text/plain": [
       "<Figure size 432x288 with 2 Axes>"
      ]
     },
     "metadata": {
      "needs_background": "light"
     },
     "output_type": "display_data"
    }
   ],
   "source": [
    "dfPerfilAnaliseRendaRisco.hist()"
   ]
  },
  {
   "cell_type": "markdown",
   "metadata": {
    "colab_type": "text",
    "id": "RJEa11WbvJrt"
   },
   "source": [
    "### Conclusão\n",
    "Há grande concentração de salário até 5 mil reais e distribuição equilibrada entre perfil 1, 4 e 5. Desta maneira, não importa o salário para delimitar o perfil de invetidor"
   ]
  },
  {
   "cell_type": "markdown",
   "metadata": {},
   "source": [
    "## É possível criar Clurteres de investimentor?"
   ]
  },
  {
   "cell_type": "code",
   "execution_count": 35,
   "metadata": {},
   "outputs": [
    {
     "data": {
      "text/plain": [
       "<matplotlib.axes._subplots.AxesSubplot at 0x7fd6e0a9dbd0>"
      ]
     },
     "execution_count": 35,
     "metadata": {},
     "output_type": "execute_result"
    },
    {
     "data": {
      "image/png": "[encoded data removed]",
      "text/plain": [
       "<Figure size 432x288 with 1 Axes>"
      ]
     },
     "metadata": {
      "needs_background": "light"
     },
     "output_type": "display_data"
    }
   ],
   "source": [
    "#Junção de DFs de interesse\n",
    "join = pd.merge(dfPerfil, dfProduto[['ProdutoId', 'NomeProduto__c']], left_on='Produto', right_on='ProdutoId', how='inner')\n",
    "\n",
    "#Gerando DataSet Perfil com apenas as variáveis que indicariam alguma classificação\n",
    "dfPerfilInteresse = pd.DataFrame(\n",
    "      {\n",
    "          'PerfilInvestidor': join['PerfilInvestidor']\n",
    "          , 'ScoreNivelConhecimento': join['ScoreNivelConhecimento']\n",
    "          , 'ScoreRisco': join['ScoreRisco']\n",
    "          , 'ScoreObjetivos': join['ScoreObjetivos']\n",
    "          , 'ScoreSituacaoFinanceira': join['ScoreSituacaoFinanceira']\n",
    "          #, 'RendaMensal': dfPerfil['RendaMensal'] #Ainda há dúvidas se é utlizável\n",
    "          #, 'ProdutoID': join['NomeDoProduto']                  \n",
    "          #, 'ProdutoID': join['NomeProduto__c']       \n",
    "      })\n",
    "\n",
    "dfPerfilInteresse['Cluster'] = dfPerfilInteresse.sum(axis=1) / 5\n",
    "dfPerfilInteresse['Cluster'].hist()"
   ]
  },
  {
   "cell_type": "code",
   "execution_count": 36,
   "metadata": {},
   "outputs": [
    {
     "data": {
      "text/plain": [
       "<matplotlib.axes._subplots.AxesSubplot at 0x7fd6e01b6290>"
      ]
     },
     "execution_count": 36,
     "metadata": {},
     "output_type": "execute_result"
    },
    {
     "data": {
      "image/png": "[encoded data removed]",
      "text/plain": [
       "<Figure size 432x288 with 1 Axes>"
      ]
     },
     "metadata": {
      "needs_background": "light"
     },
     "output_type": "display_data"
    }
   ],
   "source": [
    "groups = dfPerfilInteresse.groupby('Cluster')['Cluster'].value_counts()\n",
    "groups.plot.bar()"
   ]
  },
  {
   "cell_type": "markdown",
   "metadata": {
    "colab_type": "text",
    "id": "IoppCLJ8Akcx"
   },
   "source": [
    "# Modelos"
   ]
  },
  {
   "cell_type": "markdown",
   "metadata": {},
   "source": [
    "## Clusterização dos investimentos"
   ]
  },
  {
   "cell_type": "code",
   "execution_count": 227,
   "metadata": {},
   "outputs": [
    {
     "data": {
      "text/html": [
       "<div>\n",
       "<style scoped>\n",
       "    .dataframe tbody tr th:only-of-type {\n",
       "        vertical-align: middle;\n",
       "    }\n",
       "\n",
       "    .dataframe tbody tr th {\n",
       "        vertical-align: top;\n",
       "    }\n",
       "\n",
       "    .dataframe thead th {\n",
       "        text-align: right;\n",
       "    }\n",
       "</style>\n",
       "<table border=\"1\" class=\"dataframe\">\n",
       "  <thead>\n",
       "    <tr style=\"text-align: right;\">\n",
       "      <th></th>\n",
       "      <th>Unnamed: 0</th>\n",
       "      <th>DescontoIR__c</th>\n",
       "      <th>DiasVencimento__c</th>\n",
       "      <th>FiltroValorMinimo__c</th>\n",
       "      <th>LucroMesAnterior__c</th>\n",
       "      <th>NDiasCotizacaoAplicacao__c</th>\n",
       "      <th>NrDiasUteisCotizacaoResgate__c</th>\n",
       "      <th>NrDiasUteisLiqFAplicacao__c</th>\n",
       "      <th>NrDiasUteisLiqFResgate__c</th>\n",
       "      <th>PatrimonioLiquidoAtual__c</th>\n",
       "      <th>...</th>\n",
       "      <th>TaxaEmissao__c</th>\n",
       "      <th>TaxaNegociada360__c</th>\n",
       "      <th>TaxaPerformance__c</th>\n",
       "      <th>TaxaPreCliente__c</th>\n",
       "      <th>TaxaPreEmissao__c</th>\n",
       "      <th>Taxa__c</th>\n",
       "      <th>ValorMinimoAplicacaoAdicional__c</th>\n",
       "      <th>ValorMinimoAplicaInicial__c</th>\n",
       "      <th>ValorMinimoResgate__c</th>\n",
       "      <th>ValorMinimo__c</th>\n",
       "    </tr>\n",
       "  </thead>\n",
       "  <tbody>\n",
       "    <tr>\n",
       "      <td>count</td>\n",
       "      <td>8603.000000</td>\n",
       "      <td>8603.000000</td>\n",
       "      <td>8282.000000</td>\n",
       "      <td>8603.000000</td>\n",
       "      <td>320.000000</td>\n",
       "      <td>320.000000</td>\n",
       "      <td>320.000000</td>\n",
       "      <td>320.0</td>\n",
       "      <td>320.000000</td>\n",
       "      <td>3.200000e+02</td>\n",
       "      <td>...</td>\n",
       "      <td>8282.000000</td>\n",
       "      <td>8282.0</td>\n",
       "      <td>0.0</td>\n",
       "      <td>8282.000000</td>\n",
       "      <td>8282.000000</td>\n",
       "      <td>8282.0</td>\n",
       "      <td>320.000000</td>\n",
       "      <td>320.000000</td>\n",
       "      <td>320.000000</td>\n",
       "      <td>8282.000000</td>\n",
       "    </tr>\n",
       "    <tr>\n",
       "      <td>mean</td>\n",
       "      <td>4301.000000</td>\n",
       "      <td>17.279437</td>\n",
       "      <td>858.665902</td>\n",
       "      <td>5781.588051</td>\n",
       "      <td>1.890720</td>\n",
       "      <td>0.390625</td>\n",
       "      <td>22.121875</td>\n",
       "      <td>0.0</td>\n",
       "      <td>1.540625</td>\n",
       "      <td>5.894390e+08</td>\n",
       "      <td>...</td>\n",
       "      <td>37.163605</td>\n",
       "      <td>0.0</td>\n",
       "      <td>NaN</td>\n",
       "      <td>5.104583</td>\n",
       "      <td>5.389063</td>\n",
       "      <td>0.0</td>\n",
       "      <td>2607.675000</td>\n",
       "      <td>6775.468750</td>\n",
       "      <td>2435.800000</td>\n",
       "      <td>5743.884569</td>\n",
       "    </tr>\n",
       "    <tr>\n",
       "      <td>std</td>\n",
       "      <td>2483.616516</td>\n",
       "      <td>2.606157</td>\n",
       "      <td>570.948565</td>\n",
       "      <td>11837.216847</td>\n",
       "      <td>18.521884</td>\n",
       "      <td>0.488655</td>\n",
       "      <td>17.729794</td>\n",
       "      <td>0.0</td>\n",
       "      <td>0.720223</td>\n",
       "      <td>1.209156e+09</td>\n",
       "      <td>...</td>\n",
       "      <td>49.820761</td>\n",
       "      <td>0.0</td>\n",
       "      <td>NaN</td>\n",
       "      <td>4.026771</td>\n",
       "      <td>11.667128</td>\n",
       "      <td>0.0</td>\n",
       "      <td>3616.864216</td>\n",
       "      <td>8598.930445</td>\n",
       "      <td>3155.308798</td>\n",
       "      <td>11944.003587</td>\n",
       "    </tr>\n",
       "    <tr>\n",
       "      <td>min</td>\n",
       "      <td>0.000000</td>\n",
       "      <td>15.000000</td>\n",
       "      <td>-1.000000</td>\n",
       "      <td>0.000000</td>\n",
       "      <td>-18.366811</td>\n",
       "      <td>0.000000</td>\n",
       "      <td>0.000000</td>\n",
       "      <td>0.0</td>\n",
       "      <td>0.000000</td>\n",
       "      <td>0.000000e+00</td>\n",
       "      <td>...</td>\n",
       "      <td>0.000000</td>\n",
       "      <td>0.0</td>\n",
       "      <td>NaN</td>\n",
       "      <td>0.000000</td>\n",
       "      <td>0.000000</td>\n",
       "      <td>0.0</td>\n",
       "      <td>0.000000</td>\n",
       "      <td>30.000000</td>\n",
       "      <td>0.000000</td>\n",
       "      <td>1.000000</td>\n",
       "    </tr>\n",
       "    <tr>\n",
       "      <td>25%</td>\n",
       "      <td>2150.500000</td>\n",
       "      <td>15.000000</td>\n",
       "      <td>361.000000</td>\n",
       "      <td>1000.000000</td>\n",
       "      <td>0.054150</td>\n",
       "      <td>0.000000</td>\n",
       "      <td>3.000000</td>\n",
       "      <td>0.0</td>\n",
       "      <td>1.000000</td>\n",
       "      <td>6.793882e+07</td>\n",
       "      <td>...</td>\n",
       "      <td>0.000000</td>\n",
       "      <td>0.0</td>\n",
       "      <td>NaN</td>\n",
       "      <td>3.150000</td>\n",
       "      <td>3.350000</td>\n",
       "      <td>0.0</td>\n",
       "      <td>500.000000</td>\n",
       "      <td>1000.000000</td>\n",
       "      <td>500.000000</td>\n",
       "      <td>1000.000000</td>\n",
       "    </tr>\n",
       "    <tr>\n",
       "      <td>50%</td>\n",
       "      <td>4301.000000</td>\n",
       "      <td>17.500000</td>\n",
       "      <td>719.000000</td>\n",
       "      <td>5000.000000</td>\n",
       "      <td>0.476561</td>\n",
       "      <td>0.000000</td>\n",
       "      <td>30.000000</td>\n",
       "      <td>0.0</td>\n",
       "      <td>1.000000</td>\n",
       "      <td>2.025237e+08</td>\n",
       "      <td>...</td>\n",
       "      <td>0.000000</td>\n",
       "      <td>0.0</td>\n",
       "      <td>NaN</td>\n",
       "      <td>5.700000</td>\n",
       "      <td>5.900000</td>\n",
       "      <td>0.0</td>\n",
       "      <td>1000.000000</td>\n",
       "      <td>5000.000000</td>\n",
       "      <td>1000.000000</td>\n",
       "      <td>5000.000000</td>\n",
       "    </tr>\n",
       "    <tr>\n",
       "      <td>75%</td>\n",
       "      <td>6451.500000</td>\n",
       "      <td>20.000000</td>\n",
       "      <td>1249.000000</td>\n",
       "      <td>10000.000000</td>\n",
       "      <td>1.345336</td>\n",
       "      <td>1.000000</td>\n",
       "      <td>30.000000</td>\n",
       "      <td>0.0</td>\n",
       "      <td>2.000000</td>\n",
       "      <td>6.523775e+08</td>\n",
       "      <td>...</td>\n",
       "      <td>100.000000</td>\n",
       "      <td>0.0</td>\n",
       "      <td>NaN</td>\n",
       "      <td>7.007500</td>\n",
       "      <td>7.197500</td>\n",
       "      <td>0.0</td>\n",
       "      <td>5000.000000</td>\n",
       "      <td>10000.000000</td>\n",
       "      <td>5000.000000</td>\n",
       "      <td>10000.000000</td>\n",
       "    </tr>\n",
       "    <tr>\n",
       "      <td>max</td>\n",
       "      <td>8602.000000</td>\n",
       "      <td>22.500000</td>\n",
       "      <td>17898.000000</td>\n",
       "      <td>1000000.000000</td>\n",
       "      <td>328.808151</td>\n",
       "      <td>1.000000</td>\n",
       "      <td>90.000000</td>\n",
       "      <td>0.0</td>\n",
       "      <td>5.000000</td>\n",
       "      <td>1.404355e+10</td>\n",
       "      <td>...</td>\n",
       "      <td>143.000000</td>\n",
       "      <td>0.0</td>\n",
       "      <td>NaN</td>\n",
       "      <td>114.000000</td>\n",
       "      <td>1000.000000</td>\n",
       "      <td>0.0</td>\n",
       "      <td>30000.000000</td>\n",
       "      <td>50000.000000</td>\n",
       "      <td>25000.000000</td>\n",
       "      <td>1000000.000000</td>\n",
       "    </tr>\n",
       "  </tbody>\n",
       "</table>\n",
       "<p>8 rows × 44 columns</p>\n",
       "</div>"
      ],
      "text/plain": [
       "        Unnamed: 0  DescontoIR__c  DiasVencimento__c  FiltroValorMinimo__c  \\\n",
       "count  8603.000000    8603.000000        8282.000000           8603.000000   \n",
       "mean   4301.000000      17.279437         858.665902           5781.588051   \n",
       "std    2483.616516       2.606157         570.948565          11837.216847   \n",
       "min       0.000000      15.000000          -1.000000              0.000000   \n",
       "25%    2150.500000      15.000000         361.000000           1000.000000   \n",
       "50%    4301.000000      17.500000         719.000000           5000.000000   \n",
       "75%    6451.500000      20.000000        1249.000000          10000.000000   \n",
       "max    8602.000000      22.500000       17898.000000        1000000.000000   \n",
       "\n",
       "       LucroMesAnterior__c  NDiasCotizacaoAplicacao__c  \\\n",
       "count           320.000000                  320.000000   \n",
       "mean              1.890720                    0.390625   \n",
       "std              18.521884                    0.488655   \n",
       "min             -18.366811                    0.000000   \n",
       "25%               0.054150                    0.000000   \n",
       "50%               0.476561                    0.000000   \n",
       "75%               1.345336                    1.000000   \n",
       "max             328.808151                    1.000000   \n",
       "\n",
       "       NrDiasUteisCotizacaoResgate__c  NrDiasUteisLiqFAplicacao__c  \\\n",
       "count                      320.000000                        320.0   \n",
       "mean                        22.121875                          0.0   \n",
       "std                         17.729794                          0.0   \n",
       "min                          0.000000                          0.0   \n",
       "25%                          3.000000                          0.0   \n",
       "50%                         30.000000                          0.0   \n",
       "75%                         30.000000                          0.0   \n",
       "max                         90.000000                          0.0   \n",
       "\n",
       "       NrDiasUteisLiqFResgate__c  PatrimonioLiquidoAtual__c  ...  \\\n",
       "count                 320.000000               3.200000e+02  ...   \n",
       "mean                    1.540625               5.894390e+08  ...   \n",
       "std                     0.720223               1.209156e+09  ...   \n",
       "min                     0.000000               0.000000e+00  ...   \n",
       "25%                     1.000000               6.793882e+07  ...   \n",
       "50%                     1.000000               2.025237e+08  ...   \n",
       "75%                     2.000000               6.523775e+08  ...   \n",
       "max                     5.000000               1.404355e+10  ...   \n",
       "\n",
       "       TaxaEmissao__c  TaxaNegociada360__c  TaxaPerformance__c  \\\n",
       "count     8282.000000               8282.0                 0.0   \n",
       "mean        37.163605                  0.0                 NaN   \n",
       "std         49.820761                  0.0                 NaN   \n",
       "min          0.000000                  0.0                 NaN   \n",
       "25%          0.000000                  0.0                 NaN   \n",
       "50%          0.000000                  0.0                 NaN   \n",
       "75%        100.000000                  0.0                 NaN   \n",
       "max        143.000000                  0.0                 NaN   \n",
       "\n",
       "       TaxaPreCliente__c  TaxaPreEmissao__c  Taxa__c  \\\n",
       "count        8282.000000        8282.000000   8282.0   \n",
       "mean            5.104583           5.389063      0.0   \n",
       "std             4.026771          11.667128      0.0   \n",
       "min             0.000000           0.000000      0.0   \n",
       "25%             3.150000           3.350000      0.0   \n",
       "50%             5.700000           5.900000      0.0   \n",
       "75%             7.007500           7.197500      0.0   \n",
       "max           114.000000        1000.000000      0.0   \n",
       "\n",
       "       ValorMinimoAplicacaoAdicional__c  ValorMinimoAplicaInicial__c  \\\n",
       "count                        320.000000                   320.000000   \n",
       "mean                        2607.675000                  6775.468750   \n",
       "std                         3616.864216                  8598.930445   \n",
       "min                            0.000000                    30.000000   \n",
       "25%                          500.000000                  1000.000000   \n",
       "50%                         1000.000000                  5000.000000   \n",
       "75%                         5000.000000                 10000.000000   \n",
       "max                        30000.000000                 50000.000000   \n",
       "\n",
       "       ValorMinimoResgate__c  ValorMinimo__c  \n",
       "count             320.000000     8282.000000  \n",
       "mean             2435.800000     5743.884569  \n",
       "std              3155.308798    11944.003587  \n",
       "min                 0.000000        1.000000  \n",
       "25%               500.000000     1000.000000  \n",
       "50%              1000.000000     5000.000000  \n",
       "75%              5000.000000    10000.000000  \n",
       "max             25000.000000  1000000.000000  \n",
       "\n",
       "[8 rows x 44 columns]"
      ]
     },
     "execution_count": 227,
     "metadata": {},
     "output_type": "execute_result"
    }
   ],
   "source": [
    "dfProdutoFiltrado = dfProduto\n",
    "\n",
    "#Filtro apenas de produtos ativos\n",
    "#dfProdutoFiltrado = dfProdutoFiltrado[dfProdutoFiltrado['AtivoDisponivel__c'] == True]\n",
    "\n",
    "#Entendendo o dado\n",
    "dfProdutoFiltrado.describe()"
   ]
  },
  {
   "cell_type": "code",
   "execution_count": 30,
   "metadata": {},
   "outputs": [
    {
     "data": {
      "text/html": [
       "<div>\n",
       "<style scoped>\n",
       "    .dataframe tbody tr th:only-of-type {\n",
       "        vertical-align: middle;\n",
       "    }\n",
       "\n",
       "    .dataframe tbody tr th {\n",
       "        vertical-align: top;\n",
       "    }\n",
       "\n",
       "    .dataframe thead th {\n",
       "        text-align: right;\n",
       "    }\n",
       "</style>\n",
       "<table border=\"1\" class=\"dataframe\">\n",
       "  <thead>\n",
       "    <tr style=\"text-align: right;\">\n",
       "      <th></th>\n",
       "      <th>Unnamed: 0</th>\n",
       "      <th>AdministradorFundo__c</th>\n",
       "      <th>AtivoDisponivel__c</th>\n",
       "      <th>Carencia__c</th>\n",
       "      <th>CarteiraCNPJ__c</th>\n",
       "      <th>CNPJAdministrador__c</th>\n",
       "      <th>DataDeVencimento__c</th>\n",
       "      <th>DescontoIR__c</th>\n",
       "      <th>DescricaoAtivo__c</th>\n",
       "      <th>DescricaoCarencia__c</th>\n",
       "      <th>...</th>\n",
       "      <th>TipoCarteira__c</th>\n",
       "      <th>TipoCota__c</th>\n",
       "      <th>TipoIndexador__c</th>\n",
       "      <th>TipoRegimeCondomonioCVM__c</th>\n",
       "      <th>Tributacao__c</th>\n",
       "      <th>ValorMinimoAplicacaoAdicional__c</th>\n",
       "      <th>ValorMinimoAplicaInicial__c</th>\n",
       "      <th>ValorMinimoResgate__c</th>\n",
       "      <th>ValorMinimo__c</th>\n",
       "      <th>Vencimento__c</th>\n",
       "    </tr>\n",
       "  </thead>\n",
       "  <tbody>\n",
       "    <tr>\n",
       "      <td>0</td>\n",
       "      <td>0</td>\n",
       "      <td>NaN</td>\n",
       "      <td>False</td>\n",
       "      <td>2020-11-16</td>\n",
       "      <td>NaN</td>\n",
       "      <td>NaN</td>\n",
       "      <td>2020-11-16</td>\n",
       "      <td>20.0</td>\n",
       "      <td>O Certificado de Dep�sito Banc�rio, de forma s...</td>\n",
       "      <td>No venc.</td>\n",
       "      <td>...</td>\n",
       "      <td>NaN</td>\n",
       "      <td>NaN</td>\n",
       "      <td>IPCA</td>\n",
       "      <td>NaN</td>\n",
       "      <td>NaN</td>\n",
       "      <td>NaN</td>\n",
       "      <td>NaN</td>\n",
       "      <td>NaN</td>\n",
       "      <td>5000.0</td>\n",
       "      <td>2020-11-16</td>\n",
       "    </tr>\n",
       "    <tr>\n",
       "      <td>1</td>\n",
       "      <td>1</td>\n",
       "      <td>NaN</td>\n",
       "      <td>False</td>\n",
       "      <td>2021-11-16</td>\n",
       "      <td>NaN</td>\n",
       "      <td>NaN</td>\n",
       "      <td>2021-11-16</td>\n",
       "      <td>17.5</td>\n",
       "      <td>O Certificado de Dep�sito Banc�rio, de forma s...</td>\n",
       "      <td>No venc.</td>\n",
       "      <td>...</td>\n",
       "      <td>NaN</td>\n",
       "      <td>NaN</td>\n",
       "      <td>IPCA</td>\n",
       "      <td>NaN</td>\n",
       "      <td>NaN</td>\n",
       "      <td>NaN</td>\n",
       "      <td>NaN</td>\n",
       "      <td>NaN</td>\n",
       "      <td>5000.0</td>\n",
       "      <td>2021-11-16</td>\n",
       "    </tr>\n",
       "    <tr>\n",
       "      <td>2</td>\n",
       "      <td>2</td>\n",
       "      <td>NaN</td>\n",
       "      <td>False</td>\n",
       "      <td>2022-11-16</td>\n",
       "      <td>NaN</td>\n",
       "      <td>NaN</td>\n",
       "      <td>2022-11-16</td>\n",
       "      <td>15.0</td>\n",
       "      <td>O Certificado de Dep�sito Banc�rio, de forma s...</td>\n",
       "      <td>No venc.</td>\n",
       "      <td>...</td>\n",
       "      <td>NaN</td>\n",
       "      <td>NaN</td>\n",
       "      <td>IPCA</td>\n",
       "      <td>NaN</td>\n",
       "      <td>NaN</td>\n",
       "      <td>NaN</td>\n",
       "      <td>NaN</td>\n",
       "      <td>NaN</td>\n",
       "      <td>5000.0</td>\n",
       "      <td>2022-11-16</td>\n",
       "    </tr>\n",
       "    <tr>\n",
       "      <td>3</td>\n",
       "      <td>3</td>\n",
       "      <td>NaN</td>\n",
       "      <td>False</td>\n",
       "      <td>2024-11-18</td>\n",
       "      <td>NaN</td>\n",
       "      <td>NaN</td>\n",
       "      <td>2024-11-18</td>\n",
       "      <td>15.0</td>\n",
       "      <td>O Certificado de Dep�sito Banc�rio, de forma s...</td>\n",
       "      <td>No venc.</td>\n",
       "      <td>...</td>\n",
       "      <td>NaN</td>\n",
       "      <td>NaN</td>\n",
       "      <td>IPCA</td>\n",
       "      <td>NaN</td>\n",
       "      <td>NaN</td>\n",
       "      <td>NaN</td>\n",
       "      <td>NaN</td>\n",
       "      <td>NaN</td>\n",
       "      <td>5000.0</td>\n",
       "      <td>2024-11-18</td>\n",
       "    </tr>\n",
       "    <tr>\n",
       "      <td>4</td>\n",
       "      <td>4</td>\n",
       "      <td>NaN</td>\n",
       "      <td>False</td>\n",
       "      <td>2020-11-03</td>\n",
       "      <td>NaN</td>\n",
       "      <td>NaN</td>\n",
       "      <td>2020-11-03</td>\n",
       "      <td>20.0</td>\n",
       "      <td>O Certificado de Dep�sito Banc�rio, de forma s...</td>\n",
       "      <td>No venc.</td>\n",
       "      <td>...</td>\n",
       "      <td>NaN</td>\n",
       "      <td>NaN</td>\n",
       "      <td>Pré fixado</td>\n",
       "      <td>NaN</td>\n",
       "      <td>NaN</td>\n",
       "      <td>NaN</td>\n",
       "      <td>NaN</td>\n",
       "      <td>NaN</td>\n",
       "      <td>5000.0</td>\n",
       "      <td>2020-11-03</td>\n",
       "    </tr>\n",
       "  </tbody>\n",
       "</table>\n",
       "<p>5 rows × 86 columns</p>\n",
       "</div>"
      ],
      "text/plain": [
       "   Unnamed: 0 AdministradorFundo__c  AtivoDisponivel__c Carencia__c  \\\n",
       "0           0                   NaN               False  2020-11-16   \n",
       "1           1                   NaN               False  2021-11-16   \n",
       "2           2                   NaN               False  2022-11-16   \n",
       "3           3                   NaN               False  2024-11-18   \n",
       "4           4                   NaN               False  2020-11-03   \n",
       "\n",
       "  CarteiraCNPJ__c CNPJAdministrador__c DataDeVencimento__c  DescontoIR__c  \\\n",
       "0             NaN                  NaN          2020-11-16           20.0   \n",
       "1             NaN                  NaN          2021-11-16           17.5   \n",
       "2             NaN                  NaN          2022-11-16           15.0   \n",
       "3             NaN                  NaN          2024-11-18           15.0   \n",
       "4             NaN                  NaN          2020-11-03           20.0   \n",
       "\n",
       "                                   DescricaoAtivo__c DescricaoCarencia__c  \\\n",
       "0  O Certificado de Dep�sito Banc�rio, de forma s...             No venc.   \n",
       "1  O Certificado de Dep�sito Banc�rio, de forma s...             No venc.   \n",
       "2  O Certificado de Dep�sito Banc�rio, de forma s...             No venc.   \n",
       "3  O Certificado de Dep�sito Banc�rio, de forma s...             No venc.   \n",
       "4  O Certificado de Dep�sito Banc�rio, de forma s...             No venc.   \n",
       "\n",
       "   ... TipoCarteira__c TipoCota__c TipoIndexador__c  \\\n",
       "0  ...             NaN         NaN             IPCA   \n",
       "1  ...             NaN         NaN             IPCA   \n",
       "2  ...             NaN         NaN             IPCA   \n",
       "3  ...             NaN         NaN             IPCA   \n",
       "4  ...             NaN         NaN       Pré fixado   \n",
       "\n",
       "  TipoRegimeCondomonioCVM__c Tributacao__c ValorMinimoAplicacaoAdicional__c  \\\n",
       "0                        NaN           NaN                              NaN   \n",
       "1                        NaN           NaN                              NaN   \n",
       "2                        NaN           NaN                              NaN   \n",
       "3                        NaN           NaN                              NaN   \n",
       "4                        NaN           NaN                              NaN   \n",
       "\n",
       "  ValorMinimoAplicaInicial__c ValorMinimoResgate__c ValorMinimo__c  \\\n",
       "0                         NaN                   NaN         5000.0   \n",
       "1                         NaN                   NaN         5000.0   \n",
       "2                         NaN                   NaN         5000.0   \n",
       "3                         NaN                   NaN         5000.0   \n",
       "4                         NaN                   NaN         5000.0   \n",
       "\n",
       "  Vencimento__c  \n",
       "0    2020-11-16  \n",
       "1    2021-11-16  \n",
       "2    2022-11-16  \n",
       "3    2024-11-18  \n",
       "4    2020-11-03  \n",
       "\n",
       "[5 rows x 86 columns]"
      ]
     },
     "execution_count": 30,
     "metadata": {},
     "output_type": "execute_result"
    }
   ],
   "source": [
    "dfProdutoFiltrado.head()"
   ]
  },
  {
   "cell_type": "code",
   "execution_count": 228,
   "metadata": {},
   "outputs": [],
   "source": [
    "#Verificando dostribuição para geração de cluster\n",
    "dfProdutoCluster = dfProdutoFiltrado[['ValorMinimoAplicaInicial__c', 'LucroMesAnterior__c', 'DescontoIR__c', 'NrDiasUteisCotizacaoResgate__c', 'NrDiasUteisLiqFResgate__c', 'DescontoIR__c']].fillna(0)"
   ]
  },
  {
   "cell_type": "code",
   "execution_count": 19,
   "metadata": {},
   "outputs": [
    {
     "data": {
      "text/html": [
       "<div>\n",
       "<style scoped>\n",
       "    .dataframe tbody tr th:only-of-type {\n",
       "        vertical-align: middle;\n",
       "    }\n",
       "\n",
       "    .dataframe tbody tr th {\n",
       "        vertical-align: top;\n",
       "    }\n",
       "\n",
       "    .dataframe thead th {\n",
       "        text-align: right;\n",
       "    }\n",
       "</style>\n",
       "<table border=\"1\" class=\"dataframe\">\n",
       "  <thead>\n",
       "    <tr style=\"text-align: right;\">\n",
       "      <th></th>\n",
       "      <th>ValorMinimoAplicaInicial__c</th>\n",
       "      <th>LucroMesAnterior__c</th>\n",
       "      <th>DescontoIR__c</th>\n",
       "      <th>NrDiasUteisCotizacaoResgate__c</th>\n",
       "      <th>NrDiasUteisLiqFResgate__c</th>\n",
       "      <th>DescontoIR__c</th>\n",
       "    </tr>\n",
       "  </thead>\n",
       "  <tbody>\n",
       "    <tr>\n",
       "      <td>count</td>\n",
       "      <td>8603.000000</td>\n",
       "      <td>8603.000000</td>\n",
       "      <td>8603.000000</td>\n",
       "      <td>8603.000000</td>\n",
       "      <td>8603.000000</td>\n",
       "      <td>8603.000000</td>\n",
       "    </tr>\n",
       "    <tr>\n",
       "      <td>mean</td>\n",
       "      <td>252.022550</td>\n",
       "      <td>0.070328</td>\n",
       "      <td>17.279437</td>\n",
       "      <td>0.822852</td>\n",
       "      <td>0.057306</td>\n",
       "      <td>17.279437</td>\n",
       "    </tr>\n",
       "    <tr>\n",
       "      <td>std</td>\n",
       "      <td>2094.355902</td>\n",
       "      <td>3.584720</td>\n",
       "      <td>2.606157</td>\n",
       "      <td>5.402343</td>\n",
       "      <td>0.322876</td>\n",
       "      <td>2.606157</td>\n",
       "    </tr>\n",
       "    <tr>\n",
       "      <td>min</td>\n",
       "      <td>0.000000</td>\n",
       "      <td>-18.366811</td>\n",
       "      <td>15.000000</td>\n",
       "      <td>0.000000</td>\n",
       "      <td>0.000000</td>\n",
       "      <td>15.000000</td>\n",
       "    </tr>\n",
       "    <tr>\n",
       "      <td>25%</td>\n",
       "      <td>0.000000</td>\n",
       "      <td>0.000000</td>\n",
       "      <td>15.000000</td>\n",
       "      <td>0.000000</td>\n",
       "      <td>0.000000</td>\n",
       "      <td>15.000000</td>\n",
       "    </tr>\n",
       "    <tr>\n",
       "      <td>50%</td>\n",
       "      <td>0.000000</td>\n",
       "      <td>0.000000</td>\n",
       "      <td>17.500000</td>\n",
       "      <td>0.000000</td>\n",
       "      <td>0.000000</td>\n",
       "      <td>17.500000</td>\n",
       "    </tr>\n",
       "    <tr>\n",
       "      <td>75%</td>\n",
       "      <td>0.000000</td>\n",
       "      <td>0.000000</td>\n",
       "      <td>20.000000</td>\n",
       "      <td>0.000000</td>\n",
       "      <td>0.000000</td>\n",
       "      <td>20.000000</td>\n",
       "    </tr>\n",
       "    <tr>\n",
       "      <td>max</td>\n",
       "      <td>50000.000000</td>\n",
       "      <td>328.808151</td>\n",
       "      <td>22.500000</td>\n",
       "      <td>90.000000</td>\n",
       "      <td>5.000000</td>\n",
       "      <td>22.500000</td>\n",
       "    </tr>\n",
       "  </tbody>\n",
       "</table>\n",
       "</div>"
      ],
      "text/plain": [
       "       ValorMinimoAplicaInicial__c  LucroMesAnterior__c  DescontoIR__c  \\\n",
       "count                  8603.000000          8603.000000    8603.000000   \n",
       "mean                    252.022550             0.070328      17.279437   \n",
       "std                    2094.355902             3.584720       2.606157   \n",
       "min                       0.000000           -18.366811      15.000000   \n",
       "25%                       0.000000             0.000000      15.000000   \n",
       "50%                       0.000000             0.000000      17.500000   \n",
       "75%                       0.000000             0.000000      20.000000   \n",
       "max                   50000.000000           328.808151      22.500000   \n",
       "\n",
       "       NrDiasUteisCotizacaoResgate__c  NrDiasUteisLiqFResgate__c  \\\n",
       "count                     8603.000000                8603.000000   \n",
       "mean                         0.822852                   0.057306   \n",
       "std                          5.402343                   0.322876   \n",
       "min                          0.000000                   0.000000   \n",
       "25%                          0.000000                   0.000000   \n",
       "50%                          0.000000                   0.000000   \n",
       "75%                          0.000000                   0.000000   \n",
       "max                         90.000000                   5.000000   \n",
       "\n",
       "       DescontoIR__c  \n",
       "count    8603.000000  \n",
       "mean       17.279437  \n",
       "std         2.606157  \n",
       "min        15.000000  \n",
       "25%        15.000000  \n",
       "50%        17.500000  \n",
       "75%        20.000000  \n",
       "max        22.500000  "
      ]
     },
     "execution_count": 19,
     "metadata": {},
     "output_type": "execute_result"
    }
   ],
   "source": [
    "dfProdutoCluster.describe()"
   ]
  },
  {
   "cell_type": "code",
   "execution_count": 229,
   "metadata": {},
   "outputs": [
    {
     "data": {
      "text/plain": [
       "Text(0.5, 1.0, 'Distribuição investimento')"
      ]
     },
     "execution_count": 229,
     "metadata": {},
     "output_type": "execute_result"
    },
    {
     "data": {
      "image/png": "[encoded data removed]",
      "text/plain": [
       "<Figure size 432x432 with 1 Axes>"
      ]
     },
     "metadata": {},
     "output_type": "display_data"
    }
   ],
   "source": [
    "#Removendo outliers que quebram a análise (lucro > 15 e lucro < -15), são totalmente discrepantes em relação aos dados\n",
    "#dfProdutoCluster.drop(dfProdutoCluster[dfProdutoCluster['LucroMesAnterior__c'] > 15].index, inplace = True)\n",
    "#dfProdutoCluster.drop(dfProdutoCluster[dfProdutoCluster['LucroMesAnterior__c'] < -15].index, inplace = True)\n",
    "\n",
    "pca = PCA(n_components=2).fit(dfProdutoCluster)\n",
    "dfProdutoClusterReduzido = pca.transform(dfProdutoCluster)\n",
    "\n",
    "#plot distribuição\n",
    "plt.figure(figsize=(6,6))\n",
    "plt.scatter(dfProdutoClusterReduzido[:,0], dfProdutoClusterReduzido[0:,1])\n",
    "plt.xlabel('LucroMesAnterior__c')\n",
    "plt.ylabel('ValorMinimoAplicaInicial__c')\n",
    "plt.title('Distribuição investimento')"
   ]
  },
  {
   "cell_type": "code",
   "execution_count": 230,
   "metadata": {},
   "outputs": [],
   "source": [
    "#Gerando clusters de investimento\n",
    "#x_std = StandardScaler().fit_transform(dfProdutoCluster)\n",
    "kmeans = KMeans(n_clusters=8, max_iter=100)\n",
    "kmeans.fit(dfProdutoClusterReduzido)\n",
    "centroids = km.cluster_centers_"
   ]
  },
  {
   "cell_type": "code",
   "execution_count": 40,
   "metadata": {},
   "outputs": [
    {
     "data": {
      "image/png": "[encoded data removed]",
      "text/plain": [
       "<Figure size 432x288 with 1 Axes>"
      ]
     },
     "metadata": {},
     "output_type": "display_data"
    }
   ],
   "source": [
    "for i in range(0, dfProdutoClusterReduzido.shape[0]):\n",
    "    if kmeans.labels_[i] == 0:\n",
    "        c1 = plt.scatter(dfProdutoClusterReduzido[i,0],dfProdutoClusterReduzido[i,1],color='red',\n",
    "        marker='+')\n",
    "    elif kmeans.labels_[i] == 1:\n",
    "        c2 = plt.scatter(dfProdutoClusterReduzido[i,0],dfProdutoClusterReduzido[i,1],color='green', \n",
    "        marker='o')\n",
    "    elif kmeans.labels_[i] == 2:\n",
    "        c3 = plt.scatter(dfProdutoClusterReduzido[i,0],dfProdutoClusterReduzido[i,1],color='blue',\n",
    "        marker='*')\n",
    "    elif kmeans.labels_[i] == 3:\n",
    "        c4 = plt.scatter(dfProdutoClusterReduzido[i,0],dfProdutoClusterReduzido[i,1],color='yellow',\n",
    "        marker='<')\n",
    "    elif kmeans.labels_[i] == 4:\n",
    "        c5 = plt.scatter(dfProdutoClusterReduzido[i,0],dfProdutoClusterReduzido[i,1],color='grey',\n",
    "        marker='s')\n",
    "    elif kmeans.labels_[i] == 5:\n",
    "        c6 = plt.scatter(dfProdutoClusterReduzido[i,0],dfProdutoClusterReduzido[i,1],color='orange',\n",
    "        marker='P')\n",
    "    elif kmeans.labels_[i] == 6:\n",
    "        c7 = plt.scatter(dfProdutoClusterReduzido[i,0],dfProdutoClusterReduzido[i,1],color='purple',\n",
    "        marker='x')\n",
    "    elif kmeans.labels_[i] == 7:\n",
    "        c8 = plt.scatter(dfProdutoClusterReduzido[i,0],dfProdutoClusterReduzido[i,1],color='brown',\n",
    "        marker='_')\n",
    "    elif kmeans.labels_[i] == 8:\n",
    "        c9 = plt.scatter(dfProdutoClusterReduzido[i,0],dfProdutoClusterReduzido[i,1],color='black',\n",
    "        marker='1')\n",
    "    elif kmeans.labels_[i] == 9:\n",
    "        c10 = plt.scatter(dfProdutoClusterReduzido[i,0],dfProdutoClusterReduzido[i,1],color='pink',\n",
    "        marker='>')\n",
    "        \n",
    "plt.legend([c1, c2, c3, c4, c5, c6, c7, c8, c9, c10],['Cluster 1', 'Cluster 2', 'Cluster 3', 'Cluster 4', 'Cluster 5', 'Cluster 6', 'Cluster 7', 'Cluster 8'])\n",
    "plt.title('K-means clusters')\n",
    "plt.show()"
   ]
  },
  {
   "cell_type": "markdown",
   "metadata": {
    "colab_type": "text",
    "id": "6t8tVJpNApjY"
   },
   "source": [
    "## Modelo classificador -> Codinome: Xuxa Recomendation\n",
    "\n",
    "A ideia desse sistema de recomendação é:\n",
    "\n",
    "\n",
    "* A partir dos dados de Score (conhecimento, risco, objetivos, situacao financeira) e perfil investidor, determinar o melhor produto\n",
    "\n",
    "O mapa do modelo é representado abaxo:\n",
    "\n",
    "![image.png](data:image/png;base64,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)"
   ]
  },
  {
   "cell_type": "markdown",
   "metadata": {
    "colab_type": "text",
    "id": "QmSbH2UrA55X"
   },
   "source": [
    "### Setup\n",
    "É imprescindível a execução da clusterização de produtos para inicializar as variáveis de redução de dimencionalidade e definição do KMeans"
   ]
  },
  {
   "cell_type": "markdown",
   "metadata": {
    "colab_type": "text",
    "id": "loskUS6fLZXy"
   },
   "source": [
    "#### Selecionando variáveis - DataSet Perfil"
   ]
  },
  {
   "cell_type": "code",
   "execution_count": 237,
   "metadata": {
    "colab": {
     "base_uri": "https://localhost:8080/",
     "height": 678
    },
    "colab_type": "code",
    "id": "lnK_txUrLiY3",
    "outputId": "a3bdfe61-0527-4646-bfef-bfb014977ab5"
   },
   "outputs": [
    {
     "data": {
      "text/html": [
       "<div>\n",
       "<style scoped>\n",
       "    .dataframe tbody tr th:only-of-type {\n",
       "        vertical-align: middle;\n",
       "    }\n",
       "\n",
       "    .dataframe tbody tr th {\n",
       "        vertical-align: top;\n",
       "    }\n",
       "\n",
       "    .dataframe thead th {\n",
       "        text-align: right;\n",
       "    }\n",
       "</style>\n",
       "<table border=\"1\" class=\"dataframe\">\n",
       "  <thead>\n",
       "    <tr style=\"text-align: right;\">\n",
       "      <th></th>\n",
       "      <th>Unnamed: 0</th>\n",
       "      <th>Id</th>\n",
       "      <th>Idade</th>\n",
       "      <th>EstadoCivil</th>\n",
       "      <th>BillingCity</th>\n",
       "      <th>NivelConhecimentoAtual</th>\n",
       "      <th>ScoreNivelConhecimento</th>\n",
       "      <th>PerfilInvestidor</th>\n",
       "      <th>RendaMensal</th>\n",
       "      <th>ValorPatrimonio</th>\n",
       "      <th>...</th>\n",
       "      <th>ValorMinimoAplicacaoAdicional</th>\n",
       "      <th>DataVencimento</th>\n",
       "      <th>FamiliaCarteira</th>\n",
       "      <th>ValorInvestidoAtual</th>\n",
       "      <th>ValorRendimento</th>\n",
       "      <th>Rentabilidade12Meses</th>\n",
       "      <th>RentabilidadeMes</th>\n",
       "      <th>RiscoAtivo</th>\n",
       "      <th>Status</th>\n",
       "      <th>ProdutoId</th>\n",
       "    </tr>\n",
       "  </thead>\n",
       "  <tbody>\n",
       "    <tr>\n",
       "      <td>18061</td>\n",
       "      <td>18061</td>\n",
       "      <td>$2b$10$.DCvvJ9WSDpqVP2xXjeSPe..Fx6NhsrK9ZzYadq...</td>\n",
       "      <td>35</td>\n",
       "      <td>C</td>\n",
       "      <td>Juiz de Fora</td>\n",
       "      <td>1.0</td>\n",
       "      <td>1.0</td>\n",
       "      <td>2</td>\n",
       "      <td>2000.0</td>\n",
       "      <td>15000.0</td>\n",
       "      <td>...</td>\n",
       "      <td>30.0</td>\n",
       "      <td>NaN</td>\n",
       "      <td>Renda Fixa</td>\n",
       "      <td>30.0</td>\n",
       "      <td>NaN</td>\n",
       "      <td>0.0</td>\n",
       "      <td>-0.51989985</td>\n",
       "      <td>4.0</td>\n",
       "      <td>Efetivada</td>\n",
       "      <td>a0W6A000009L0FgUAK</td>\n",
       "    </tr>\n",
       "    <tr>\n",
       "      <td>18062</td>\n",
       "      <td>18062</td>\n",
       "      <td>$2b$10$.DCvvJ9WSDpqVP2xXjeSPe..Fx6NhsrK9ZzYadq...</td>\n",
       "      <td>35</td>\n",
       "      <td>C</td>\n",
       "      <td>Juiz de Fora</td>\n",
       "      <td>1.0</td>\n",
       "      <td>1.0</td>\n",
       "      <td>2</td>\n",
       "      <td>2000.0</td>\n",
       "      <td>15000.0</td>\n",
       "      <td>...</td>\n",
       "      <td>30.0</td>\n",
       "      <td>NaN</td>\n",
       "      <td>Renda Fixa</td>\n",
       "      <td>30.0</td>\n",
       "      <td>NaN</td>\n",
       "      <td>0.0</td>\n",
       "      <td>0.18808109</td>\n",
       "      <td>1.0</td>\n",
       "      <td>Efetivada</td>\n",
       "      <td>a0W6A000009GZdgUAG</td>\n",
       "    </tr>\n",
       "    <tr>\n",
       "      <td>1512</td>\n",
       "      <td>1512</td>\n",
       "      <td>$2b$10$.DCvvJ9WSDpqVP2xXjeSPe./VfMzqzrDosESSEW...</td>\n",
       "      <td>57</td>\n",
       "      <td>C</td>\n",
       "      <td>Maringá</td>\n",
       "      <td>1.0</td>\n",
       "      <td>1.0</td>\n",
       "      <td>1</td>\n",
       "      <td>1950.0</td>\n",
       "      <td>300000.0</td>\n",
       "      <td>...</td>\n",
       "      <td>30.0</td>\n",
       "      <td>NaN</td>\n",
       "      <td>Renda Fixa</td>\n",
       "      <td>50.0</td>\n",
       "      <td>NaN</td>\n",
       "      <td>0.0</td>\n",
       "      <td>0.04210412</td>\n",
       "      <td>1.0</td>\n",
       "      <td>Efetivada</td>\n",
       "      <td>a0W6A000009GZdgUAG</td>\n",
       "    </tr>\n",
       "    <tr>\n",
       "      <td>1513</td>\n",
       "      <td>1513</td>\n",
       "      <td>$2b$10$.DCvvJ9WSDpqVP2xXjeSPe./VfMzqzrDosESSEW...</td>\n",
       "      <td>57</td>\n",
       "      <td>C</td>\n",
       "      <td>Maringá</td>\n",
       "      <td>1.0</td>\n",
       "      <td>1.0</td>\n",
       "      <td>1</td>\n",
       "      <td>1950.0</td>\n",
       "      <td>300000.0</td>\n",
       "      <td>...</td>\n",
       "      <td>30.0</td>\n",
       "      <td>NaN</td>\n",
       "      <td>Renda Fixa</td>\n",
       "      <td>30.0</td>\n",
       "      <td>NaN</td>\n",
       "      <td>0.0</td>\n",
       "      <td>0.0930036</td>\n",
       "      <td>1.0</td>\n",
       "      <td>Efetivada</td>\n",
       "      <td>a0W6A000009GZdgUAG</td>\n",
       "    </tr>\n",
       "    <tr>\n",
       "      <td>1514</td>\n",
       "      <td>1514</td>\n",
       "      <td>$2b$10$.DCvvJ9WSDpqVP2xXjeSPe./VfMzqzrDosESSEW...</td>\n",
       "      <td>57</td>\n",
       "      <td>C</td>\n",
       "      <td>Maringá</td>\n",
       "      <td>1.0</td>\n",
       "      <td>1.0</td>\n",
       "      <td>1</td>\n",
       "      <td>1950.0</td>\n",
       "      <td>300000.0</td>\n",
       "      <td>...</td>\n",
       "      <td>30.0</td>\n",
       "      <td>NaN</td>\n",
       "      <td>Renda Fixa</td>\n",
       "      <td>45.5</td>\n",
       "      <td>NaN</td>\n",
       "      <td>0.0</td>\n",
       "      <td>0.1883326</td>\n",
       "      <td>1.0</td>\n",
       "      <td>Efetivada</td>\n",
       "      <td>a0W6A000009GZdgUAG</td>\n",
       "    </tr>\n",
       "  </tbody>\n",
       "</table>\n",
       "<p>5 rows × 66 columns</p>\n",
       "</div>"
      ],
      "text/plain": [
       "       Unnamed: 0                                                 Id  Idade  \\\n",
       "18061       18061  $2b$10$.DCvvJ9WSDpqVP2xXjeSPe..Fx6NhsrK9ZzYadq...     35   \n",
       "18062       18062  $2b$10$.DCvvJ9WSDpqVP2xXjeSPe..Fx6NhsrK9ZzYadq...     35   \n",
       "1512         1512  $2b$10$.DCvvJ9WSDpqVP2xXjeSPe./VfMzqzrDosESSEW...     57   \n",
       "1513         1513  $2b$10$.DCvvJ9WSDpqVP2xXjeSPe./VfMzqzrDosESSEW...     57   \n",
       "1514         1514  $2b$10$.DCvvJ9WSDpqVP2xXjeSPe./VfMzqzrDosESSEW...     57   \n",
       "\n",
       "      EstadoCivil   BillingCity  NivelConhecimentoAtual  \\\n",
       "18061           C  Juiz de Fora                     1.0   \n",
       "18062           C  Juiz de Fora                     1.0   \n",
       "1512            C       Maringá                     1.0   \n",
       "1513            C       Maringá                     1.0   \n",
       "1514            C       Maringá                     1.0   \n",
       "\n",
       "       ScoreNivelConhecimento  PerfilInvestidor  RendaMensal  ValorPatrimonio  \\\n",
       "18061                     1.0                 2       2000.0          15000.0   \n",
       "18062                     1.0                 2       2000.0          15000.0   \n",
       "1512                      1.0                 1       1950.0         300000.0   \n",
       "1513                      1.0                 1       1950.0         300000.0   \n",
       "1514                      1.0                 1       1950.0         300000.0   \n",
       "\n",
       "       ... ValorMinimoAplicacaoAdicional DataVencimento FamiliaCarteira  \\\n",
       "18061  ...                          30.0            NaN      Renda Fixa   \n",
       "18062  ...                          30.0            NaN      Renda Fixa   \n",
       "1512   ...                          30.0            NaN      Renda Fixa   \n",
       "1513   ...                          30.0            NaN      Renda Fixa   \n",
       "1514   ...                          30.0            NaN      Renda Fixa   \n",
       "\n",
       "      ValorInvestidoAtual ValorRendimento Rentabilidade12Meses  \\\n",
       "18061                30.0             NaN                  0.0   \n",
       "18062                30.0             NaN                  0.0   \n",
       "1512                 50.0             NaN                  0.0   \n",
       "1513                 30.0             NaN                  0.0   \n",
       "1514                 45.5             NaN                  0.0   \n",
       "\n",
       "      RentabilidadeMes RiscoAtivo     Status           ProdutoId  \n",
       "18061      -0.51989985        4.0  Efetivada  a0W6A000009L0FgUAK  \n",
       "18062       0.18808109        1.0  Efetivada  a0W6A000009GZdgUAG  \n",
       "1512        0.04210412        1.0  Efetivada  a0W6A000009GZdgUAG  \n",
       "1513         0.0930036        1.0  Efetivada  a0W6A000009GZdgUAG  \n",
       "1514         0.1883326        1.0  Efetivada  a0W6A000009GZdgUAG  \n",
       "\n",
       "[5 rows x 66 columns]"
      ]
     },
     "execution_count": 237,
     "metadata": {},
     "output_type": "execute_result"
    }
   ],
   "source": [
    "#Método que verifica registro duplicado por ID no DataSetfor index in df.index:\n",
    "#Isso significa quea coluna 'Unnamed: 0' é o ID identificador do investimento para o usuário X que possui identificação  pela coluna 'Id'\n",
    "pd.concat(g for _, g in dfPerfil.groupby('Id') if len(g) > 1).head(5)"
   ]
  },
  {
   "cell_type": "code",
   "execution_count": 243,
   "metadata": {
    "colab": {},
    "colab_type": "code",
    "id": "jxNifHJJnL36"
   },
   "outputs": [],
   "source": [
    "#Junção de DFs de interesse\n",
    "xuxa = []\n",
    "#dfProduto[['ValorMinimoAplicaInicial__c', 'LucroMesAnterior__c', 'DescontoIR__c', 'NrDiasUteisCotizacaoResgate__c', 'NrDiasUteisLiqFResgate__c', 'DescontoIR__c']].fillna(0)\n",
    "for i in dfProduto.index:\n",
    "    result = getClusterByProduto(dfProduto.loc[i:i, ['ValorMinimoAplicaInicial__c', 'LucroMesAnterior__c', 'DescontoIR__c', 'NrDiasUteisCotizacaoResgate__c', 'NrDiasUteisLiqFResgate__c', 'DescontoIR__c']].fillna(0))[0]\n",
    "    xuxa.append(result)\n",
    "\n",
    "dfProduto['Cluster'] = xuxa\n",
    "\n",
    "join = pd.merge(dfPerfil, dfProduto[['ProdutoId', 'NomeProduto__c', 'Cluster']], left_on='Produto', right_on='ProdutoId', how='inner')\n",
    "\n",
    "join.head()\n",
    "\n",
    "#Gerando DataSet Perfil com apenas as variáveis que indicariam alguma classificação\n",
    "dfPerfilInteresse = pd.DataFrame(\n",
    "      {\n",
    "          'PerfilInvestidor': join['PerfilInvestidor']\n",
    "          , 'ScoreNivelConhecimento': join['ScoreNivelConhecimento']\n",
    "          , 'ScoreRisco': join['ScoreRisco']\n",
    "          , 'ScoreObjetivos': join['ScoreObjetivos']\n",
    "          , 'ScoreSituacaoFinanceira': join['ScoreSituacaoFinanceira']\n",
    "          #, 'RendaMensal': dfPerfil['RendaMensal'] #Ainda há dúvidas se é utlizável\n",
    "          , 'Cluster': join['Cluster']                  \n",
    "          #, 'ProdutoID': join['NomeProduto__c']       \n",
    "      })"
   ]
  },
  {
   "cell_type": "code",
   "execution_count": 244,
   "metadata": {
    "colab": {
     "base_uri": "https://localhost:8080/",
     "height": 300
    },
    "colab_type": "code",
    "id": "VfQO3_XOqLKD",
    "outputId": "b9250617-70db-45a0-9a26-995155dae3cb"
   },
   "outputs": [
    {
     "data": {
      "text/html": [
       "<div>\n",
       "<style scoped>\n",
       "    .dataframe tbody tr th:only-of-type {\n",
       "        vertical-align: middle;\n",
       "    }\n",
       "\n",
       "    .dataframe tbody tr th {\n",
       "        vertical-align: top;\n",
       "    }\n",
       "\n",
       "    .dataframe thead th {\n",
       "        text-align: right;\n",
       "    }\n",
       "</style>\n",
       "<table border=\"1\" class=\"dataframe\">\n",
       "  <thead>\n",
       "    <tr style=\"text-align: right;\">\n",
       "      <th></th>\n",
       "      <th>PerfilInvestidor</th>\n",
       "      <th>ScoreNivelConhecimento</th>\n",
       "      <th>ScoreRisco</th>\n",
       "      <th>ScoreObjetivos</th>\n",
       "      <th>ScoreSituacaoFinanceira</th>\n",
       "      <th>Cluster</th>\n",
       "    </tr>\n",
       "  </thead>\n",
       "  <tbody>\n",
       "    <tr>\n",
       "      <td>count</td>\n",
       "      <td>36483.000000</td>\n",
       "      <td>36478.000000</td>\n",
       "      <td>36478.000000</td>\n",
       "      <td>36478.000000</td>\n",
       "      <td>36478.000000</td>\n",
       "      <td>36483.000000</td>\n",
       "    </tr>\n",
       "    <tr>\n",
       "      <td>mean</td>\n",
       "      <td>2.835512</td>\n",
       "      <td>2.557350</td>\n",
       "      <td>2.682466</td>\n",
       "      <td>3.156231</td>\n",
       "      <td>2.135314</td>\n",
       "      <td>1.455253</td>\n",
       "    </tr>\n",
       "    <tr>\n",
       "      <td>std</td>\n",
       "      <td>1.080879</td>\n",
       "      <td>1.541056</td>\n",
       "      <td>1.110293</td>\n",
       "      <td>1.177186</td>\n",
       "      <td>1.013575</td>\n",
       "      <td>2.708089</td>\n",
       "    </tr>\n",
       "    <tr>\n",
       "      <td>min</td>\n",
       "      <td>0.000000</td>\n",
       "      <td>1.000000</td>\n",
       "      <td>1.000000</td>\n",
       "      <td>1.000000</td>\n",
       "      <td>1.000000</td>\n",
       "      <td>0.000000</td>\n",
       "    </tr>\n",
       "    <tr>\n",
       "      <td>25%</td>\n",
       "      <td>2.000000</td>\n",
       "      <td>1.000000</td>\n",
       "      <td>2.000000</td>\n",
       "      <td>2.000000</td>\n",
       "      <td>1.000000</td>\n",
       "      <td>0.000000</td>\n",
       "    </tr>\n",
       "    <tr>\n",
       "      <td>50%</td>\n",
       "      <td>3.000000</td>\n",
       "      <td>2.000000</td>\n",
       "      <td>3.000000</td>\n",
       "      <td>3.000000</td>\n",
       "      <td>2.000000</td>\n",
       "      <td>0.000000</td>\n",
       "    </tr>\n",
       "    <tr>\n",
       "      <td>75%</td>\n",
       "      <td>4.000000</td>\n",
       "      <td>4.000000</td>\n",
       "      <td>3.000000</td>\n",
       "      <td>4.000000</td>\n",
       "      <td>3.000000</td>\n",
       "      <td>0.000000</td>\n",
       "    </tr>\n",
       "    <tr>\n",
       "      <td>max</td>\n",
       "      <td>5.000000</td>\n",
       "      <td>5.000000</td>\n",
       "      <td>5.000000</td>\n",
       "      <td>5.000000</td>\n",
       "      <td>5.000000</td>\n",
       "      <td>7.000000</td>\n",
       "    </tr>\n",
       "  </tbody>\n",
       "</table>\n",
       "</div>"
      ],
      "text/plain": [
       "       PerfilInvestidor  ScoreNivelConhecimento    ScoreRisco  ScoreObjetivos  \\\n",
       "count      36483.000000            36478.000000  36478.000000    36478.000000   \n",
       "mean           2.835512                2.557350      2.682466        3.156231   \n",
       "std            1.080879                1.541056      1.110293        1.177186   \n",
       "min            0.000000                1.000000      1.000000        1.000000   \n",
       "25%            2.000000                1.000000      2.000000        2.000000   \n",
       "50%            3.000000                2.000000      3.000000        3.000000   \n",
       "75%            4.000000                4.000000      3.000000        4.000000   \n",
       "max            5.000000                5.000000      5.000000        5.000000   \n",
       "\n",
       "       ScoreSituacaoFinanceira       Cluster  \n",
       "count             36478.000000  36483.000000  \n",
       "mean                  2.135314      1.455253  \n",
       "std                   1.013575      2.708089  \n",
       "min                   1.000000      0.000000  \n",
       "25%                   1.000000      0.000000  \n",
       "50%                   2.000000      0.000000  \n",
       "75%                   3.000000      0.000000  \n",
       "max                   5.000000      7.000000  "
      ]
     },
     "execution_count": 244,
     "metadata": {},
     "output_type": "execute_result"
    }
   ],
   "source": [
    "#Descrevendo o novo data set de interesse\n",
    "dfPerfilInteresse.describe()"
   ]
  },
  {
   "cell_type": "markdown",
   "metadata": {
    "colab_type": "text",
    "id": "K_yJE9nF6VaQ"
   },
   "source": [
    "####Tratamendo do dataset de interesse"
   ]
  },
  {
   "cell_type": "code",
   "execution_count": 246,
   "metadata": {
    "colab": {},
    "colab_type": "code",
    "id": "chBenKQ8qPLu"
   },
   "outputs": [],
   "source": [
    "#Removendo os valores NaN\n",
    "dfPerfilInteresse.dropna(inplace=True)"
   ]
  },
  {
   "cell_type": "code",
   "execution_count": 14,
   "metadata": {
    "colab": {
     "base_uri": "https://localhost:8080/",
     "height": 300
    },
    "colab_type": "code",
    "id": "XhXB4htIqfUw",
    "outputId": "6046f048-dad8-48db-bf42-67ad8c9ba035"
   },
   "outputs": [
    {
     "data": {
      "text/html": [
       "<div>\n",
       "<style scoped>\n",
       "    .dataframe tbody tr th:only-of-type {\n",
       "        vertical-align: middle;\n",
       "    }\n",
       "\n",
       "    .dataframe tbody tr th {\n",
       "        vertical-align: top;\n",
       "    }\n",
       "\n",
       "    .dataframe thead th {\n",
       "        text-align: right;\n",
       "    }\n",
       "</style>\n",
       "<table border=\"1\" class=\"dataframe\">\n",
       "  <thead>\n",
       "    <tr style=\"text-align: right;\">\n",
       "      <th></th>\n",
       "      <th>PerfilInvestidor</th>\n",
       "      <th>ScoreNivelConhecimento</th>\n",
       "      <th>ScoreRisco</th>\n",
       "      <th>ScoreObjetivos</th>\n",
       "      <th>ScoreSituacaoFinanceira</th>\n",
       "    </tr>\n",
       "  </thead>\n",
       "  <tbody>\n",
       "    <tr>\n",
       "      <td>count</td>\n",
       "      <td>36468.000000</td>\n",
       "      <td>36468.000000</td>\n",
       "      <td>36468.000000</td>\n",
       "      <td>36468.000000</td>\n",
       "      <td>36468.000000</td>\n",
       "    </tr>\n",
       "    <tr>\n",
       "      <td>mean</td>\n",
       "      <td>2.836542</td>\n",
       "      <td>2.557365</td>\n",
       "      <td>2.682708</td>\n",
       "      <td>3.156329</td>\n",
       "      <td>2.135379</td>\n",
       "    </tr>\n",
       "    <tr>\n",
       "      <td>std</td>\n",
       "      <td>1.079867</td>\n",
       "      <td>1.541173</td>\n",
       "      <td>1.110156</td>\n",
       "      <td>1.177198</td>\n",
       "      <td>1.013532</td>\n",
       "    </tr>\n",
       "    <tr>\n",
       "      <td>min</td>\n",
       "      <td>1.000000</td>\n",
       "      <td>1.000000</td>\n",
       "      <td>1.000000</td>\n",
       "      <td>1.000000</td>\n",
       "      <td>1.000000</td>\n",
       "    </tr>\n",
       "    <tr>\n",
       "      <td>25%</td>\n",
       "      <td>2.000000</td>\n",
       "      <td>1.000000</td>\n",
       "      <td>2.000000</td>\n",
       "      <td>2.000000</td>\n",
       "      <td>1.000000</td>\n",
       "    </tr>\n",
       "    <tr>\n",
       "      <td>50%</td>\n",
       "      <td>3.000000</td>\n",
       "      <td>2.000000</td>\n",
       "      <td>3.000000</td>\n",
       "      <td>3.000000</td>\n",
       "      <td>2.000000</td>\n",
       "    </tr>\n",
       "    <tr>\n",
       "      <td>75%</td>\n",
       "      <td>4.000000</td>\n",
       "      <td>4.000000</td>\n",
       "      <td>3.000000</td>\n",
       "      <td>4.000000</td>\n",
       "      <td>3.000000</td>\n",
       "    </tr>\n",
       "    <tr>\n",
       "      <td>max</td>\n",
       "      <td>5.000000</td>\n",
       "      <td>5.000000</td>\n",
       "      <td>5.000000</td>\n",
       "      <td>5.000000</td>\n",
       "      <td>5.000000</td>\n",
       "    </tr>\n",
       "  </tbody>\n",
       "</table>\n",
       "</div>"
      ],
      "text/plain": [
       "       PerfilInvestidor  ScoreNivelConhecimento    ScoreRisco  ScoreObjetivos  \\\n",
       "count      36468.000000            36468.000000  36468.000000    36468.000000   \n",
       "mean           2.836542                2.557365      2.682708        3.156329   \n",
       "std            1.079867                1.541173      1.110156        1.177198   \n",
       "min            1.000000                1.000000      1.000000        1.000000   \n",
       "25%            2.000000                1.000000      2.000000        2.000000   \n",
       "50%            3.000000                2.000000      3.000000        3.000000   \n",
       "75%            4.000000                4.000000      3.000000        4.000000   \n",
       "max            5.000000                5.000000      5.000000        5.000000   \n",
       "\n",
       "       ScoreSituacaoFinanceira  \n",
       "count             36468.000000  \n",
       "mean                  2.135379  \n",
       "std                   1.013532  \n",
       "min                   1.000000  \n",
       "25%                   1.000000  \n",
       "50%                   2.000000  \n",
       "75%                   3.000000  \n",
       "max                   5.000000  "
      ]
     },
     "execution_count": 14,
     "metadata": {},
     "output_type": "execute_result"
    }
   ],
   "source": [
    "#DataSet equilibrado de acordo com o descrivo\n",
    "dfPerfilInteresse.describe()"
   ]
  },
  {
   "cell_type": "code",
   "execution_count": 42,
   "metadata": {
    "colab": {
     "base_uri": "https://localhost:8080/",
     "height": 36
    },
    "colab_type": "code",
    "id": "hGZBh389y2IG",
    "outputId": "dd76bea8-3f39-49b5-d57f-5ad1043c0dc2"
   },
   "outputs": [
    {
     "data": {
      "text/plain": [
       "array([2, 1, 3, 4, 5, 0])"
      ]
     },
     "execution_count": 42,
     "metadata": {},
     "output_type": "execute_result"
    }
   ],
   "source": [
    "#Verificando outliers das colunas PerfilInvestidos\n",
    "#Previsto valores 1 a 5\n",
    "dfPerfilInteresse.PerfilInvestidor.unique()"
   ]
  },
  {
   "cell_type": "code",
   "execution_count": 43,
   "metadata": {
    "colab": {},
    "colab_type": "code",
    "id": "PbXOGl-P0muh"
   },
   "outputs": [],
   "source": [
    "#Removendo valore com PerfilInvestido 0\n",
    "#Esse perfil não está no app\n",
    "dfPerfilInteresse.drop(index=dfPerfilInteresse[dfPerfilInteresse.PerfilInvestidor == 0].index, inplace=True)"
   ]
  },
  {
   "cell_type": "code",
   "execution_count": 44,
   "metadata": {
    "colab": {
     "base_uri": "https://localhost:8080/",
     "height": 36
    },
    "colab_type": "code",
    "id": "0QAZW7Lv2mbg",
    "outputId": "9acd89dd-530b-4e86-99f8-3b6792d77916"
   },
   "outputs": [
    {
     "data": {
      "text/plain": [
       "array([ 1.,  4.,  2.,  5.,  3., nan])"
      ]
     },
     "execution_count": 44,
     "metadata": {},
     "output_type": "execute_result"
    }
   ],
   "source": [
    "#Verificando ScoreNivelConhecimento\n",
    "dfPerfilInteresse.ScoreNivelConhecimento.unique()"
   ]
  },
  {
   "cell_type": "code",
   "execution_count": 45,
   "metadata": {
    "colab": {
     "base_uri": "https://localhost:8080/",
     "height": 34
    },
    "colab_type": "code",
    "id": "uCMsmOLN24xl",
    "outputId": "bd8b5980-a742-406d-d78d-524a9e1d370e"
   },
   "outputs": [
    {
     "data": {
      "text/plain": [
       "array([ 2.,  3.,  4.,  1.,  5., nan])"
      ]
     },
     "execution_count": 45,
     "metadata": {},
     "output_type": "execute_result"
    }
   ],
   "source": [
    "#Verificando ScoreRisco\n",
    "dfPerfilInteresse.ScoreRisco.unique()"
   ]
  },
  {
   "cell_type": "code",
   "execution_count": 46,
   "metadata": {
    "colab": {
     "base_uri": "https://localhost:8080/",
     "height": 34
    },
    "colab_type": "code",
    "id": "mKPFoI9l29gG",
    "outputId": "f16f8c8d-63ea-424f-dfbf-b1195fb005d4"
   },
   "outputs": [
    {
     "data": {
      "text/plain": [
       "array([ 2.,  3.,  1.,  5.,  4., nan])"
      ]
     },
     "execution_count": 46,
     "metadata": {},
     "output_type": "execute_result"
    }
   ],
   "source": [
    "#Verificando ScoreObjetivos\n",
    "dfPerfilInteresse.ScoreObjetivos.unique()"
   ]
  },
  {
   "cell_type": "code",
   "execution_count": 47,
   "metadata": {
    "colab": {
     "base_uri": "https://localhost:8080/",
     "height": 34
    },
    "colab_type": "code",
    "id": "u4nDJisv3Dir",
    "outputId": "a69aa910-2e9f-4173-dd09-ddad120ea294"
   },
   "outputs": [
    {
     "data": {
      "text/plain": [
       "array([ 1.,  2.,  3.,  5.,  4., nan])"
      ]
     },
     "execution_count": 47,
     "metadata": {},
     "output_type": "execute_result"
    }
   ],
   "source": [
    "#Verificando ScoreSituacaoFinanceira\n",
    "dfPerfilInteresse.ScoreSituacaoFinanceira.unique()"
   ]
  },
  {
   "cell_type": "code",
   "execution_count": 48,
   "metadata": {
    "colab": {
     "base_uri": "https://localhost:8080/",
     "height": 36
    },
    "colab_type": "code",
    "id": "VjFuWd4j3RVd",
    "outputId": "a7cee525-e255-4c76-d2d6-571addfb2cb1"
   },
   "outputs": [
    {
     "data": {
      "text/plain": [
       "0"
      ]
     },
     "execution_count": 48,
     "metadata": {},
     "output_type": "execute_result"
    }
   ],
   "source": [
    "#Verificando FamiliaCarteira\n",
    "dfPerfilInteresse.ProdutoID.isna().sum()"
   ]
  },
  {
   "cell_type": "markdown",
   "metadata": {
    "colab_type": "text",
    "id": "sqWFR0gRhDmN"
   },
   "source": [
    "#### Balanceamento do DataSet"
   ]
  },
  {
   "cell_type": "code",
   "execution_count": 49,
   "metadata": {
    "colab": {
     "base_uri": "https://localhost:8080/",
     "height": 315
    },
    "colab_type": "code",
    "id": "qdYgqRGuhJ6n",
    "outputId": "4e165901-a6b9-4af8-a908-95340ff0ebba"
   },
   "outputs": [
    {
     "data": {
      "text/plain": [
       "<matplotlib.axes._subplots.AxesSubplot at 0x7fd6e6154cd0>"
      ]
     },
     "execution_count": 49,
     "metadata": {},
     "output_type": "execute_result"
    },
    {
     "data": {
      "image/png": "[encoded data removed]",
      "text/plain": [
       "<Figure size 432x288 with 1 Axes>"
      ]
     },
     "metadata": {
      "needs_background": "light"
     },
     "output_type": "display_data"
    }
   ],
   "source": [
    "groups = dfPerfilInteresse.groupby('PerfilInvestidor')['PerfilInvestidor'].value_counts()\n",
    "groups.plot.bar()"
   ]
  },
  {
   "cell_type": "code",
   "execution_count": 50,
   "metadata": {
    "colab": {
     "base_uri": "https://localhost:8080/",
     "height": 334
    },
    "colab_type": "code",
    "id": "l2aSd_xbkOxU",
    "outputId": "b350b19a-5f5e-4e36-f3c0-e382ccdb2263"
   },
   "outputs": [
    {
     "data": {
      "text/plain": [
       "<matplotlib.axes._subplots.AxesSubplot at 0x7fd6bb42b550>"
      ]
     },
     "execution_count": 50,
     "metadata": {},
     "output_type": "execute_result"
    },
    {
     "data": {
      "image/png": "[encoded data removed]",
      "text/plain": [
       "<Figure size 432x288 with 1 Axes>"
      ]
     },
     "metadata": {
      "needs_background": "light"
     },
     "output_type": "display_data"
    }
   ],
   "source": [
    "groups = dfPerfilInteresse.groupby('ScoreNivelConhecimento')['ScoreNivelConhecimento'].value_counts()\n",
    "groups.plot.bar()"
   ]
  },
  {
   "cell_type": "code",
   "execution_count": 51,
   "metadata": {
    "colab": {
     "base_uri": "https://localhost:8080/",
     "height": 334
    },
    "colab_type": "code",
    "id": "sq-SkGvjkYXf",
    "outputId": "d90278a5-9c4e-46cf-f5ad-e504dd86874e"
   },
   "outputs": [
    {
     "data": {
      "text/plain": [
       "<matplotlib.axes._subplots.AxesSubplot at 0x7fd6c25b0ed0>"
      ]
     },
     "execution_count": 51,
     "metadata": {},
     "output_type": "execute_result"
    },
    {
     "data": {
      "image/png": "[encoded data removed]",
      "text/plain": [
       "<Figure size 432x288 with 1 Axes>"
      ]
     },
     "metadata": {
      "needs_background": "light"
     },
     "output_type": "display_data"
    }
   ],
   "source": [
    "groups = dfPerfilInteresse.groupby('ScoreRisco')['ScoreRisco'].value_counts()\n",
    "groups.plot.bar()"
   ]
  },
  {
   "cell_type": "code",
   "execution_count": 52,
   "metadata": {
    "colab": {
     "base_uri": "https://localhost:8080/",
     "height": 334
    },
    "colab_type": "code",
    "id": "-sIobqu-keGq",
    "outputId": "1ac91228-0b98-4958-b418-c7f3c4b11746"
   },
   "outputs": [
    {
     "data": {
      "text/plain": [
       "<matplotlib.axes._subplots.AxesSubplot at 0x7fd6e01bee10>"
      ]
     },
     "execution_count": 52,
     "metadata": {},
     "output_type": "execute_result"
    },
    {
     "data": {
      "image/png": "[encoded data removed]",
      "text/plain": [
       "<Figure size 432x288 with 1 Axes>"
      ]
     },
     "metadata": {
      "needs_background": "light"
     },
     "output_type": "display_data"
    }
   ],
   "source": [
    "groups = dfPerfilInteresse.groupby('ScoreObjetivos')['ScoreObjetivos'].value_counts()\n",
    "groups.plot.bar()"
   ]
  },
  {
   "cell_type": "code",
   "execution_count": 53,
   "metadata": {
    "colab": {
     "base_uri": "https://localhost:8080/",
     "height": 334
    },
    "colab_type": "code",
    "id": "rTj5pH9bki5_",
    "outputId": "26edb104-24d2-4908-b9f9-955c5c4d57c1"
   },
   "outputs": [
    {
     "data": {
      "text/plain": [
       "<matplotlib.axes._subplots.AxesSubplot at 0x7fd6c251b750>"
      ]
     },
     "execution_count": 53,
     "metadata": {},
     "output_type": "execute_result"
    },
    {
     "data": {
      "image/png": "[encoded data removed]",
      "text/plain": [
       "<Figure size 432x288 with 1 Axes>"
      ]
     },
     "metadata": {
      "needs_background": "light"
     },
     "output_type": "display_data"
    }
   ],
   "source": [
    "groups = dfPerfilInteresse.groupby('ScoreSituacaoFinanceira')['ScoreSituacaoFinanceira'].value_counts()\n",
    "groups.plot.bar()"
   ]
  },
  {
   "cell_type": "code",
   "execution_count": 245,
   "metadata": {},
   "outputs": [
    {
     "data": {
      "text/plain": [
       "<matplotlib.axes._subplots.AxesSubplot at 0x7fbfb7704b90>"
      ]
     },
     "execution_count": 245,
     "metadata": {},
     "output_type": "execute_result"
    },
    {
     "data": {
      "image/png": "[encoded data removed]",
      "text/plain": [
       "<Figure size 432x288 with 1 Axes>"
      ]
     },
     "metadata": {},
     "output_type": "display_data"
    }
   ],
   "source": [
    "groups = dfPerfilInteresse.groupby('Cluster')['Cluster'].value_counts().sort_values()\n",
    "groups.plot.bar()\n",
    "#Amostra de dados totalmente desbalanceada. Os pesos serão inseridos no momento de treinar"
   ]
  },
  {
   "cell_type": "markdown",
   "metadata": {
    "colab_type": "text",
    "id": "tV59xZLD6yH7"
   },
   "source": [
    "#### Preparando dataset para o modelo - 1.0"
   ]
  },
  {
   "cell_type": "code",
   "execution_count": 56,
   "metadata": {
    "colab": {},
    "colab_type": "code",
    "id": "yHnhWwQz63SR"
   },
   "outputs": [],
   "source": [
    "#Configurando variáveis categóricas\n",
    "familiaCarteira = {'Renda Fixa': 0, 'Renda Variável': 1}\n",
    "dfModelo = dfPerfilInteresse.copy()\n",
    "\n",
    "#Transformando produtos em One Hot Encoded\n",
    "dict_produtos = pd.DataFrame(dfModelo.ProdutoID.apply(lambda produto: produto.lower()).unique()).to_dict()[0]\n",
    "dict_produto_one_hot_enconded = {}\n",
    "productsEncoded = tf.keras.utils.to_categorical(np.array(list(dict_produtos.keys())), len(dict_produtos))\n",
    "for dictProdutoKey in dict_produtos.keys():\n",
    "  dict_produto_one_hot_enconded[dictProdutoKey] = productsEncoded[dictProdutoKey]\n",
    "\n",
    "#dfModelo.ProdutoID = dfModelo.ProdutoID.apply(lambda produto: getOneHotEncodedByProdutcName(dict_produtos, dict_produto_one_hot_enconded, produto))\n",
    "dfModelo.ProdutoID = dfModelo.ProdutoID.apply(lambda produto: getProdutoId(dict_produtos, produto))\n",
    "\n",
    "#Testes\n",
    "dfModelo.PerfilInvestidor = dfModelo.PerfilInvestidor / 255\n",
    "dfModelo.ScoreNivelConhecimento = dfModelo.ScoreNivelConhecimento / 255\n",
    "dfModelo.ScoreRisco = dfModelo.ScoreRisco / 255\n",
    "dfModelo.ScoreObjetivos = dfModelo.ScoreObjetivos / 255\n",
    "dfModelo.ScoreSituacaoFinanceira = dfModelo.ScoreSituacaoFinanceira / 255\n",
    "\n",
    "#Separando Treino e teste\n",
    "msk = np.random.rand(len(dfModelo)) < 0.7\n",
    "\n",
    "df_treino = dfModelo[msk]\n",
    "df_teste  =  dfModelo[~msk]\n",
    "\n",
    "x_train = df_treino.loc[:, df_treino.columns != 'ProdutoID']\n",
    "y_train = df_treino['ProdutoID']\n",
    "x_test = df_teste.loc[:, df_teste.columns != 'ProdutoID']\n",
    "y_test = df_teste['ProdutoID']\n",
    "\n",
    "#Balanceando os investimentos\n",
    "class_weights = class_weight.compute_class_weight('balanced',\n",
    "                                                 np.unique(y_train),\n",
    "                                                 y_train)"
   ]
  },
  {
   "cell_type": "markdown",
   "metadata": {
    "colab_type": "text",
    "id": "qu8pvzBG93jo"
   },
   "source": [
    "#### Desenhando o modelo"
   ]
  },
  {
   "cell_type": "code",
   "execution_count": 61,
   "metadata": {
    "colab": {
     "base_uri": "https://localhost:8080/",
     "height": 429
    },
    "colab_type": "code",
    "id": "obGfpKTmu9kr",
    "outputId": "2a322096-90f2-40cc-b552-37777fbab29f"
   },
   "outputs": [
    {
     "name": "stdout",
     "output_type": "stream",
     "text": [
      "Model: \"xuxa_model\"\n",
      "_________________________________________________________________\n",
      "Layer (type)                 Output Shape              Param #   \n",
      "=================================================================\n",
      "dropout (Dropout)            (None, 5)                 0         \n",
      "_________________________________________________________________\n",
      "aceitacao (Dense)            (None, 5)                 30        \n",
      "_________________________________________________________________\n",
      "familia_carteira (Dense)     (None, 2)                 12        \n",
      "_________________________________________________________________\n",
      "tipo_produto (Dense)         (None, 17)                51        \n",
      "_________________________________________________________________\n",
      "investimentos (Dense)        (None, 243)               4374      \n",
      "=================================================================\n",
      "Total params: 4,467\n",
      "Trainable params: 4,467\n",
      "Non-trainable params: 0\n",
      "_________________________________________________________________\n"
     ]
    }
   ],
   "source": [
    "#Desenhando o modelo 1.0\n",
    "model = tf.keras.models.Sequential([\n",
    "    tf.keras.layers.InputLayer(input_shape=x_train.shape[1], name='perfil'), #Entradas\n",
    "    tf.keras.layers.Dropout(0.3),\n",
    "    tf.keras.layers.Dense(5, activation='relu', name='aceitacao'), #Aceitaao (1 a 5)\n",
    "    #tf.keras.layers.Dropout(0.3),\n",
    "    tf.keras.layers.Dense(2, activation='relu', name='familia_carteira'), #FamiliaCarteira (Renda Fixa e Renda Variavel) \n",
    "    #tf.keras.layers.Dropout(0.3),\n",
    "    tf.keras.layers.Dense(17, activation='relu', name='tipo_produto'), #TipoProduto (17 produtos)\n",
    "    #tf.keras.layers.Dropout(0.3),\n",
    "    tf.keras.layers.Dense(len(dict_produtos), activation='softmax', name='investimentos'), #Investimentos\n",
    "], name='xuxa_model')\n",
    "\n",
    "opt = tf.keras.optimizers.Adadelta(learning_rate=0.0001)\n",
    "#1 'sparse_categorical_crossentropy'\n",
    "#lss = tf.keras.losses.kld\n",
    "lss = tf.keras.losses.sparse_categorical_crossentropy\n",
    "\n",
    "model.compile(optimizer=opt, loss=lss, metrics=['accuracy'])\n",
    "\n",
    "#Remover os logs do TensorBoard\n",
    "removeHistory = False\n",
    "\n",
    "#Nome do arquivo de treinamento\n",
    "trainingName = datetime.datetime.now().strftime(\"%Y%m%d-%H%M%S\") + \"_\" + \"Adamax\"\n",
    "\n",
    "if (removeHistory):\n",
    "    !rm -rf ./logs/ \n",
    "\n",
    "#Configurando o callback do TensorBoard\n",
    "log_dir = \"logs/fit/\" + trainingName\n",
    "tensorboard_callback = tf.keras.callbacks.TensorBoard(log_dir=log_dir, histogram_freq=1)\n",
    "\n",
    "model.summary()"
   ]
  },
  {
   "cell_type": "markdown",
   "metadata": {
    "colab_type": "text",
    "id": "ltWNyhHD9_wF"
   },
   "source": [
    "#### Treinamento\n",
    "\n",
    "Ao treinar é possível verificar o andamento pelo TensorBoard que encontra-se no notebook nesse mesmo path"
   ]
  },
  {
   "cell_type": "code",
   "execution_count": 206,
   "metadata": {
    "colab": {},
    "colab_type": "code",
    "id": "9Pc-s1Ph6LT3"
   },
   "outputs": [],
   "source": [
    "# Treinamento do modelo\n",
    "history = model.fit(\n",
    "    x_train, \n",
    "    y_train, \n",
    "    validation_data=(x_test, y_test), \n",
    "    epochs=20000, \n",
    "    batch_size=1024, \n",
    "    shuffle=True, \n",
    "    callbacks=[tensorboard_callback], \n",
    "    verbose=False,\n",
    "    class_weight=class_weights\n",
    ")"
   ]
  },
  {
   "cell_type": "markdown",
   "metadata": {
    "colab_type": "text",
    "id": "egaIuK-Y-EOJ"
   },
   "source": [
    "#### Qualidade do modelo"
   ]
  },
  {
   "cell_type": "code",
   "execution_count": 207,
   "metadata": {
    "colab": {
     "base_uri": "https://localhost:8080/",
     "height": 573
    },
    "colab_type": "code",
    "id": "QQVSB3ov6S5D",
    "outputId": "ecf02483-ec2a-47a2-e3b0-4bb7c960f66b"
   },
   "outputs": [
    {
     "data": {
      "image/png": "[encoded data removed]",
      "text/plain": [
       "<Figure size 432x288 with 1 Axes>"
      ]
     },
     "metadata": {
      "needs_background": "light"
     },
     "output_type": "display_data"
    },
    {
     "data": {
      "image/png": "[encoded data removed]",
      "text/plain": [
       "<Figure size 432x288 with 1 Axes>"
      ]
     },
     "metadata": {
      "needs_background": "light"
     },
     "output_type": "display_data"
    }
   ],
   "source": [
    "#Avaliando treinamento\n",
    "plt.plot(history.history['accuracy'])\n",
    "plt.plot(history.history['val_accuracy'])\n",
    "plt.title('Model accuracy')\n",
    "plt.ylabel('Accuracy')\n",
    "plt.xlabel('Epoch')\n",
    "plt.legend(['Train', 'Test'], loc='upper left')\n",
    "plt.show()\n",
    "\n",
    "plt.plot(history.history['loss'])\n",
    "plt.plot(history.history['val_loss'])\n",
    "plt.title('Model loss')\n",
    "plt.ylabel('Loss')\n",
    "plt.xlabel('Epoch')\n",
    "plt.legend(['Train', 'Test'], loc='upper left')\n",
    "plt.show()"
   ]
  },
  {
   "cell_type": "markdown",
   "metadata": {},
   "source": [
    "####Teste manual"
   ]
  },
  {
   "cell_type": "code",
   "execution_count": 210,
   "metadata": {},
   "outputs": [
    {
     "data": {
      "text/html": [
       "<div>\n",
       "<style scoped>\n",
       "    .dataframe tbody tr th:only-of-type {\n",
       "        vertical-align: middle;\n",
       "    }\n",
       "\n",
       "    .dataframe tbody tr th {\n",
       "        vertical-align: top;\n",
       "    }\n",
       "\n",
       "    .dataframe thead th {\n",
       "        text-align: right;\n",
       "    }\n",
       "</style>\n",
       "<table border=\"1\" class=\"dataframe\">\n",
       "  <thead>\n",
       "    <tr style=\"text-align: right;\">\n",
       "      <th></th>\n",
       "      <th>Investimentos</th>\n",
       "    </tr>\n",
       "  </thead>\n",
       "  <tbody>\n",
       "    <tr>\n",
       "      <td>0</td>\n",
       "      <td>24.040380</td>\n",
       "    </tr>\n",
       "    <tr>\n",
       "      <td>3</td>\n",
       "      <td>5.074982</td>\n",
       "    </tr>\n",
       "    <tr>\n",
       "      <td>2</td>\n",
       "      <td>3.862631</td>\n",
       "    </tr>\n",
       "    <tr>\n",
       "      <td>8</td>\n",
       "      <td>2.249092</td>\n",
       "    </tr>\n",
       "    <tr>\n",
       "      <td>12</td>\n",
       "      <td>1.822492</td>\n",
       "    </tr>\n",
       "    <tr>\n",
       "      <td>6</td>\n",
       "      <td>1.699976</td>\n",
       "    </tr>\n",
       "    <tr>\n",
       "      <td>9</td>\n",
       "      <td>1.571430</td>\n",
       "    </tr>\n",
       "    <tr>\n",
       "      <td>1</td>\n",
       "      <td>0.964332</td>\n",
       "    </tr>\n",
       "    <tr>\n",
       "      <td>7</td>\n",
       "      <td>0.840293</td>\n",
       "    </tr>\n",
       "    <tr>\n",
       "      <td>10</td>\n",
       "      <td>0.786626</td>\n",
       "    </tr>\n",
       "  </tbody>\n",
       "</table>\n",
       "</div>"
      ],
      "text/plain": [
       "    Investimentos\n",
       "0       24.040380\n",
       "3        5.074982\n",
       "2        3.862631\n",
       "8        2.249092\n",
       "12       1.822492\n",
       "6        1.699976\n",
       "9        1.571430\n",
       "1        0.964332\n",
       "7        0.840293\n",
       "10       0.786626"
      ]
     },
     "execution_count": 210,
     "metadata": {},
     "output_type": "execute_result"
    }
   ],
   "source": [
    "#Pos1 = PerfilInvestidor (1 a 5)\n",
    "pos1 = 3\n",
    "#Pos2 = ScoreConhecimento (1 a 5)\n",
    "pos2 = 3\n",
    "#Pos3 = ScoreRisco (1 a 5)\n",
    "pos3 = 3\n",
    "#Pos4 =\\ScoreObjetivos (1 a 5)\n",
    "pos4 = 3\n",
    "#Pos5 = ScoreSituacaoFinanceira (1 a 5)\n",
    "pos5 = 3\n",
    "\n",
    "inputData = [[pos1, pos2, pos3, pos4, pos5]]\n",
    "\n",
    "#inputDados['pos1'] = pos1\n",
    "#inputDados['pos2'] = pos2\n",
    "#inputDados['pos3'] = pos3\n",
    "#inputDados['pos4'] = pos4\n",
    "#inputDados['pos5'] = pos5\n",
    "\n",
    "#TratamentoDadps\n",
    "fixedData = pd.DataFrame(inputData) / 255\n",
    "\n",
    "#Predizendo top 10 investimentos\n",
    "modelResult = model.predict(fixedData)\n",
    "\n",
    "#Filtrando apenas resultados relevantes (top 10)\n",
    "modelResultFixed = pd.DataFrame(modelResult)\n",
    "modelResultFixed = modelResultFixed.transpose()[0]\n",
    "investments = pd.DataFrame()\n",
    "investments['Investimentos'] = modelResultFixed * 100\n",
    "investments = investments.sort_values(by=['Investimentos'], ascending=False)\n",
    "investments.head(10)"
   ]
  },
  {
   "cell_type": "code",
   "execution_count": 111,
   "metadata": {},
   "outputs": [
    {
     "data": {
      "text/plain": [
       "{0: 'pi selic rf simples fi',\n",
       " 1: 'jojo wachsmann - vitreo',\n",
       " 2: 'sam juro real rf fic fi',\n",
       " 3: 'renato santaniello - santander private',\n",
       " 4: 'sam renda fixa longo prazo fic fi',\n",
       " 5: 'fabio passos - ca indosuez',\n",
       " 6: 'dan kawa - tag investimentos',\n",
       " 7: 'bernardo s. da icatu - data alvo 2030',\n",
       " 8: 'cdb',\n",
       " 9: 'lca',\n",
       " 10: 'trigono flagship small caps fic fia',\n",
       " 11: 'bogari value d fic fia',\n",
       " 12: 'lci',\n",
       " 13: 'bernardo s. da icatu - data alvo 2040',\n",
       " 14: 'btg pactual yield di fi referenciado cp',\n",
       " 15: 'alaska black fic fia ii - bdr nível i',\n",
       " 16: 'icatu vanguarda cp firf lp',\n",
       " 17: 'sam rates and fx multimercado fic fi',\n",
       " 18: 'sul américa fv fia',\n",
       " 19: 'lc',\n",
       " 20: 'nest fia',\n",
       " 21: 'kadima equities fic fia',\n",
       " 22: 'constância fundamento fia',\n",
       " 23: 'bernardo s. da icatu - data alvo 2050',\n",
       " 24: 'arx income fia',\n",
       " 25: 'equitas selection fic fia',\n",
       " 26: 'equitas selection mão amiga fic ações',\n",
       " 27: 'az quest yield fic firf lp',\n",
       " 28: 'arx fia',\n",
       " 29: 'ibiuna equities 30 fic fia',\n",
       " 30: 'kapitalo kappa d fic fim',\n",
       " 31: 'versa charger bdr nível i fia',\n",
       " 32: 'kiron fic fia',\n",
       " 33: 'guepardo institucional fic fia',\n",
       " 34: 'occam institucional fic fim ii',\n",
       " 35: 'votorantim fi eagle rf lp',\n",
       " 36: 'devant solidus cash firf cp',\n",
       " 37: 'rb capital vitoria deb incentivadas fic',\n",
       " 38: 'arx elbrus debêntures incentivadas fim c',\n",
       " 39: 'ca indosuez debentures incentivadas cp',\n",
       " 40: 'reach total return fic fia',\n",
       " 41: 'constellation institucional fic fia',\n",
       " 42: 'sul américa juro real curto fi rf lp',\n",
       " 43: 'grou absoluto fic fim',\n",
       " 44: 'porto seguro ima-b5 fic de fi rf lp',\n",
       " 45: 'brasil plural yield firf referenciado di',\n",
       " 46: 'icatu vanguarda rf fi plus lp',\n",
       " 47: 'sul américa total impacto fia',\n",
       " 48: 'guepardo allocation fic fia',\n",
       " 49: 'ip participações ipg fic fia bdr nivel i',\n",
       " 50: 'ca indosuez allocation action fic fia',\n",
       " 51: 'tork fundo de investimento em cotas fia',\n",
       " 52: 'brasil plural debêntures incentivadas 45',\n",
       " 53: 'opportunity market fic fim',\n",
       " 54: 'opportunity total fic fim',\n",
       " 55: 'icatu vanguarda pré-fixado firf lp',\n",
       " 56: 'icatu vanguarda firf inflação cp lp',\n",
       " 57: 'gti dimona brasil fia',\n",
       " 58: 'fama fic fia',\n",
       " 59: 'exploritas alpha america latina fic fim',\n",
       " 60: 'garde dartagnan fic fim',\n",
       " 61: 'pacifico lb fic fim',\n",
       " 62: 'tarpon gt fic fia',\n",
       " 63: 'safari 45 fic fim ii',\n",
       " 64: 'az quest luce fic firf cp lp',\n",
       " 65: 'indie fic fia',\n",
       " 66: 'porto seguro clássico rf ficfi lp',\n",
       " 67: 'novus institucional fic fim',\n",
       " 68: 'dlm premium 30 firf cp lp',\n",
       " 69: 'ouro preto real fic firf lp',\n",
       " 70: 'brasil plural debêntures incentivadas he',\n",
       " 71: 'devant debêntures incentivadas firf cp',\n",
       " 72: 'bradesco asset fic fim alocação arrojada',\n",
       " 73: 'az quest multi fic fim',\n",
       " 74: 'opportunity selection fic fia',\n",
       " 75: 'legacy capital fic fim',\n",
       " 76: 'btg pactual dividendos fic fia',\n",
       " 77: 'votorantim fic fi cambial dolar',\n",
       " 78: 'leblon ações fic fia',\n",
       " 79: 'alaska black institucional fia',\n",
       " 80: 'claritas institucional fim',\n",
       " 81: 'versa tracker fim',\n",
       " 82: 'miles virtus b fic fia',\n",
       " 83: 'mauá capital ações fic fia',\n",
       " 84: 'tagus absoluto fundo de investimento mul',\n",
       " 85: 'btg pactual debentures incentivadas firf',\n",
       " 86: 'garde athos long biased fic fim',\n",
       " 87: 'tagus fundamental fia',\n",
       " 88: 'navi long biased fic fim',\n",
       " 89: 'ca indosuez di master firf ref. di lp',\n",
       " 90: 'módulo i fic fia',\n",
       " 91: 'ip value hedge fic fia bdr nível i',\n",
       " 92: 'ca indosuez agilité firf cp',\n",
       " 93: 'leblon ações ii fic fia',\n",
       " 94: 'occam retorno absoluto fic fim',\n",
       " 95: 'az quest top long biased fic fia',\n",
       " 96: 'alaska black fic fia - bdr nível i',\n",
       " 97: 'logos total return fic fim',\n",
       " 98: 'az quest ações fic fia',\n",
       " 99: 'porto seguro selecta fic fia',\n",
       " 100: 'canvas vector fic fim',\n",
       " 101: 'brasil capital fic fia',\n",
       " 102: 'dlm hedge conservador ii firf cp',\n",
       " 103: 'votorantim fi equity hedge multimercado',\n",
       " 104: 'btg pactual hedge fi multimercado',\n",
       " 105: 'brasil capital 30 fic fia',\n",
       " 106: 'dahlia institucional fic fia',\n",
       " 107: 'catálogo padrão tesouro direto',\n",
       " 108: 'sparta premium fic firf referenciado di',\n",
       " 109: 'kinea chronos fim',\n",
       " 110: 'ibiuna long short stls fic fim',\n",
       " 111: 'brasil plural créd corp ii fic rf cp lp',\n",
       " 112: 'ca indosuez grand vitesse firf cp',\n",
       " 113: 'capitânia premium fic firf cp',\n",
       " 114: 'paineiras hedge ii fic fim',\n",
       " 115: 'verde am unique long bias fic fia',\n",
       " 116: 'rb capital deb incentivadas fic fim cp',\n",
       " 117: 'bradesco asset fic rf referenciado di',\n",
       " 118: 'grou valor fic fia',\n",
       " 119: 'icatu vanguarda ações ibx fi',\n",
       " 120: 'solana long and short fic fim',\n",
       " 121: 'porto seguro juro real fic fi rf lp',\n",
       " 122: 'trigono delphos income fic fia',\n",
       " 123: 'perfin foresight institucional fic fia',\n",
       " 124: 'occam fundo de investimento cambial',\n",
       " 125: 'btg pactual absoluto institucional fia',\n",
       " 126: 'vista fia',\n",
       " 127: 'moat capital equity hedge fic fim',\n",
       " 128: 'novus ações institucional fic fia',\n",
       " 129: 'sparta debentures fic fim rf cp',\n",
       " 130: 'porto seguro alocação fic fim',\n",
       " 131: 'bradesco asset fic fia small caps',\n",
       " 132: 'az quest azimut impacto fic fim cp',\n",
       " 133: 'az quest equity hedge fic fim',\n",
       " 134: 'fator ações fic fia',\n",
       " 135: 'arx target institucional fim',\n",
       " 136: 'arx especial macro fic fim',\n",
       " 137: 'kinea arkhe fim',\n",
       " 138: 'squadra long-only fic fia',\n",
       " 139: 'truxt i valor institucional fic fia',\n",
       " 140: 'devant audax fim cp',\n",
       " 141: 'ibiuna hedge sth fic fim',\n",
       " 142: 'pacifico macro fic fim',\n",
       " 143: 'absolute pace long biased fic fia',\n",
       " 144: 'iridium apollo firf cp lp',\n",
       " 145: 'squadra long-biased fic fia',\n",
       " 146: 'gauss income fic fi rf cp',\n",
       " 147: 'brasil plural high yield firf cp',\n",
       " 148: 'fundamenta selecao fic fim cp',\n",
       " 149: 'icatu vanguarda fic fi inflação longa rf',\n",
       " 150: 'ca indosuez vitesse firf cp',\n",
       " 151: 'gauss fic fim',\n",
       " 152: 'mzk dinâmico fic fim',\n",
       " 153: 'trigono verbier  fia',\n",
       " 154: 'kadima ii fic fim',\n",
       " 155: 'luminus fia',\n",
       " 156: 'bradesco asset fic fia long only',\n",
       " 157: 'vinland long only fic fia',\n",
       " 158: 'nest absolute return fim',\n",
       " 159: 'novus capital macro fic fim',\n",
       " 160: 'arx denali firf cp',\n",
       " 161: 'studio fic fia',\n",
       " 162: 'porto seguro fi rf ref di credito privad',\n",
       " 163: 'canvas dakar long bias fic fim',\n",
       " 164: 'reach fundo de investimento de acoes',\n",
       " 165: 'sparta debentures incentivadas ii fic rf',\n",
       " 166: 'rps fic fia selection',\n",
       " 167: 'hix capital institucional fia',\n",
       " 168: 'moat capital fic fia',\n",
       " 169: 'athena total return ii fic fia',\n",
       " 170: 'ibiuna hedge fic fim',\n",
       " 171: 'butia fundamental fic fia',\n",
       " 172: 'ibiuna long biased fic fim',\n",
       " 173: 'claritas valor feeder fia',\n",
       " 174: 'canvas classic ii fic fim',\n",
       " 175: 'rio bravo apollo fic fim',\n",
       " 176: 'icatu vanguarda dividendos fia',\n",
       " 177: 'az quest altro fic fim cp',\n",
       " 178: 'af invest minas fia',\n",
       " 179: 'opportunity long biased fic fim',\n",
       " 180: 'studio 30 fic fia',\n",
       " 181: 'sharp long biased feeder fic fia',\n",
       " 182: 'icatu vanguarda fic fi inflação curta rf',\n",
       " 183: 'occam equity hedge fic fim',\n",
       " 184: 'claritas quant fic fim',\n",
       " 185: 'occam long & short plus fic fim',\n",
       " 186: 'kinea absoluto fi rf lp',\n",
       " 187: 'real investor  fia',\n",
       " 188: 'canvas enduro ii fic fim',\n",
       " 189: 'occam fic fia',\n",
       " 190: 'rio bravo crédito privado firf',\n",
       " 191: 'sharp equity value institucional fia',\n",
       " 192: 'apex infinity 8 long biased fic fia',\n",
       " 193: 'sharp equity value feeder fic fia',\n",
       " 194: 'polo macro fim',\n",
       " 195: 'az quest deb incentivadas fic fim cp',\n",
       " 196: 'apex long biased fic fim',\n",
       " 197: 'btg pactual discovery fim',\n",
       " 198: 'mauá macro fic fim',\n",
       " 199: 'truxt i valor fic fia',\n",
       " 200: 'franklin valor e liquidez fvl fic fia',\n",
       " 201: 'forpus ações fic fia',\n",
       " 202: 'trancoso ibovespa fic fia',\n",
       " 203: 'capitânia top cp fic fi rf',\n",
       " 204: 'bradesco asset fic fia dividendos',\n",
       " 205: 'módulo institucional fic fia bdr nível i',\n",
       " 206: 'kiron institucional fia',\n",
       " 207: 'bahia am fic de fim',\n",
       " 208: 'saga fia',\n",
       " 209: 'atlas one fic fia',\n",
       " 210: 'novus retorno absoluto fic fim',\n",
       " 211: 'neo navitas b fic fia',\n",
       " 212: 'arx long short fic fim',\n",
       " 213: 'nw3 event driven fic fim',\n",
       " 214: 'polo long bias fim',\n",
       " 215: 'perfin equity hedge 15 fic fim',\n",
       " 216: 'btg pactual credito corp 30 fic rf cp lp',\n",
       " 217: 'tavola absoluto fim',\n",
       " 218: 'vinland macro fic fim',\n",
       " 219: 'sul américa excellence fi rf cp',\n",
       " 220: 'arx long term fic fia',\n",
       " 221: 'claritas total return fic fim',\n",
       " 222: 'tavola long & short fim',\n",
       " 223: 'sul américa rf ativo fi lp',\n",
       " 224: 'fator portfolio plus fic fim',\n",
       " 225: 'ca indosuez avant garde feeder 1 fic fim',\n",
       " 226: 'fator sinergia fia',\n",
       " 227: 'pacifico ações fic fia',\n",
       " 228: 'trafalgar royal long bias latam fic fia',\n",
       " 229: 'vinland long bias fic fim',\n",
       " 230: 'franklin k2 alternative strategies fic f',\n",
       " 231: 'kapitalo alpha global fic fim',\n",
       " 232: 'tb itacare fundo de investimento rf lp',\n",
       " 233: 'quasar advantage firf cp lp',\n",
       " 234: 'claritas hedge fic fim lp',\n",
       " 235: 'apollo fim cp',\n",
       " 236: 'porto seguro macro fic fim',\n",
       " 237: 'bradesco asset fic fia crescimento',\n",
       " 238: 'ca indosuez béton fic fim',\n",
       " 239: 'az quest small mid caps fic fia',\n",
       " 240: 'arx vinson fundo de investimento rf cp',\n",
       " 241: 'tork long only institucional fic fia',\n",
       " 242: 'dlm hedge moderado fim cp'}"
      ]
     },
     "execution_count": 111,
     "metadata": {},
     "output_type": "execute_result"
    }
   ],
   "source": [
    "dict_produtos"
   ]
  }
 ],
 "metadata": {
  "colab": {
   "collapsed_sections": [],
   "name": "eda-hackathon-trilha-usuario.ipynb",
   "provenance": [],
   "toc_visible": true
  },
  "kernelspec": {
   "display_name": "Python 3",
   "language": "python",
   "name": "python3"
  },
  "language_info": {
   "codemirror_mode": {
    "name": "ipython",
    "version": 3
   },
   "file_extension": ".py",
   "mimetype": "text/x-python",
   "name": "python",
   "nbconvert_exporter": "python",
   "pygments_lexer": "ipython3",
   "version": "3.7.4"
  }
 },
 "nbformat": 4,
 "nbformat_minor": 4
}
